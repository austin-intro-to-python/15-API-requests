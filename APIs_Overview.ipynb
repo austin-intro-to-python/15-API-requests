{
 "cells": [
  {
   "cell_type": "markdown",
   "metadata": {
    "id": "VZNkii6dcXIU"
   },
   "source": [
    "Author: MJ Rossetti ([github](https://github.com/s2t2) | [linkedin](https://linkedin/in/mikerossetti))\n",
    "\n",
    "See also: [Prof Rossetti's Python Materials](https://github.com/prof-rossetti/intro-to-python)\n"
   ]
  },
  {
   "cell_type": "markdown",
   "metadata": {
    "id": "tDa9QOX3o1cK"
   },
   "source": [
    "# Notes"
   ]
  },
  {
   "cell_type": "markdown",
   "metadata": {
    "id": "ePjSNvAuo4XI"
   },
   "source": [
    "## APIs\n",
    "\n",
    "**Application Programming Interfaces (APIs)** provide programmatic access to data. To use them, we request data from specified URLs provided by the API.\n",
    "\n",
    "For example, we could manually login to Twitter.com, and manually fill out and submit a web form to create a new Tweet. But alternatively we could develop a Python program to do this.\n",
    "\n",
    "This notebook provides example demos for using various APIs of interest. \n",
    "\n",
    "## Fetching Data from APIs vs Web Pages\n",
    "\n",
    "We can request data from web pages, so why would we use APIs?\n",
    "\n",
    "Mainly because APIs are **less fragile**. APIs provide guarantees about the data, whereas a web developer can change the structure and markup of their web page at any time - if they do it could break our programs.\n",
    "\n",
    "\n",
    "## API Investigation Process\n",
    "\n",
    "After searching the Internet for an API of interest, you MUST **consult the API documentation** to learn:\n",
    "  + how it wants you to authenticate (as necessary), \n",
    "  + which URLs (i.e. \"endpoints\") to make requests to, and   \n",
    "  + what the response data structures look like.\n",
    "\n",
    "Often, the response data will be a nested JSON object which may be hard, or intimidating to parse. Don't worry, just follow this process:\n",
    "\n",
    "  1. First, identify which **URL \"endpoint\"** you'd like to make a request to.\n",
    "  2. Second, make a preliminary **request in the browser**, if possible. The goal is to visually observe the response data structure. \n",
    "  3. Optionally copy the data into a [JSON pretty-formatting tool](https://jsonformatter.org/json-pretty-print) to help you visually inspect it, and learn its structure. \n",
    "  4. Write Python to make a **programmatic request** for the data.\n",
    "  5. Write more Python to **explore and process the data**. JSON data is like a nested combination of list and dictionary objects. Work your way down one step at a time, starting from the top level.\n",
    "\n",
    "\n",
    "## API Response Data Formats\n",
    "\n",
    "We use different request and parsing strategies, based on what format the expected response data is in.\n",
    "\n",
    "### JSON Data\n",
    "\n",
    "\n",
    "1. Make a request for the data using the [`requests` package](https://github.com/prof-rossetti/intro-to-python/blob/main/notes/python/packages/requests.md). Pass the url to the `requests.get` function, and the result will be a string datatype.\n",
    "2. Use the [`json` module](https://github.com/prof-rossetti/intro-to-python/blob/main/notes/python/modules/json.md\n",
    " ) to parse the resulting JSON-looking string.\n",
    "\n",
    "### CSV Data\n",
    "\n",
    "1. Make a request for the data using the [`pandas` package](https://github.com/prof-rossetti/intro-to-python/blob/main/notes/python/packages/pandas.md). Pass the url to the `pandas.read_csv` function, and the result will be a `pandas.DataFrame` object, which is easy to work with.\n",
    "2. That's it! No need to process any nested structures.\n",
    "\n",
    "### HTML Data\n",
    "\n",
    "1. Make a request for a web page using [`requests` package](https://github.com/prof-rossetti/intro-to-python/blob/main/notes/python/packages/requests.md). Pass the url to the `requests.get` function, and the result will be a string datatype.\n",
    "2. Use the [`BeautifulSoup` package](https://github.com/prof-rossetti/intro-to-python/blob/main/notes/python/packages/beautifulsoup.md\n",
    " ) to parse the resulting HTML-looking string.\n",
    "\n"
   ]
  },
  {
   "cell_type": "markdown",
   "metadata": {
    "id": "rO_zXCBDo6FT"
   },
   "source": [
    "# Demos"
   ]
  },
  {
   "cell_type": "markdown",
   "metadata": {
    "id": "QAlr5sCZ8DCH"
   },
   "source": [
    "## The CocktailDB API (Drinks)"
   ]
  },
  {
   "cell_type": "markdown",
   "metadata": {
    "id": "ZA9LWC_19UPh"
   },
   "source": [
    "Notes:\n",
    "  + Provides information about drinks, in JSON format. \n",
    "  + Uses API Key authentication, passed via URL parameters. Demo key is \"1\".\n",
    "\n",
    "References:\n",
    "  + https://www.thecocktaildb.com/api.php\n",
    "\n",
    "Example URL:\n",
    "  + https://www.thecocktaildb.com/api/json/v1/1/filter.php?a=Non_Alcoholic\n",
    "  + www.thecocktaildb.com/api/json/v1/1/lookup.php?i=11007"
   ]
  },
  {
   "cell_type": "code",
   "execution_count": null,
   "metadata": {
    "colab": {
     "base_uri": "https://localhost:8080/",
     "height": 1000
    },
    "id": "zMA6p8kX8C0P",
    "outputId": "df96542e-8278-40bd-b98a-17f8e46c51a8"
   },
   "outputs": [
    {
     "name": "stdout",
     "output_type": "stream",
     "text": [
      "<class 'requests.models.Response'>\n",
      "200\n",
      "<class 'str'>\n",
      "<class 'dict'>\n",
      "-------------\n",
      "Afterglow 12560\n"
     ]
    },
    {
     "data": {
      "text/html": [
       "<img src=\"https://www.thecocktaildb.com/images/media/drink/vuquyv1468876052.jpg\" height=\"64\"/>"
      ],
      "text/plain": [
       "<IPython.core.display.Image object>"
      ]
     },
     "metadata": {},
     "output_type": "display_data"
    },
    {
     "name": "stdout",
     "output_type": "stream",
     "text": [
      "-------------\n",
      "Alice Cocktail 12562\n"
     ]
    },
    {
     "data": {
      "text/html": [
       "<img src=\"https://www.thecocktaildb.com/images/media/drink/qyqtpv1468876144.jpg\" height=\"64\"/>"
      ],
      "text/plain": [
       "<IPython.core.display.Image object>"
      ]
     },
     "metadata": {},
     "output_type": "display_data"
    },
    {
     "name": "stdout",
     "output_type": "stream",
     "text": [
      "-------------\n",
      "Aloha Fruit punch 12862\n"
     ]
    },
    {
     "data": {
      "text/html": [
       "<img src=\"https://www.thecocktaildb.com/images/media/drink/wsyvrt1468876267.jpg\" height=\"64\"/>"
      ],
      "text/plain": [
       "<IPython.core.display.Image object>"
      ]
     },
     "metadata": {},
     "output_type": "display_data"
    },
    {
     "name": "stdout",
     "output_type": "stream",
     "text": [
      "-------------\n",
      "Apello 15106\n"
     ]
    },
    {
     "data": {
      "text/html": [
       "<img src=\"https://www.thecocktaildb.com/images/media/drink/uptxtv1468876415.jpg\" height=\"64\"/>"
      ],
      "text/plain": [
       "<IPython.core.display.Image object>"
      ]
     },
     "metadata": {},
     "output_type": "display_data"
    },
    {
     "name": "stdout",
     "output_type": "stream",
     "text": [
      "-------------\n",
      "Apple Berry Smoothie 12710\n"
     ]
    },
    {
     "data": {
      "text/html": [
       "<img src=\"https://www.thecocktaildb.com/images/media/drink/xwqvur1468876473.jpg\" height=\"64\"/>"
      ],
      "text/plain": [
       "<IPython.core.display.Image object>"
      ]
     },
     "metadata": {},
     "output_type": "display_data"
    },
    {
     "name": "stdout",
     "output_type": "stream",
     "text": [
      "-------------\n",
      "Apple Karate 12564\n"
     ]
    },
    {
     "data": {
      "text/html": [
       "<img src=\"https://www.thecocktaildb.com/images/media/drink/syusvw1468876634.jpg\" height=\"64\"/>"
      ],
      "text/plain": [
       "<IPython.core.display.Image object>"
      ]
     },
     "metadata": {},
     "output_type": "display_data"
    },
    {
     "name": "stdout",
     "output_type": "stream",
     "text": [
      "-------------\n",
      "Banana Cantaloupe Smoothie 12708\n"
     ]
    },
    {
     "data": {
      "text/html": [
       "<img src=\"https://www.thecocktaildb.com/images/media/drink/uqxqsy1468876703.jpg\" height=\"64\"/>"
      ],
      "text/plain": [
       "<IPython.core.display.Image object>"
      ]
     },
     "metadata": {},
     "output_type": "display_data"
    },
    {
     "name": "stdout",
     "output_type": "stream",
     "text": [
      "-------------\n",
      "Banana Milk Shake 12654\n"
     ]
    },
    {
     "data": {
      "text/html": [
       "<img src=\"https://www.thecocktaildb.com/images/media/drink/rtwwsx1472720307.jpg\" height=\"64\"/>"
      ],
      "text/plain": [
       "<IPython.core.display.Image object>"
      ]
     },
     "metadata": {},
     "output_type": "display_data"
    },
    {
     "name": "stdout",
     "output_type": "stream",
     "text": [
      "-------------\n",
      "Banana Strawberry Shake 12656\n"
     ]
    },
    {
     "data": {
      "text/html": [
       "<img src=\"https://www.thecocktaildb.com/images/media/drink/vqquwx1472720634.jpg\" height=\"64\"/>"
      ],
      "text/plain": [
       "<IPython.core.display.Image object>"
      ]
     },
     "metadata": {},
     "output_type": "display_data"
    },
    {
     "name": "stdout",
     "output_type": "stream",
     "text": [
      "-------------\n",
      "Banana Strawberry Shake Daiquiri 12658\n"
     ]
    },
    {
     "data": {
      "text/html": [
       "<img src=\"https://www.thecocktaildb.com/images/media/drink/uvypss1472720581.jpg\" height=\"64\"/>"
      ],
      "text/plain": [
       "<IPython.core.display.Image object>"
      ]
     },
     "metadata": {},
     "output_type": "display_data"
    },
    {
     "name": "stdout",
     "output_type": "stream",
     "text": [
      "-------------\n",
      "Bora Bora 12572\n"
     ]
    },
    {
     "data": {
      "text/html": [
       "<img src=\"https://www.thecocktaildb.com/images/media/drink/xwuqvw1473201811.jpg\" height=\"64\"/>"
      ],
      "text/plain": [
       "<IPython.core.display.Image object>"
      ]
     },
     "metadata": {},
     "output_type": "display_data"
    },
    {
     "name": "stdout",
     "output_type": "stream",
     "text": [
      "-------------\n",
      "Castillian Hot Chocolate 12730\n"
     ]
    },
    {
     "data": {
      "text/html": [
       "<img src=\"https://www.thecocktaildb.com/images/media/drink/3nbu4a1487603196.jpg\" height=\"64\"/>"
      ],
      "text/plain": [
       "<IPython.core.display.Image object>"
      ]
     },
     "metadata": {},
     "output_type": "display_data"
    },
    {
     "name": "stdout",
     "output_type": "stream",
     "text": [
      "-------------\n",
      "Chocolate Beverage 12732\n"
     ]
    },
    {
     "data": {
      "text/html": [
       "<img src=\"https://www.thecocktaildb.com/images/media/drink/jbqrhv1487603186.jpg\" height=\"64\"/>"
      ],
      "text/plain": [
       "<IPython.core.display.Image object>"
      ]
     },
     "metadata": {},
     "output_type": "display_data"
    },
    {
     "name": "stdout",
     "output_type": "stream",
     "text": [
      "-------------\n",
      "Chocolate Drink 12734\n"
     ]
    },
    {
     "data": {
      "text/html": [
       "<img src=\"https://www.thecocktaildb.com/images/media/drink/q7w4xu1487603180.jpg\" height=\"64\"/>"
      ],
      "text/plain": [
       "<IPython.core.display.Image object>"
      ]
     },
     "metadata": {},
     "output_type": "display_data"
    },
    {
     "name": "stdout",
     "output_type": "stream",
     "text": [
      "-------------\n",
      "Coke and Drops 17108\n"
     ]
    },
    {
     "data": {
      "text/html": [
       "<img src=\"https://www.thecocktaildb.com/images/media/drink/yrtxxp1472719367.jpg\" height=\"64\"/>"
      ],
      "text/plain": [
       "<IPython.core.display.Image object>"
      ]
     },
     "metadata": {},
     "output_type": "display_data"
    },
    {
     "name": "stdout",
     "output_type": "stream",
     "text": [
      "-------------\n",
      "Cranberry Punch 12890\n"
     ]
    },
    {
     "data": {
      "text/html": [
       "<img src=\"https://www.thecocktaildb.com/images/media/drink/mzgaqu1504389248.jpg\" height=\"64\"/>"
      ],
      "text/plain": [
       "<IPython.core.display.Image object>"
      ]
     },
     "metadata": {},
     "output_type": "display_data"
    },
    {
     "name": "stdout",
     "output_type": "stream",
     "text": [
      "-------------\n",
      "Drinking Chocolate 12736\n"
     ]
    },
    {
     "data": {
      "text/html": [
       "<img src=\"https://www.thecocktaildb.com/images/media/drink/u6jrdf1487603173.jpg\" height=\"64\"/>"
      ],
      "text/plain": [
       "<IPython.core.display.Image object>"
      ]
     },
     "metadata": {},
     "output_type": "display_data"
    },
    {
     "name": "stdout",
     "output_type": "stream",
     "text": [
      "-------------\n",
      "Egg Cream 12668\n"
     ]
    },
    {
     "data": {
      "text/html": [
       "<img src=\"https://www.thecocktaildb.com/images/media/drink/mvis731484430445.jpg\" height=\"64\"/>"
      ],
      "text/plain": [
       "<IPython.core.display.Image object>"
      ]
     },
     "metadata": {},
     "output_type": "display_data"
    },
    {
     "name": "stdout",
     "output_type": "stream",
     "text": [
      "-------------\n",
      "Frappé 12768\n"
     ]
    },
    {
     "data": {
      "text/html": [
       "<img src=\"https://www.thecocktaildb.com/images/media/drink/vqwryq1441245927.jpg\" height=\"64\"/>"
      ],
      "text/plain": [
       "<IPython.core.display.Image object>"
      ]
     },
     "metadata": {},
     "output_type": "display_data"
    },
    {
     "name": "stdout",
     "output_type": "stream",
     "text": [
      "-------------\n",
      "Fruit Cooler 12670\n"
     ]
    },
    {
     "data": {
      "text/html": [
       "<img src=\"https://www.thecocktaildb.com/images/media/drink/i3tfn31484430499.jpg\" height=\"64\"/>"
      ],
      "text/plain": [
       "<IPython.core.display.Image object>"
      ]
     },
     "metadata": {},
     "output_type": "display_data"
    },
    {
     "name": "stdout",
     "output_type": "stream",
     "text": [
      "-------------\n",
      "Fruit Flip-Flop 12672\n"
     ]
    },
    {
     "data": {
      "text/html": [
       "<img src=\"https://www.thecocktaildb.com/images/media/drink/nfdx6p1484430633.jpg\" height=\"64\"/>"
      ],
      "text/plain": [
       "<IPython.core.display.Image object>"
      ]
     },
     "metadata": {},
     "output_type": "display_data"
    },
    {
     "name": "stdout",
     "output_type": "stream",
     "text": [
      "-------------\n",
      "Fruit Shake 12674\n"
     ]
    },
    {
     "data": {
      "text/html": [
       "<img src=\"https://www.thecocktaildb.com/images/media/drink/q0fg2m1484430704.jpg\" height=\"64\"/>"
      ],
      "text/plain": [
       "<IPython.core.display.Image object>"
      ]
     },
     "metadata": {},
     "output_type": "display_data"
    },
    {
     "name": "stdout",
     "output_type": "stream",
     "text": [
      "-------------\n",
      "Grape lemon pineapple Smoothie 12712\n"
     ]
    },
    {
     "data": {
      "text/html": [
       "<img src=\"https://www.thecocktaildb.com/images/media/drink/54z5h71487603583.jpg\" height=\"64\"/>"
      ],
      "text/plain": [
       "<IPython.core.display.Image object>"
      ]
     },
     "metadata": {},
     "output_type": "display_data"
    },
    {
     "name": "stdout",
     "output_type": "stream",
     "text": [
      "-------------\n",
      "Holloween Punch 12954\n"
     ]
    },
    {
     "data": {
      "text/html": [
       "<img src=\"https://www.thecocktaildb.com/images/media/drink/lfeoe41504888925.jpg\" height=\"64\"/>"
      ],
      "text/plain": [
       "<IPython.core.display.Image object>"
      ]
     },
     "metadata": {},
     "output_type": "display_data"
    },
    {
     "name": "stdout",
     "output_type": "stream",
     "text": [
      "-------------\n",
      "Hot Chocolate to Die for 12738\n"
     ]
    },
    {
     "data": {
      "text/html": [
       "<img src=\"https://www.thecocktaildb.com/images/media/drink/0lrmjp1487603166.jpg\" height=\"64\"/>"
      ],
      "text/plain": [
       "<IPython.core.display.Image object>"
      ]
     },
     "metadata": {},
     "output_type": "display_data"
    },
    {
     "name": "stdout",
     "output_type": "stream",
     "text": [
      "-------------\n",
      "Iced Coffee 12770\n"
     ]
    },
    {
     "data": {
      "text/html": [
       "<img src=\"https://www.thecocktaildb.com/images/media/drink/ytprxy1454513855.jpg\" height=\"64\"/>"
      ],
      "text/plain": [
       "<IPython.core.display.Image object>"
      ]
     },
     "metadata": {},
     "output_type": "display_data"
    },
    {
     "name": "stdout",
     "output_type": "stream",
     "text": [
      "-------------\n",
      "Ipamena 17176\n"
     ]
    },
    {
     "data": {
      "text/html": [
       "<img src=\"https://www.thecocktaildb.com/images/media/drink/yswuwp1469090992.jpg\" height=\"64\"/>"
      ],
      "text/plain": [
       "<IPython.core.display.Image object>"
      ]
     },
     "metadata": {},
     "output_type": "display_data"
    },
    {
     "name": "stdout",
     "output_type": "stream",
     "text": [
      "-------------\n",
      "Just a Moonmint 12688\n"
     ]
    },
    {
     "data": {
      "text/html": [
       "<img src=\"https://www.thecocktaildb.com/images/media/drink/znald61487604035.jpg\" height=\"64\"/>"
      ],
      "text/plain": [
       "<IPython.core.display.Image object>"
      ]
     },
     "metadata": {},
     "output_type": "display_data"
    },
    {
     "name": "stdout",
     "output_type": "stream",
     "text": [
      "-------------\n",
      "Kill the cold Smoothie 12720\n"
     ]
    },
    {
     "data": {
      "text/html": [
       "<img src=\"https://www.thecocktaildb.com/images/media/drink/7j1z2e1487603414.jpg\" height=\"64\"/>"
      ],
      "text/plain": [
       "<IPython.core.display.Image object>"
      ]
     },
     "metadata": {},
     "output_type": "display_data"
    },
    {
     "name": "stdout",
     "output_type": "stream",
     "text": [
      "-------------\n",
      "Kiwi Papaya Smoothie 12714\n"
     ]
    },
    {
     "data": {
      "text/html": [
       "<img src=\"https://www.thecocktaildb.com/images/media/drink/jogv4w1487603571.jpg\" height=\"64\"/>"
      ],
      "text/plain": [
       "<IPython.core.display.Image object>"
      ]
     },
     "metadata": {},
     "output_type": "display_data"
    },
    {
     "name": "stdout",
     "output_type": "stream",
     "text": [
      "-------------\n",
      "Lassi - A South Indian Drink 12690\n"
     ]
    },
    {
     "data": {
      "text/html": [
       "<img src=\"https://www.thecocktaildb.com/images/media/drink/iq6scx1487603980.jpg\" height=\"64\"/>"
      ],
      "text/plain": [
       "<IPython.core.display.Image object>"
      ]
     },
     "metadata": {},
     "output_type": "display_data"
    },
    {
     "name": "stdout",
     "output_type": "stream",
     "text": [
      "-------------\n",
      "Lassi - Mango 12698\n"
     ]
    },
    {
     "data": {
      "text/html": [
       "<img src=\"https://www.thecocktaildb.com/images/media/drink/1bw6sd1487603816.jpg\" height=\"64\"/>"
      ],
      "text/plain": [
       "<IPython.core.display.Image object>"
      ]
     },
     "metadata": {},
     "output_type": "display_data"
    },
    {
     "name": "stdout",
     "output_type": "stream",
     "text": [
      "-------------\n",
      "Lassi - Sweet 12696\n"
     ]
    },
    {
     "data": {
      "text/html": [
       "<img src=\"https://www.thecocktaildb.com/images/media/drink/9jeifz1487603885.jpg\" height=\"64\"/>"
      ],
      "text/plain": [
       "<IPython.core.display.Image object>"
      ]
     },
     "metadata": {},
     "output_type": "display_data"
    },
    {
     "name": "stdout",
     "output_type": "stream",
     "text": [
      "-------------\n",
      "Lassi Khara 12692\n"
     ]
    },
    {
     "data": {
      "text/html": [
       "<img src=\"https://www.thecocktaildb.com/images/media/drink/m1suzm1487603970.jpg\" height=\"64\"/>"
      ],
      "text/plain": [
       "<IPython.core.display.Image object>"
      ]
     },
     "metadata": {},
     "output_type": "display_data"
    },
    {
     "name": "stdout",
     "output_type": "stream",
     "text": [
      "-------------\n",
      "Lassi Raita 12694\n"
     ]
    },
    {
     "data": {
      "text/html": [
       "<img src=\"https://www.thecocktaildb.com/images/media/drink/s4x0qj1487603933.jpg\" height=\"64\"/>"
      ],
      "text/plain": [
       "<IPython.core.display.Image object>"
      ]
     },
     "metadata": {},
     "output_type": "display_data"
    },
    {
     "name": "stdout",
     "output_type": "stream",
     "text": [
      "-------------\n",
      "Lemouroudji 12702\n"
     ]
    },
    {
     "data": {
      "text/html": [
       "<img src=\"https://www.thecocktaildb.com/images/media/drink/eirmo71487603745.jpg\" height=\"64\"/>"
      ],
      "text/plain": [
       "<IPython.core.display.Image object>"
      ]
     },
     "metadata": {},
     "output_type": "display_data"
    },
    {
     "name": "stdout",
     "output_type": "stream",
     "text": [
      "-------------\n",
      "Limeade 12704\n"
     ]
    },
    {
     "data": {
      "text/html": [
       "<img src=\"https://www.thecocktaildb.com/images/media/drink/5jdp5r1487603680.jpg\" height=\"64\"/>"
      ],
      "text/plain": [
       "<IPython.core.display.Image object>"
      ]
     },
     "metadata": {},
     "output_type": "display_data"
    },
    {
     "name": "stdout",
     "output_type": "stream",
     "text": [
      "-------------\n",
      "Mango Orange Smoothie 12716\n"
     ]
    },
    {
     "data": {
      "text/html": [
       "<img src=\"https://www.thecocktaildb.com/images/media/drink/vdp2do1487603520.jpg\" height=\"64\"/>"
      ],
      "text/plain": [
       "<IPython.core.display.Image object>"
      ]
     },
     "metadata": {},
     "output_type": "display_data"
    },
    {
     "name": "stdout",
     "output_type": "stream",
     "text": [
      "-------------\n",
      "Masala Chai 12774\n"
     ]
    },
    {
     "data": {
      "text/html": [
       "<img src=\"https://www.thecocktaildb.com/images/media/drink/uyrpww1441246384.jpg\" height=\"64\"/>"
      ],
      "text/plain": [
       "<IPython.core.display.Image object>"
      ]
     },
     "metadata": {},
     "output_type": "display_data"
    },
    {
     "name": "stdout",
     "output_type": "stream",
     "text": [
      "-------------\n",
      "Melya 12776\n"
     ]
    },
    {
     "data": {
      "text/html": [
       "<img src=\"https://www.thecocktaildb.com/images/media/drink/xwtptq1441247579.jpg\" height=\"64\"/>"
      ],
      "text/plain": [
       "<IPython.core.display.Image object>"
      ]
     },
     "metadata": {},
     "output_type": "display_data"
    },
    {
     "name": "stdout",
     "output_type": "stream",
     "text": [
      "-------------\n",
      "Microwave Hot Cocoa 12744\n"
     ]
    },
    {
     "data": {
      "text/html": [
       "<img src=\"https://www.thecocktaildb.com/images/media/drink/8y4x5f1487603151.jpg\" height=\"64\"/>"
      ],
      "text/plain": [
       "<IPython.core.display.Image object>"
      ]
     },
     "metadata": {},
     "output_type": "display_data"
    },
    {
     "name": "stdout",
     "output_type": "stream",
     "text": [
      "-------------\n",
      "Nuked Hot Chocolate 12746\n"
     ]
    },
    {
     "data": {
      "text/html": [
       "<img src=\"https://www.thecocktaildb.com/images/media/drink/xcu6nb1487603142.jpg\" height=\"64\"/>"
      ],
      "text/plain": [
       "<IPython.core.display.Image object>"
      ]
     },
     "metadata": {},
     "output_type": "display_data"
    },
    {
     "name": "stdout",
     "output_type": "stream",
     "text": [
      "-------------\n",
      "Orange Scented Hot Chocolate 12748\n"
     ]
    },
    {
     "data": {
      "text/html": [
       "<img src=\"https://www.thecocktaildb.com/images/media/drink/hdzwrh1487603131.jpg\" height=\"64\"/>"
      ],
      "text/plain": [
       "<IPython.core.display.Image object>"
      ]
     },
     "metadata": {},
     "output_type": "display_data"
    },
    {
     "name": "stdout",
     "output_type": "stream",
     "text": [
      "-------------\n",
      "Orangeade 12618\n"
     ]
    },
    {
     "data": {
      "text/html": [
       "<img src=\"https://www.thecocktaildb.com/images/media/drink/ytsxxw1441167732.jpg\" height=\"64\"/>"
      ],
      "text/plain": [
       "<IPython.core.display.Image object>"
      ]
     },
     "metadata": {},
     "output_type": "display_data"
    },
    {
     "name": "stdout",
     "output_type": "stream",
     "text": [
      "-------------\n",
      "Pineapple Gingerale Smoothie 12718\n"
     ]
    },
    {
     "data": {
      "text/html": [
       "<img src=\"https://www.thecocktaildb.com/images/media/drink/eg9i1d1487603469.jpg\" height=\"64\"/>"
      ],
      "text/plain": [
       "<IPython.core.display.Image object>"
      ]
     },
     "metadata": {},
     "output_type": "display_data"
    },
    {
     "name": "stdout",
     "output_type": "stream",
     "text": [
      "-------------\n",
      "Pysch Vitamin Light 15092\n"
     ]
    },
    {
     "data": {
      "text/html": [
       "<img src=\"https://www.thecocktaildb.com/images/media/drink/xsqsxw1441553580.jpg\" height=\"64\"/>"
      ],
      "text/plain": [
       "<IPython.core.display.Image object>"
      ]
     },
     "metadata": {},
     "output_type": "display_data"
    },
    {
     "name": "stdout",
     "output_type": "stream",
     "text": [
      "-------------\n",
      "Rail Splitter 12630\n"
     ]
    },
    {
     "data": {
      "text/html": [
       "<img src=\"https://www.thecocktaildb.com/images/media/drink/stsuqq1441207660.jpg\" height=\"64\"/>"
      ],
      "text/plain": [
       "<IPython.core.display.Image object>"
      ]
     },
     "metadata": {},
     "output_type": "display_data"
    },
    {
     "name": "stdout",
     "output_type": "stream",
     "text": [
      "-------------\n",
      "Spanish chocolate 12750\n"
     ]
    },
    {
     "data": {
      "text/html": [
       "<img src=\"https://www.thecocktaildb.com/images/media/drink/pra8vt1487603054.jpg\" height=\"64\"/>"
      ],
      "text/plain": [
       "<IPython.core.display.Image object>"
      ]
     },
     "metadata": {},
     "output_type": "display_data"
    },
    {
     "name": "stdout",
     "output_type": "stream",
     "text": [
      "-------------\n",
      "Spiced Peach Punch 13032\n"
     ]
    },
    {
     "data": {
      "text/html": [
       "<img src=\"https://www.thecocktaildb.com/images/media/drink/qxvypq1468924331.jpg\" height=\"64\"/>"
      ],
      "text/plain": [
       "<IPython.core.display.Image object>"
      ]
     },
     "metadata": {},
     "output_type": "display_data"
    },
    {
     "name": "stdout",
     "output_type": "stream",
     "text": [
      "-------------\n",
      "Spiking coffee 12780\n"
     ]
    },
    {
     "data": {
      "text/html": [
       "<img src=\"https://www.thecocktaildb.com/images/media/drink/isql6y1487602375.jpg\" height=\"64\"/>"
      ],
      "text/plain": [
       "<IPython.core.display.Image object>"
      ]
     },
     "metadata": {},
     "output_type": "display_data"
    },
    {
     "name": "stdout",
     "output_type": "stream",
     "text": [
      "-------------\n",
      "Strawberry Lemonade 13036\n"
     ]
    },
    {
     "data": {
      "text/html": [
       "<img src=\"https://www.thecocktaildb.com/images/media/drink/spvvxp1468924425.jpg\" height=\"64\"/>"
      ],
      "text/plain": [
       "<IPython.core.display.Image object>"
      ]
     },
     "metadata": {},
     "output_type": "display_data"
    },
    {
     "name": "stdout",
     "output_type": "stream",
     "text": [
      "-------------\n",
      "Strawberry Shivers 12722\n"
     ]
    },
    {
     "data": {
      "text/html": [
       "<img src=\"https://www.thecocktaildb.com/images/media/drink/9h1vvt1487603404.jpg\" height=\"64\"/>"
      ],
      "text/plain": [
       "<IPython.core.display.Image object>"
      ]
     },
     "metadata": {},
     "output_type": "display_data"
    },
    {
     "name": "stdout",
     "output_type": "stream",
     "text": [
      "-------------\n",
      "Sweet Bananas 12724\n"
     ]
    },
    {
     "data": {
      "text/html": [
       "<img src=\"https://www.thecocktaildb.com/images/media/drink/sxpcj71487603345.jpg\" height=\"64\"/>"
      ],
      "text/plain": [
       "<IPython.core.display.Image object>"
      ]
     },
     "metadata": {},
     "output_type": "display_data"
    },
    {
     "name": "stdout",
     "output_type": "stream",
     "text": [
      "-------------\n",
      "Thai Coffee 12782\n"
     ]
    },
    {
     "data": {
      "text/html": [
       "<img src=\"https://www.thecocktaildb.com/images/media/drink/wquwxs1441247025.jpg\" height=\"64\"/>"
      ],
      "text/plain": [
       "<IPython.core.display.Image object>"
      ]
     },
     "metadata": {},
     "output_type": "display_data"
    },
    {
     "name": "stdout",
     "output_type": "stream",
     "text": [
      "-------------\n",
      "Thai Iced Coffee 12784\n"
     ]
    },
    {
     "data": {
      "text/html": [
       "<img src=\"https://www.thecocktaildb.com/images/media/drink/rqpypv1441245650.jpg\" height=\"64\"/>"
      ],
      "text/plain": [
       "<IPython.core.display.Image object>"
      ]
     },
     "metadata": {},
     "output_type": "display_data"
    },
    {
     "name": "stdout",
     "output_type": "stream",
     "text": [
      "-------------\n",
      "Thai Iced Tea 12786\n"
     ]
    },
    {
     "data": {
      "text/html": [
       "<img src=\"https://www.thecocktaildb.com/images/media/drink/trvwpu1441245568.jpg\" height=\"64\"/>"
      ],
      "text/plain": [
       "<IPython.core.display.Image object>"
      ]
     },
     "metadata": {},
     "output_type": "display_data"
    },
    {
     "name": "stdout",
     "output_type": "stream",
     "text": [
      "-------------\n",
      "Tomato Tang 12726\n"
     ]
    },
    {
     "data": {
      "text/html": [
       "<img src=\"https://www.thecocktaildb.com/images/media/drink/869qr81487603278.jpg\" height=\"64\"/>"
      ],
      "text/plain": [
       "<IPython.core.display.Image object>"
      ]
     },
     "metadata": {},
     "output_type": "display_data"
    },
    {
     "name": "stdout",
     "output_type": "stream",
     "text": [
      "-------------\n",
      "Yoghurt Cooler 12728\n"
     ]
    },
    {
     "data": {
      "text/html": [
       "<img src=\"https://www.thecocktaildb.com/images/media/drink/trttrv1441254466.jpg\" height=\"64\"/>"
      ],
      "text/plain": [
       "<IPython.core.display.Image object>"
      ]
     },
     "metadata": {},
     "output_type": "display_data"
    }
   ],
   "source": [
    "import requests\n",
    "import json\n",
    "from IPython.display import display, Image\n",
    "\n",
    "drinks_url = \"https://www.thecocktaildb.com/api/json/v1/1/filter.php?a=Non_Alcoholic\"\n",
    "\n",
    "drinks_response = requests.get(drinks_url)\n",
    "print(type(drinks_response)) #> Response\n",
    "print(drinks_response.status_code)\n",
    "\n",
    "print(type(drinks_response.text)) #> str\n",
    "\n",
    "drinks_data = json.loads(drinks_response.text)\n",
    "print(type(drinks_data)) #> dict\n",
    "\n",
    "for drink in drinks_data[\"drinks\"]:\n",
    "    #print(drink)\n",
    "    #print(type(drink))\n",
    "    #print(drink.keys())\n",
    "    print(\"-------------\")\n",
    "    print(drink[\"strDrink\"], drink[\"idDrink\"])\n",
    "    display(Image(url=drink[\"strDrinkThumb\"], height=64))\n"
   ]
  },
  {
   "cell_type": "code",
   "execution_count": null,
   "metadata": {
    "colab": {
     "base_uri": "https://localhost:8080/"
    },
    "id": "E7AP5gNeEtzf",
    "outputId": "bdcd91af-dcbd-45b6-a9ef-ec3694e7110b"
   },
   "outputs": [
    {
     "data": {
      "text/plain": [
       "{'dateModified': '2015-09-03 03:00:50',\n",
       " 'idDrink': '12784',\n",
       " 'strAlcoholic': 'Non alcoholic',\n",
       " 'strCategory': 'Coffee / Tea',\n",
       " 'strCreativeCommonsConfirmed': 'No',\n",
       " 'strDrink': 'Thai Iced Coffee',\n",
       " 'strDrinkAlternate': None,\n",
       " 'strDrinkThumb': 'https://www.thecocktaildb.com/images/media/drink/rqpypv1441245650.jpg',\n",
       " 'strGlass': 'Highball glass',\n",
       " 'strIBA': None,\n",
       " 'strImageAttribution': None,\n",
       " 'strImageSource': None,\n",
       " 'strIngredient1': 'Coffee',\n",
       " 'strIngredient10': None,\n",
       " 'strIngredient11': None,\n",
       " 'strIngredient12': None,\n",
       " 'strIngredient13': None,\n",
       " 'strIngredient14': None,\n",
       " 'strIngredient15': None,\n",
       " 'strIngredient2': 'Sugar',\n",
       " 'strIngredient3': 'Cream',\n",
       " 'strIngredient4': 'Cardamom',\n",
       " 'strIngredient5': None,\n",
       " 'strIngredient6': None,\n",
       " 'strIngredient7': None,\n",
       " 'strIngredient8': None,\n",
       " 'strIngredient9': None,\n",
       " 'strInstructions': 'Prepare a pot of coffee at a good European strength. In the ground coffee, add 2 or 3 freshly ground cardamom pods. Sweeten while hot, then cool quickly. Serve in highball glass over ice, with cream. To get the layered effect, place a spoon atop the coffee and pour the milk carefully into the spoon so that it floats on the top of the coffee.',\n",
       " 'strInstructionsDE': 'Bereite eine Kanne Kaffee mit guter europäischer Stärke zu. In den gemahlenen Kaffee 2 oder 3 frisch gemahlene Kardamomschoten geben. Im heißen Zustand süßen, dann schnell abkühlen lassen. In einem Highball-Glas über Eis mit Sahne servieren. Um den Schichteffekt zu erzielen, legen Sie einen Löffel auf den Kaffee und gießen Sie die Milch vorsichtig in den Löffel, so dass sie auf dem Kaffee schwimmt.',\n",
       " 'strInstructionsES': None,\n",
       " 'strInstructionsFR': None,\n",
       " 'strInstructionsIT': \"Nel caffè macinato aggiungere 2 o 3 cialde di cardamomo appena macinate.\\r\\nDolcificare quando è caldo, quindi raffreddare rapidamente.\\r\\nServire in bicchiere highball con ghiaccio, con panna.\\r\\nPer ottenere l'effetto a strati, posiziona un cucchiaio sopra il caffè e versa il latte con attenzione nel cucchiaio in modo che galleggi sulla parte superiore del caffè.\",\n",
       " 'strInstructionsZH-HANS': None,\n",
       " 'strInstructionsZH-HANT': None,\n",
       " 'strMeasure1': 'black',\n",
       " 'strMeasure10': None,\n",
       " 'strMeasure11': None,\n",
       " 'strMeasure12': None,\n",
       " 'strMeasure13': None,\n",
       " 'strMeasure14': None,\n",
       " 'strMeasure15': None,\n",
       " 'strMeasure2': None,\n",
       " 'strMeasure3': ' pods\\n',\n",
       " 'strMeasure4': None,\n",
       " 'strMeasure5': None,\n",
       " 'strMeasure6': None,\n",
       " 'strMeasure7': None,\n",
       " 'strMeasure8': None,\n",
       " 'strMeasure9': None,\n",
       " 'strTags': None,\n",
       " 'strVideo': None}"
      ]
     },
     "execution_count": 27,
     "metadata": {},
     "output_type": "execute_result"
    }
   ],
   "source": [
    "drink_id = \"12784\" # for example, see list of drink ids above\n",
    "\n",
    "ingreds_url = f\"https://www.thecocktaildb.com/api/json/v1/1/lookup.php?i={drink_id}\"\n",
    "\n",
    "ingreds_response = requests.get(ingreds_url)\n",
    "\n",
    "ingreds_data = json.loads(ingreds_response.text)\n",
    "\n",
    "ingreds_data[\"drinks\"][0]"
   ]
  },
  {
   "cell_type": "markdown",
   "metadata": {
    "id": "DCPWXpaco7Lt"
   },
   "source": [
    "## The Cat API (Cats)"
   ]
  },
  {
   "cell_type": "markdown",
   "metadata": {
    "id": "d1ar_ph9rM3T"
   },
   "source": [
    "Notes:\n",
    "\n",
    "  + Provides information about cats, in JSON format.   \n",
    "  + Uses API Key authentication, passed via URL params or **request headers**. \n",
    "\n",
    "References: \n",
    "  + https://docs.thecatapi.com\n",
    "  + https://docs.thecatapi.com/authentication\n",
    "  + https://docs.thecatapi.com/example-by-breed\n",
    "\n",
    "Example URL:\n",
    "  + https://api.thecatapi.com/v1/breeds\n",
    "  + https://api.thecatapi.com/v1/images/search?breed_ids=beng\n",
    "  "
   ]
  },
  {
   "cell_type": "code",
   "execution_count": null,
   "metadata": {
    "colab": {
     "base_uri": "https://localhost:8080/"
    },
    "id": "QJs3-Fh8oxpy",
    "outputId": "9ca15c03-c34d-4329-94a1-689fbff83f2e"
   },
   "outputs": [
    {
     "name": "stdout",
     "output_type": "stream",
     "text": [
      "Please provide your Cats API Key: ··········\n"
     ]
    }
   ],
   "source": [
    "from getpass import getpass \n",
    "\n",
    "CATS_API_KEY = getpass(\"Please provide your Cats API Key: \")"
   ]
  },
  {
   "cell_type": "code",
   "execution_count": null,
   "metadata": {
    "id": "cOlAX9XcsIMG"
   },
   "outputs": [],
   "source": [
    "import requests\n",
    "import json\n",
    "from IPython.display import Image, display\n",
    "from pandas import Series\n",
    "\n",
    "cats_url = \"https://api.thecatapi.com/v1/breeds\"\n",
    "\n",
    "cats_headers = {\"x-api-key\": CATS_API_KEY}\n",
    "\n",
    "cats_response = requests.get(cats_url, cats_headers)\n",
    "\n",
    "cats_data = json.loads(cats_response.text)\n"
   ]
  },
  {
   "cell_type": "code",
   "execution_count": null,
   "metadata": {
    "colab": {
     "base_uri": "https://localhost:8080/"
    },
    "id": "zXBVWwnIEJ9V",
    "outputId": "debf6609-bd4f-4ca1-fc26-7a5c7d468966"
   },
   "outputs": [
    {
     "name": "stdout",
     "output_type": "stream",
     "text": [
      "-----------------\n",
      "EXAMPLE CAT INFO:\n",
      "-----------------\n"
     ]
    },
    {
     "data": {
      "text/plain": [
       "{'adaptability': 5,\n",
       " 'affection_level': 5,\n",
       " 'alt_names': '',\n",
       " 'cfa_url': 'http://cfa.org/Breeds/BreedsAB/Abyssinian.aspx',\n",
       " 'child_friendly': 3,\n",
       " 'country_code': 'EG',\n",
       " 'country_codes': 'EG',\n",
       " 'description': 'The Abyssinian is easy to care for, and a joy to have in your home. They’re affectionate cats and love both people and other animals.',\n",
       " 'dog_friendly': 4,\n",
       " 'energy_level': 5,\n",
       " 'experimental': 0,\n",
       " 'grooming': 1,\n",
       " 'hairless': 0,\n",
       " 'health_issues': 2,\n",
       " 'hypoallergenic': 0,\n",
       " 'id': 'abys',\n",
       " 'image': {'height': 1445,\n",
       "  'id': '0XYvRd7oD',\n",
       "  'url': 'https://cdn2.thecatapi.com/images/0XYvRd7oD.jpg',\n",
       "  'width': 1204},\n",
       " 'indoor': 0,\n",
       " 'intelligence': 5,\n",
       " 'lap': 1,\n",
       " 'life_span': '14 - 15',\n",
       " 'name': 'Abyssinian',\n",
       " 'natural': 1,\n",
       " 'origin': 'Egypt',\n",
       " 'rare': 0,\n",
       " 'reference_image_id': '0XYvRd7oD',\n",
       " 'rex': 0,\n",
       " 'shedding_level': 2,\n",
       " 'short_legs': 0,\n",
       " 'social_needs': 5,\n",
       " 'stranger_friendly': 5,\n",
       " 'suppressed_tail': 0,\n",
       " 'temperament': 'Active, Energetic, Independent, Intelligent, Gentle',\n",
       " 'vcahospitals_url': 'https://vcahospitals.com/know-your-pet/cat-breeds/abyssinian',\n",
       " 'vetstreet_url': 'http://www.vetstreet.com/cats/abyssinian',\n",
       " 'vocalisation': 1,\n",
       " 'weight': {'imperial': '7  -  10', 'metric': '3 - 5'},\n",
       " 'wikipedia_url': 'https://en.wikipedia.org/wiki/Abyssinian_(cat)'}"
      ]
     },
     "execution_count": 30,
     "metadata": {},
     "output_type": "execute_result"
    }
   ],
   "source": [
    "print(\"-----------------\")\n",
    "print(\"EXAMPLE CAT INFO:\")\n",
    "print(\"-----------------\")\n",
    "\n",
    "cats_data[0]"
   ]
  },
  {
   "cell_type": "code",
   "execution_count": null,
   "metadata": {
    "colab": {
     "base_uri": "https://localhost:8080/",
     "height": 1000
    },
    "id": "bIvSNjVDEEqA",
    "outputId": "f5df3c8a-12dc-4714-e01c-16eb2936fc80"
   },
   "outputs": [
    {
     "name": "stdout",
     "output_type": "stream",
     "text": [
      "-----------------\n",
      "CAT IMAGES:\n",
      "-----------------\n",
      "-------------\n",
      "Abyssinian\n"
     ]
    },
    {
     "data": {
      "text/html": [
       "<img src=\"https://cdn2.thecatapi.com/images/0XYvRd7oD.jpg\" height=\"128\"/>"
      ],
      "text/plain": [
       "<IPython.core.display.Image object>"
      ]
     },
     "metadata": {},
     "output_type": "display_data"
    },
    {
     "name": "stdout",
     "output_type": "stream",
     "text": [
      "-------------\n",
      "Aegean\n"
     ]
    },
    {
     "data": {
      "text/html": [
       "<img src=\"https://cdn2.thecatapi.com/images/ozEvzdVM-.jpg\" height=\"128\"/>"
      ],
      "text/plain": [
       "<IPython.core.display.Image object>"
      ]
     },
     "metadata": {},
     "output_type": "display_data"
    },
    {
     "name": "stdout",
     "output_type": "stream",
     "text": [
      "-------------\n",
      "American Bobtail\n"
     ]
    },
    {
     "data": {
      "text/html": [
       "<img src=\"https://cdn2.thecatapi.com/images/hBXicehMA.jpg\" height=\"128\"/>"
      ],
      "text/plain": [
       "<IPython.core.display.Image object>"
      ]
     },
     "metadata": {},
     "output_type": "display_data"
    },
    {
     "name": "stdout",
     "output_type": "stream",
     "text": [
      "-------------\n",
      "American Curl\n"
     ]
    },
    {
     "data": {
      "text/html": [
       "<img src=\"https://cdn2.thecatapi.com/images/xnsqonbjW.jpg\" height=\"128\"/>"
      ],
      "text/plain": [
       "<IPython.core.display.Image object>"
      ]
     },
     "metadata": {},
     "output_type": "display_data"
    },
    {
     "name": "stdout",
     "output_type": "stream",
     "text": [
      "-------------\n",
      "American Shorthair\n"
     ]
    },
    {
     "data": {
      "text/html": [
       "<img src=\"https://cdn2.thecatapi.com/images/JFPROfGtQ.jpg\" height=\"128\"/>"
      ],
      "text/plain": [
       "<IPython.core.display.Image object>"
      ]
     },
     "metadata": {},
     "output_type": "display_data"
    },
    {
     "name": "stdout",
     "output_type": "stream",
     "text": [
      "-------------\n",
      "American Wirehair\n"
     ]
    },
    {
     "data": {
      "text/html": [
       "<img src=\"https://cdn2.thecatapi.com/images/8D--jCd21.jpg\" height=\"128\"/>"
      ],
      "text/plain": [
       "<IPython.core.display.Image object>"
      ]
     },
     "metadata": {},
     "output_type": "display_data"
    },
    {
     "name": "stdout",
     "output_type": "stream",
     "text": [
      "-------------\n",
      "Arabian Mau\n"
     ]
    },
    {
     "data": {
      "text/html": [
       "<img src=\"https://cdn2.thecatapi.com/images/k71ULYfRr.jpg\" height=\"128\"/>"
      ],
      "text/plain": [
       "<IPython.core.display.Image object>"
      ]
     },
     "metadata": {},
     "output_type": "display_data"
    },
    {
     "name": "stdout",
     "output_type": "stream",
     "text": [
      "-------------\n",
      "Australian Mist\n"
     ]
    },
    {
     "data": {
      "text/html": [
       "<img src=\"https://cdn2.thecatapi.com/images/_6x-3TiCA.jpg\" height=\"128\"/>"
      ],
      "text/plain": [
       "<IPython.core.display.Image object>"
      ]
     },
     "metadata": {},
     "output_type": "display_data"
    },
    {
     "name": "stdout",
     "output_type": "stream",
     "text": [
      "-------------\n",
      "Balinese\n"
     ]
    },
    {
     "data": {
      "text/html": [
       "<img src=\"https://cdn2.thecatapi.com/images/13MkvUreZ.jpg\" height=\"128\"/>"
      ],
      "text/plain": [
       "<IPython.core.display.Image object>"
      ]
     },
     "metadata": {},
     "output_type": "display_data"
    },
    {
     "name": "stdout",
     "output_type": "stream",
     "text": [
      "-------------\n",
      "Bambino\n"
     ]
    },
    {
     "data": {
      "text/html": [
       "<img src=\"https://cdn2.thecatapi.com/images/5AdhMjeEu.jpg\" height=\"128\"/>"
      ],
      "text/plain": [
       "<IPython.core.display.Image object>"
      ]
     },
     "metadata": {},
     "output_type": "display_data"
    },
    {
     "name": "stdout",
     "output_type": "stream",
     "text": [
      "-------------\n",
      "Bengal\n"
     ]
    },
    {
     "data": {
      "text/html": [
       "<img src=\"https://cdn2.thecatapi.com/images/O3btzLlsO.png\" height=\"128\"/>"
      ],
      "text/plain": [
       "<IPython.core.display.Image object>"
      ]
     },
     "metadata": {},
     "output_type": "display_data"
    },
    {
     "name": "stdout",
     "output_type": "stream",
     "text": [
      "-------------\n",
      "Birman\n"
     ]
    },
    {
     "data": {
      "text/html": [
       "<img src=\"https://cdn2.thecatapi.com/images/HOrX5gwLS.jpg\" height=\"128\"/>"
      ],
      "text/plain": [
       "<IPython.core.display.Image object>"
      ]
     },
     "metadata": {},
     "output_type": "display_data"
    },
    {
     "name": "stdout",
     "output_type": "stream",
     "text": [
      "-------------\n",
      "Bombay\n"
     ]
    },
    {
     "data": {
      "text/html": [
       "<img src=\"https://cdn2.thecatapi.com/images/5iYq9NmT1.jpg\" height=\"128\"/>"
      ],
      "text/plain": [
       "<IPython.core.display.Image object>"
      ]
     },
     "metadata": {},
     "output_type": "display_data"
    },
    {
     "name": "stdout",
     "output_type": "stream",
     "text": [
      "-------------\n",
      "British Longhair\n"
     ]
    },
    {
     "data": {
      "text/html": [
       "<img src=\"https://cdn2.thecatapi.com/images/7isAO4Cav.jpg\" height=\"128\"/>"
      ],
      "text/plain": [
       "<IPython.core.display.Image object>"
      ]
     },
     "metadata": {},
     "output_type": "display_data"
    },
    {
     "name": "stdout",
     "output_type": "stream",
     "text": [
      "-------------\n",
      "British Shorthair\n"
     ]
    },
    {
     "data": {
      "text/html": [
       "<img src=\"https://cdn2.thecatapi.com/images/s4wQfYoEk.jpg\" height=\"128\"/>"
      ],
      "text/plain": [
       "<IPython.core.display.Image object>"
      ]
     },
     "metadata": {},
     "output_type": "display_data"
    },
    {
     "name": "stdout",
     "output_type": "stream",
     "text": [
      "-------------\n",
      "Burmese\n"
     ]
    },
    {
     "data": {
      "text/html": [
       "<img src=\"https://cdn2.thecatapi.com/images/4lXnnfxac.jpg\" height=\"128\"/>"
      ],
      "text/plain": [
       "<IPython.core.display.Image object>"
      ]
     },
     "metadata": {},
     "output_type": "display_data"
    },
    {
     "name": "stdout",
     "output_type": "stream",
     "text": [
      "-------------\n",
      "Burmilla\n"
     ]
    },
    {
     "data": {
      "text/html": [
       "<img src=\"https://cdn2.thecatapi.com/images/jvg3XfEdC.jpg\" height=\"128\"/>"
      ],
      "text/plain": [
       "<IPython.core.display.Image object>"
      ]
     },
     "metadata": {},
     "output_type": "display_data"
    },
    {
     "name": "stdout",
     "output_type": "stream",
     "text": [
      "-------------\n",
      "California Spangled\n"
     ]
    },
    {
     "data": {
      "text/html": [
       "<img src=\"https://cdn2.thecatapi.com/images/B1ERTmgph.jpg\" height=\"128\"/>"
      ],
      "text/plain": [
       "<IPython.core.display.Image object>"
      ]
     },
     "metadata": {},
     "output_type": "display_data"
    },
    {
     "name": "stdout",
     "output_type": "stream",
     "text": [
      "-------------\n",
      "Chantilly-Tiffany\n"
     ]
    },
    {
     "data": {
      "text/html": [
       "<img src=\"https://cdn2.thecatapi.com/images/TR-5nAd_S.jpg\" height=\"128\"/>"
      ],
      "text/plain": [
       "<IPython.core.display.Image object>"
      ]
     },
     "metadata": {},
     "output_type": "display_data"
    },
    {
     "name": "stdout",
     "output_type": "stream",
     "text": [
      "-------------\n",
      "Chartreux\n"
     ]
    },
    {
     "data": {
      "text/html": [
       "<img src=\"https://cdn2.thecatapi.com/images/j6oFGLpRG.jpg\" height=\"128\"/>"
      ],
      "text/plain": [
       "<IPython.core.display.Image object>"
      ]
     },
     "metadata": {},
     "output_type": "display_data"
    },
    {
     "name": "stdout",
     "output_type": "stream",
     "text": [
      "-------------\n",
      "Chausie\n"
     ]
    },
    {
     "data": {
      "text/html": [
       "<img src=\"https://cdn2.thecatapi.com/images/vJ3lEYgXr.jpg\" height=\"128\"/>"
      ],
      "text/plain": [
       "<IPython.core.display.Image object>"
      ]
     },
     "metadata": {},
     "output_type": "display_data"
    },
    {
     "name": "stdout",
     "output_type": "stream",
     "text": [
      "-------------\n",
      "Cheetoh\n"
     ]
    },
    {
     "data": {
      "text/html": [
       "<img src=\"https://cdn2.thecatapi.com/images/IFXsxmXLm.jpg\" height=\"128\"/>"
      ],
      "text/plain": [
       "<IPython.core.display.Image object>"
      ]
     },
     "metadata": {},
     "output_type": "display_data"
    },
    {
     "name": "stdout",
     "output_type": "stream",
     "text": [
      "-------------\n",
      "Colorpoint Shorthair\n"
     ]
    },
    {
     "data": {
      "text/html": [
       "<img src=\"https://cdn2.thecatapi.com/images/oSpqGyUDS.jpg\" height=\"128\"/>"
      ],
      "text/plain": [
       "<IPython.core.display.Image object>"
      ]
     },
     "metadata": {},
     "output_type": "display_data"
    },
    {
     "name": "stdout",
     "output_type": "stream",
     "text": [
      "-------------\n",
      "Cornish Rex\n"
     ]
    },
    {
     "data": {
      "text/html": [
       "<img src=\"https://cdn2.thecatapi.com/images/unX21IBVB.jpg\" height=\"128\"/>"
      ],
      "text/plain": [
       "<IPython.core.display.Image object>"
      ]
     },
     "metadata": {},
     "output_type": "display_data"
    },
    {
     "name": "stdout",
     "output_type": "stream",
     "text": [
      "-------------\n",
      "Cymric\n"
     ]
    },
    {
     "data": {
      "text/html": [
       "<img src=\"https://cdn2.thecatapi.com/images/3dbtapCWM.jpg\" height=\"128\"/>"
      ],
      "text/plain": [
       "<IPython.core.display.Image object>"
      ]
     },
     "metadata": {},
     "output_type": "display_data"
    },
    {
     "name": "stdout",
     "output_type": "stream",
     "text": [
      "-------------\n",
      "Cyprus\n"
     ]
    },
    {
     "data": {
      "text/html": [
       "<img src=\"https://cdn2.thecatapi.com/images/tJbzb7FKo.jpg\" height=\"128\"/>"
      ],
      "text/plain": [
       "<IPython.core.display.Image object>"
      ]
     },
     "metadata": {},
     "output_type": "display_data"
    },
    {
     "name": "stdout",
     "output_type": "stream",
     "text": [
      "-------------\n",
      "Devon Rex\n"
     ]
    },
    {
     "data": {
      "text/html": [
       "<img src=\"https://cdn2.thecatapi.com/images/4RzEwvyzz.png\" height=\"128\"/>"
      ],
      "text/plain": [
       "<IPython.core.display.Image object>"
      ]
     },
     "metadata": {},
     "output_type": "display_data"
    },
    {
     "name": "stdout",
     "output_type": "stream",
     "text": [
      "-------------\n",
      "Donskoy\n"
     ]
    },
    {
     "data": {
      "text/html": [
       "<img src=\"https://cdn2.thecatapi.com/images/3KG57GfMW.jpg\" height=\"128\"/>"
      ],
      "text/plain": [
       "<IPython.core.display.Image object>"
      ]
     },
     "metadata": {},
     "output_type": "display_data"
    },
    {
     "name": "stdout",
     "output_type": "stream",
     "text": [
      "-------------\n",
      "Dragon Li\n"
     ]
    },
    {
     "data": {
      "text/html": [
       "<img src=\"https://cdn2.thecatapi.com/images/BQMSld0A0.jpg\" height=\"128\"/>"
      ],
      "text/plain": [
       "<IPython.core.display.Image object>"
      ]
     },
     "metadata": {},
     "output_type": "display_data"
    },
    {
     "name": "stdout",
     "output_type": "stream",
     "text": [
      "-------------\n",
      "Egyptian Mau\n"
     ]
    },
    {
     "data": {
      "text/html": [
       "<img src=\"https://cdn2.thecatapi.com/images/TuSyTkt2n.jpg\" height=\"128\"/>"
      ],
      "text/plain": [
       "<IPython.core.display.Image object>"
      ]
     },
     "metadata": {},
     "output_type": "display_data"
    },
    {
     "name": "stdout",
     "output_type": "stream",
     "text": [
      "-------------\n",
      "European Burmese\n",
      "OOPS, IMAGE NOT AVAILABLE...\n",
      "-------------\n",
      "Exotic Shorthair\n"
     ]
    },
    {
     "data": {
      "text/html": [
       "<img src=\"https://cdn2.thecatapi.com/images/YnPrYEmfe.jpg\" height=\"128\"/>"
      ],
      "text/plain": [
       "<IPython.core.display.Image object>"
      ]
     },
     "metadata": {},
     "output_type": "display_data"
    },
    {
     "name": "stdout",
     "output_type": "stream",
     "text": [
      "-------------\n",
      "Havana Brown\n"
     ]
    },
    {
     "data": {
      "text/html": [
       "<img src=\"https://cdn2.thecatapi.com/images/njK25knLH.jpg\" height=\"128\"/>"
      ],
      "text/plain": [
       "<IPython.core.display.Image object>"
      ]
     },
     "metadata": {},
     "output_type": "display_data"
    },
    {
     "name": "stdout",
     "output_type": "stream",
     "text": [
      "-------------\n",
      "Himalayan\n"
     ]
    },
    {
     "data": {
      "text/html": [
       "<img src=\"https://cdn2.thecatapi.com/images/CDhOtM-Ig.jpg\" height=\"128\"/>"
      ],
      "text/plain": [
       "<IPython.core.display.Image object>"
      ]
     },
     "metadata": {},
     "output_type": "display_data"
    },
    {
     "name": "stdout",
     "output_type": "stream",
     "text": [
      "-------------\n",
      "Japanese Bobtail\n"
     ]
    },
    {
     "data": {
      "text/html": [
       "<img src=\"https://cdn2.thecatapi.com/images/-tm9-znzl.jpg\" height=\"128\"/>"
      ],
      "text/plain": [
       "<IPython.core.display.Image object>"
      ]
     },
     "metadata": {},
     "output_type": "display_data"
    },
    {
     "name": "stdout",
     "output_type": "stream",
     "text": [
      "-------------\n",
      "Javanese\n"
     ]
    },
    {
     "data": {
      "text/html": [
       "<img src=\"https://cdn2.thecatapi.com/images/xoI_EpOKe.jpg\" height=\"128\"/>"
      ],
      "text/plain": [
       "<IPython.core.display.Image object>"
      ]
     },
     "metadata": {},
     "output_type": "display_data"
    },
    {
     "name": "stdout",
     "output_type": "stream",
     "text": [
      "-------------\n",
      "Khao Manee\n"
     ]
    },
    {
     "data": {
      "text/html": [
       "<img src=\"https://cdn2.thecatapi.com/images/165ok6ESN.jpg\" height=\"128\"/>"
      ],
      "text/plain": [
       "<IPython.core.display.Image object>"
      ]
     },
     "metadata": {},
     "output_type": "display_data"
    },
    {
     "name": "stdout",
     "output_type": "stream",
     "text": [
      "-------------\n",
      "Korat\n"
     ]
    },
    {
     "data": {
      "text/html": [
       "<img src=\"https://cdn2.thecatapi.com/images/DbwiefiaY.png\" height=\"128\"/>"
      ],
      "text/plain": [
       "<IPython.core.display.Image object>"
      ]
     },
     "metadata": {},
     "output_type": "display_data"
    },
    {
     "name": "stdout",
     "output_type": "stream",
     "text": [
      "-------------\n",
      "Kurilian\n"
     ]
    },
    {
     "data": {
      "text/html": [
       "<img src=\"https://cdn2.thecatapi.com/images/NZpO4pU56M.jpg\" height=\"128\"/>"
      ],
      "text/plain": [
       "<IPython.core.display.Image object>"
      ]
     },
     "metadata": {},
     "output_type": "display_data"
    },
    {
     "name": "stdout",
     "output_type": "stream",
     "text": [
      "-------------\n",
      "LaPerm\n"
     ]
    },
    {
     "data": {
      "text/html": [
       "<img src=\"https://cdn2.thecatapi.com/images/aKbsEYjSl.jpg\" height=\"128\"/>"
      ],
      "text/plain": [
       "<IPython.core.display.Image object>"
      ]
     },
     "metadata": {},
     "output_type": "display_data"
    },
    {
     "name": "stdout",
     "output_type": "stream",
     "text": [
      "-------------\n",
      "Maine Coon\n"
     ]
    },
    {
     "data": {
      "text/html": [
       "<img src=\"https://cdn2.thecatapi.com/images/OOD3VXAQn.jpg\" height=\"128\"/>"
      ],
      "text/plain": [
       "<IPython.core.display.Image object>"
      ]
     },
     "metadata": {},
     "output_type": "display_data"
    },
    {
     "name": "stdout",
     "output_type": "stream",
     "text": [
      "-------------\n",
      "Malayan\n",
      "OOPS, IMAGE NOT AVAILABLE...\n",
      "-------------\n",
      "Manx\n"
     ]
    },
    {
     "data": {
      "text/html": [
       "<img src=\"https://cdn2.thecatapi.com/images/fhYh2PDcC.jpg\" height=\"128\"/>"
      ],
      "text/plain": [
       "<IPython.core.display.Image object>"
      ]
     },
     "metadata": {},
     "output_type": "display_data"
    },
    {
     "name": "stdout",
     "output_type": "stream",
     "text": [
      "-------------\n",
      "Munchkin\n"
     ]
    },
    {
     "data": {
      "text/html": [
       "<img src=\"https://cdn2.thecatapi.com/images/j5cVSqLer.jpg\" height=\"128\"/>"
      ],
      "text/plain": [
       "<IPython.core.display.Image object>"
      ]
     },
     "metadata": {},
     "output_type": "display_data"
    },
    {
     "name": "stdout",
     "output_type": "stream",
     "text": [
      "-------------\n",
      "Nebelung\n"
     ]
    },
    {
     "data": {
      "text/html": [
       "<img src=\"https://cdn2.thecatapi.com/images/OGTWqNNOt.jpg\" height=\"128\"/>"
      ],
      "text/plain": [
       "<IPython.core.display.Image object>"
      ]
     },
     "metadata": {},
     "output_type": "display_data"
    },
    {
     "name": "stdout",
     "output_type": "stream",
     "text": [
      "-------------\n",
      "Norwegian Forest Cat\n"
     ]
    },
    {
     "data": {
      "text/html": [
       "<img src=\"https://cdn2.thecatapi.com/images/06dgGmEOV.jpg\" height=\"128\"/>"
      ],
      "text/plain": [
       "<IPython.core.display.Image object>"
      ]
     },
     "metadata": {},
     "output_type": "display_data"
    },
    {
     "name": "stdout",
     "output_type": "stream",
     "text": [
      "-------------\n",
      "Ocicat\n"
     ]
    },
    {
     "data": {
      "text/html": [
       "<img src=\"https://cdn2.thecatapi.com/images/JAx-08Y0n.jpg\" height=\"128\"/>"
      ],
      "text/plain": [
       "<IPython.core.display.Image object>"
      ]
     },
     "metadata": {},
     "output_type": "display_data"
    },
    {
     "name": "stdout",
     "output_type": "stream",
     "text": [
      "-------------\n",
      "Oriental\n"
     ]
    },
    {
     "data": {
      "text/html": [
       "<img src=\"https://cdn2.thecatapi.com/images/LutjkZJpH.jpg\" height=\"128\"/>"
      ],
      "text/plain": [
       "<IPython.core.display.Image object>"
      ]
     },
     "metadata": {},
     "output_type": "display_data"
    },
    {
     "name": "stdout",
     "output_type": "stream",
     "text": [
      "-------------\n",
      "Persian\n",
      "OOPS, IMAGE NOT AVAILABLE...\n",
      "-------------\n",
      "Pixie-bob\n"
     ]
    },
    {
     "data": {
      "text/html": [
       "<img src=\"https://cdn2.thecatapi.com/images/z7fJRNeN6.jpg\" height=\"128\"/>"
      ],
      "text/plain": [
       "<IPython.core.display.Image object>"
      ]
     },
     "metadata": {},
     "output_type": "display_data"
    },
    {
     "name": "stdout",
     "output_type": "stream",
     "text": [
      "-------------\n",
      "Ragamuffin\n"
     ]
    },
    {
     "data": {
      "text/html": [
       "<img src=\"https://cdn2.thecatapi.com/images/SMuZx-bFM.jpg\" height=\"128\"/>"
      ],
      "text/plain": [
       "<IPython.core.display.Image object>"
      ]
     },
     "metadata": {},
     "output_type": "display_data"
    },
    {
     "name": "stdout",
     "output_type": "stream",
     "text": [
      "-------------\n",
      "Ragdoll\n"
     ]
    },
    {
     "data": {
      "text/html": [
       "<img src=\"https://cdn2.thecatapi.com/images/oGefY4YoG.jpg\" height=\"128\"/>"
      ],
      "text/plain": [
       "<IPython.core.display.Image object>"
      ]
     },
     "metadata": {},
     "output_type": "display_data"
    },
    {
     "name": "stdout",
     "output_type": "stream",
     "text": [
      "-------------\n",
      "Russian Blue\n"
     ]
    },
    {
     "data": {
      "text/html": [
       "<img src=\"https://cdn2.thecatapi.com/images/Rhj-JsTLP.jpg\" height=\"128\"/>"
      ],
      "text/plain": [
       "<IPython.core.display.Image object>"
      ]
     },
     "metadata": {},
     "output_type": "display_data"
    },
    {
     "name": "stdout",
     "output_type": "stream",
     "text": [
      "-------------\n",
      "Savannah\n"
     ]
    },
    {
     "data": {
      "text/html": [
       "<img src=\"https://cdn2.thecatapi.com/images/a8nIYvs6S.jpg\" height=\"128\"/>"
      ],
      "text/plain": [
       "<IPython.core.display.Image object>"
      ]
     },
     "metadata": {},
     "output_type": "display_data"
    },
    {
     "name": "stdout",
     "output_type": "stream",
     "text": [
      "-------------\n",
      "Scottish Fold\n"
     ]
    },
    {
     "data": {
      "text/html": [
       "<img src=\"https://cdn2.thecatapi.com/images/o9t0LDcsa.jpg\" height=\"128\"/>"
      ],
      "text/plain": [
       "<IPython.core.display.Image object>"
      ]
     },
     "metadata": {},
     "output_type": "display_data"
    },
    {
     "name": "stdout",
     "output_type": "stream",
     "text": [
      "-------------\n",
      "Selkirk Rex\n"
     ]
    },
    {
     "data": {
      "text/html": [
       "<img src=\"https://cdn2.thecatapi.com/images/II9dOZmrw.jpg\" height=\"128\"/>"
      ],
      "text/plain": [
       "<IPython.core.display.Image object>"
      ]
     },
     "metadata": {},
     "output_type": "display_data"
    },
    {
     "name": "stdout",
     "output_type": "stream",
     "text": [
      "-------------\n",
      "Siamese\n"
     ]
    },
    {
     "data": {
      "text/html": [
       "<img src=\"https://cdn2.thecatapi.com/images/ai6Jps4sx.jpg\" height=\"128\"/>"
      ],
      "text/plain": [
       "<IPython.core.display.Image object>"
      ]
     },
     "metadata": {},
     "output_type": "display_data"
    },
    {
     "name": "stdout",
     "output_type": "stream",
     "text": [
      "-------------\n",
      "Siberian\n"
     ]
    },
    {
     "data": {
      "text/html": [
       "<img src=\"https://cdn2.thecatapi.com/images/3bkZAjRh1.jpg\" height=\"128\"/>"
      ],
      "text/plain": [
       "<IPython.core.display.Image object>"
      ]
     },
     "metadata": {},
     "output_type": "display_data"
    },
    {
     "name": "stdout",
     "output_type": "stream",
     "text": [
      "-------------\n",
      "Singapura\n"
     ]
    },
    {
     "data": {
      "text/html": [
       "<img src=\"https://cdn2.thecatapi.com/images/Qtncp2nRe.jpg\" height=\"128\"/>"
      ],
      "text/plain": [
       "<IPython.core.display.Image object>"
      ]
     },
     "metadata": {},
     "output_type": "display_data"
    },
    {
     "name": "stdout",
     "output_type": "stream",
     "text": [
      "-------------\n",
      "Snowshoe\n"
     ]
    },
    {
     "data": {
      "text/html": [
       "<img src=\"https://cdn2.thecatapi.com/images/MK-sYESvO.jpg\" height=\"128\"/>"
      ],
      "text/plain": [
       "<IPython.core.display.Image object>"
      ]
     },
     "metadata": {},
     "output_type": "display_data"
    },
    {
     "name": "stdout",
     "output_type": "stream",
     "text": [
      "-------------\n",
      "Somali\n"
     ]
    },
    {
     "data": {
      "text/html": [
       "<img src=\"https://cdn2.thecatapi.com/images/EPF2ejNS0.jpg\" height=\"128\"/>"
      ],
      "text/plain": [
       "<IPython.core.display.Image object>"
      ]
     },
     "metadata": {},
     "output_type": "display_data"
    },
    {
     "name": "stdout",
     "output_type": "stream",
     "text": [
      "-------------\n",
      "Sphynx\n"
     ]
    },
    {
     "data": {
      "text/html": [
       "<img src=\"https://cdn2.thecatapi.com/images/BDb8ZXb1v.jpg\" height=\"128\"/>"
      ],
      "text/plain": [
       "<IPython.core.display.Image object>"
      ]
     },
     "metadata": {},
     "output_type": "display_data"
    },
    {
     "name": "stdout",
     "output_type": "stream",
     "text": [
      "-------------\n",
      "Tonkinese\n"
     ]
    },
    {
     "data": {
      "text/html": [
       "<img src=\"https://cdn2.thecatapi.com/images/KBroiVNCM.jpg\" height=\"128\"/>"
      ],
      "text/plain": [
       "<IPython.core.display.Image object>"
      ]
     },
     "metadata": {},
     "output_type": "display_data"
    },
    {
     "name": "stdout",
     "output_type": "stream",
     "text": [
      "-------------\n",
      "Toyger\n"
     ]
    },
    {
     "data": {
      "text/html": [
       "<img src=\"https://cdn2.thecatapi.com/images/O3F3_S1XN.jpg\" height=\"128\"/>"
      ],
      "text/plain": [
       "<IPython.core.display.Image object>"
      ]
     },
     "metadata": {},
     "output_type": "display_data"
    },
    {
     "name": "stdout",
     "output_type": "stream",
     "text": [
      "-------------\n",
      "Turkish Angora\n"
     ]
    },
    {
     "data": {
      "text/html": [
       "<img src=\"https://cdn2.thecatapi.com/images/7CGV6WVXq.jpg\" height=\"128\"/>"
      ],
      "text/plain": [
       "<IPython.core.display.Image object>"
      ]
     },
     "metadata": {},
     "output_type": "display_data"
    },
    {
     "name": "stdout",
     "output_type": "stream",
     "text": [
      "-------------\n",
      "Turkish Van\n"
     ]
    },
    {
     "data": {
      "text/html": [
       "<img src=\"https://cdn2.thecatapi.com/images/sxIXJax6h.jpg\" height=\"128\"/>"
      ],
      "text/plain": [
       "<IPython.core.display.Image object>"
      ]
     },
     "metadata": {},
     "output_type": "display_data"
    },
    {
     "name": "stdout",
     "output_type": "stream",
     "text": [
      "-------------\n",
      "York Chocolate\n"
     ]
    },
    {
     "data": {
      "text/html": [
       "<img src=\"https://cdn2.thecatapi.com/images/0SxW2SQ_S.jpg\" height=\"128\"/>"
      ],
      "text/plain": [
       "<IPython.core.display.Image object>"
      ]
     },
     "metadata": {},
     "output_type": "display_data"
    }
   ],
   "source": [
    "print(\"-----------------\")\n",
    "print(\"CAT IMAGES:\")\n",
    "print(\"-----------------\")\n",
    "\n",
    "for cat in cats_data:\n",
    "    print(\"-------------\")\n",
    "    print(cat[\"name\"])\n",
    "    try:\n",
    "        display(Image(url=cat[\"image\"][\"url\"], height=128))\n",
    "    except:\n",
    "        print(\"OOPS, IMAGE NOT AVAILABLE...\")"
   ]
  },
  {
   "cell_type": "markdown",
   "metadata": {
    "id": "mGiBiBSTo9NB"
   },
   "source": [
    "## AlphaVantage API (Stocks)"
   ]
  },
  {
   "cell_type": "markdown",
   "metadata": {
    "id": "emxBMgYyp4sk"
   },
   "source": [
    "Notes:\n",
    "\n",
    "  + Provides information about stocks, in JSON or CSV format. \n",
    "  + Uses API Key authentication, passed via URL parameters. Demo key is \"demo\".\n",
    "\n",
    "References: \n",
    "\n",
    "  + https://www.alphavantage.co/\n",
    "  + https://www.alphavantage.co/support/#api-key\n",
    "  + https://www.alphavantage.co/documentation/\n",
    "\n",
    "Example URL:\n",
    "  + https://www.alphavantage.co/documentation/#dailyadj\n"
   ]
  },
  {
   "cell_type": "code",
   "execution_count": null,
   "metadata": {
    "colab": {
     "base_uri": "https://localhost:8080/"
    },
    "id": "U8PEViowqLJX",
    "outputId": "4197f0b3-08ae-4acc-b2dc-ab514b2e12a2"
   },
   "outputs": [
    {
     "name": "stdout",
     "output_type": "stream",
     "text": [
      "Please provide your AlphaVantage API Key: ··········\n"
     ]
    }
   ],
   "source": [
    "from getpass import getpass\n",
    "\n",
    "ALPHAVANTAGE_API_KEY = getpass(\"Please provide your AlphaVantage API Key: \")"
   ]
  },
  {
   "cell_type": "code",
   "execution_count": null,
   "metadata": {
    "id": "wiYNEE4eo2tT"
   },
   "outputs": [],
   "source": [
    "\n",
    "from pandas import read_csv\n",
    "from plotly.express import line as line_chart # this alias is optional (feel free to alias or not, based on your own personal preferences)\n",
    "\n",
    "def show_chart(symbol):\n",
    "    \"\"\"\n",
    "    Processes CSV data for the given symbol and displays a line chart of prices over time.\n",
    "\n",
    "    Params symbol (str) : stock symbol like \"msft or \"GOOGL\" (capitalization doesn't matter)\n",
    "\n",
    "    Example:\n",
    "\n",
    "        show_chart(\"MSFT\")\n",
    "        \n",
    "    \"\"\"\n",
    "\n",
    "    symbol = symbol.lower()\n",
    "    #print(\"STOCK:\", symbol.upper())\n",
    "\n",
    "    request_url = f\"https://www.alphavantage.co/query?function=TIME_SERIES_DAILY_ADJUSTED&symbol={symbol}&apikey={ALPHAVANTAGE_API_KEY}&datatype=csv\"\n",
    "    #print(\"REQUEST URL:\", request_url)\n",
    "\n",
    "    df = read_csv(request_url)\n",
    "    #print(df.head())\n",
    "\n",
    "    # leverage the docs heavily for custom formatting and display:\n",
    "    # + https://plotly.com/python-api-reference/generated/plotly.express.line\n",
    "    fig = line_chart(df, \n",
    "        x=\"timestamp\", \n",
    "        y=\"adjusted_close\",\n",
    "        #hover_data=[\"volume\", \"open\", \"high\", \"low\"],\n",
    "        title=f\"Daily Stock Prices ({symbol.upper()})\",\n",
    "        labels={\n",
    "            \"adjusted_close\":\"Closing Price\", # \"Closing Price (USD)\"\n",
    "            \"timestamp\": \"Date\",\n",
    "            #\"volume\": \"Volume\",\n",
    "            #\"open\": \"Open\",\n",
    "            #\"high\": \"High\",\n",
    "            #\"low\": \"Low\"\n",
    "        }\n",
    "    )\n",
    "    #print(\"FIG:\", type(fig))\n",
    "\n",
    "    # google search for \"plotly express format numbers as dollars\" yeilds:\n",
    "    #  + https://plotly.com/python/styling-plotly-express/\n",
    "    #  + https://stackoverflow.com/questions/66095143/how-to-change-currency-format-in-plotly-express-hover-data\n",
    "    fig.update_yaxes(\n",
    "        tickprefix=\"$\", \n",
    "        showgrid=True\n",
    "    )\n",
    "\n",
    "    fig.show()\n",
    "\n",
    "    #return df, fig\n"
   ]
  },
  {
   "cell_type": "code",
   "execution_count": null,
   "metadata": {
    "colab": {
     "base_uri": "https://localhost:8080/",
     "height": 542
    },
    "id": "RInbuXtNpX7K",
    "outputId": "f85ca8b2-2d63-4a5a-d19b-b30be389d8ec"
   },
   "outputs": [
    {
     "data": {
      "text/html": [
       "<html>\n",
       "<head><meta charset=\"utf-8\" /></head>\n",
       "<body>\n",
       "    <div>\n",
       "            <script src=\"https://cdnjs.cloudflare.com/ajax/libs/mathjax/2.7.5/MathJax.js?config=TeX-AMS-MML_SVG\"></script><script type=\"text/javascript\">if (window.MathJax) {MathJax.Hub.Config({SVG: {font: \"STIX-Web\"}});}</script>\n",
       "                <script type=\"text/javascript\">window.PlotlyConfig = {MathJaxConfig: 'local'};</script>\n",
       "        <script src=\"https://cdn.plot.ly/plotly-latest.min.js\"></script>    \n",
       "            <div id=\"46bc2d32-38a8-4d13-bbe4-1c431c4f7f0a\" class=\"plotly-graph-div\" style=\"height:525px; width:100%;\"></div>\n",
       "            <script type=\"text/javascript\">\n",
       "                \n",
       "                    window.PLOTLYENV=window.PLOTLYENV || {};\n",
       "                    \n",
       "                if (document.getElementById(\"46bc2d32-38a8-4d13-bbe4-1c431c4f7f0a\")) {\n",
       "                    Plotly.newPlot(\n",
       "                        '46bc2d32-38a8-4d13-bbe4-1c431c4f7f0a',\n",
       "                        [{\"hoverlabel\": {\"namelength\": 0}, \"hovertemplate\": \"Date=%{x}<br>Closing Price=%{y}\", \"legendgroup\": \"\", \"line\": {\"color\": \"#636efa\", \"dash\": \"solid\"}, \"mode\": \"lines\", \"name\": \"\", \"showlegend\": false, \"type\": \"scatter\", \"x\": [\"2021-11-23\", \"2021-11-22\", \"2021-11-19\", \"2021-11-18\", \"2021-11-17\", \"2021-11-16\", \"2021-11-15\", \"2021-11-12\", \"2021-11-11\", \"2021-11-10\", \"2021-11-09\", \"2021-11-08\", \"2021-11-05\", \"2021-11-04\", \"2021-11-03\", \"2021-11-02\", \"2021-11-01\", \"2021-10-29\", \"2021-10-28\", \"2021-10-27\", \"2021-10-26\", \"2021-10-25\", \"2021-10-22\", \"2021-10-21\", \"2021-10-20\", \"2021-10-19\", \"2021-10-18\", \"2021-10-15\", \"2021-10-14\", \"2021-10-13\", \"2021-10-12\", \"2021-10-11\", \"2021-10-08\", \"2021-10-07\", \"2021-10-06\", \"2021-10-05\", \"2021-10-04\", \"2021-10-01\", \"2021-09-30\", \"2021-09-29\", \"2021-09-28\", \"2021-09-27\", \"2021-09-24\", \"2021-09-23\", \"2021-09-22\", \"2021-09-21\", \"2021-09-20\", \"2021-09-17\", \"2021-09-16\", \"2021-09-15\", \"2021-09-14\", \"2021-09-13\", \"2021-09-10\", \"2021-09-09\", \"2021-09-08\", \"2021-09-07\", \"2021-09-03\", \"2021-09-02\", \"2021-09-01\", \"2021-08-31\", \"2021-08-30\", \"2021-08-27\", \"2021-08-26\", \"2021-08-25\", \"2021-08-24\", \"2021-08-23\", \"2021-08-20\", \"2021-08-19\", \"2021-08-18\", \"2021-08-17\", \"2021-08-16\", \"2021-08-13\", \"2021-08-12\", \"2021-08-11\", \"2021-08-10\", \"2021-08-09\", \"2021-08-06\", \"2021-08-05\", \"2021-08-04\", \"2021-08-03\", \"2021-08-02\", \"2021-07-30\", \"2021-07-29\", \"2021-07-28\", \"2021-07-27\", \"2021-07-26\", \"2021-07-23\", \"2021-07-22\", \"2021-07-21\", \"2021-07-20\", \"2021-07-19\", \"2021-07-16\", \"2021-07-15\", \"2021-07-14\", \"2021-07-13\", \"2021-07-12\", \"2021-07-09\", \"2021-07-08\", \"2021-07-07\", \"2021-07-06\"], \"xaxis\": \"x\", \"y\": [113.58, 111.45, 110.78, 112.9, 112.52, 112.23, 111.87, 111.72, 111.44, 113.25, 113.63831985200001, 114.663882539, 116.406343415, 111.676806752, 112.12486812, 110.96986548299999, 109.32697379999999, 105.613042905, 112.712326358, 113.020990856, 114.424916476, 114.215821171, 114.056510462, 113.94698435, 113.369483031, 113.00107701799999, 112.881593986, 110.96986548299999, 111.38805609299999, 110.282838052, 110.521804115, 110.46206259899999, 110.74085633899999, 111.726591349, 111.159046949, 110.372450325, 110.97982240200001, 112.43353261799999, 109.83477668399999, 111.68676367200001, 111.22874538399999, 113.190258484, 113.618406014, 113.648276772, 112.582886408, 111.73654826799999, 111.338271496, 112.92142166299999, 114.175993494, 114.14612273600001, 118.347942676, 118.666564094, 118.825874802, 118.27824424100001, 117.531475295, 115.291168454, 116.685137155, 116.86436170200001, 116.944017056, 116.983844734, 115.11194390700001, 114.62405486200001, 113.82750131899999, 115.07211623, 114.584227185, 114.65392562, 114.136165817, 113.82750131899999, 115.181642342, 116.067808159, 117.03362933, 116.256989625, 115.25134077700001, 115.998109724, 115.44266772799999, 116.980051824, 118.081017209, 118.061179995, 117.28752864299999, 118.16036606600001, 119.39027334299999, 120.441645693, 121.383913365, 121.413669186, 125.004204947, 125.03396076799999, 124.944693304, 121.63187854200001, 118.299226565, 116.464284256, 114.381376771, 117.76362178299999, 118.001668353, 118.82491274, 118.57694756299999, 117.495819392, 116.513877292, 115.045923445, 116.18656325799999, 114.788039661], \"yaxis\": \"y\"}],\n",
       "                        {\"legend\": {\"tracegroupgap\": 0}, \"template\": {\"data\": {\"bar\": [{\"error_x\": {\"color\": \"#2a3f5f\"}, \"error_y\": {\"color\": \"#2a3f5f\"}, \"marker\": {\"line\": {\"color\": \"#E5ECF6\", \"width\": 0.5}}, \"type\": \"bar\"}], \"barpolar\": [{\"marker\": {\"line\": {\"color\": \"#E5ECF6\", \"width\": 0.5}}, \"type\": \"barpolar\"}], \"carpet\": [{\"aaxis\": {\"endlinecolor\": \"#2a3f5f\", \"gridcolor\": \"white\", \"linecolor\": \"white\", \"minorgridcolor\": \"white\", \"startlinecolor\": \"#2a3f5f\"}, \"baxis\": {\"endlinecolor\": \"#2a3f5f\", \"gridcolor\": \"white\", \"linecolor\": \"white\", \"minorgridcolor\": \"white\", \"startlinecolor\": \"#2a3f5f\"}, \"type\": \"carpet\"}], \"choropleth\": [{\"colorbar\": {\"outlinewidth\": 0, \"ticks\": \"\"}, \"type\": \"choropleth\"}], \"contour\": [{\"colorbar\": {\"outlinewidth\": 0, \"ticks\": \"\"}, \"colorscale\": [[0.0, \"#0d0887\"], [0.1111111111111111, \"#46039f\"], [0.2222222222222222, \"#7201a8\"], [0.3333333333333333, \"#9c179e\"], [0.4444444444444444, \"#bd3786\"], [0.5555555555555556, \"#d8576b\"], [0.6666666666666666, \"#ed7953\"], [0.7777777777777778, \"#fb9f3a\"], [0.8888888888888888, \"#fdca26\"], [1.0, \"#f0f921\"]], \"type\": \"contour\"}], \"contourcarpet\": [{\"colorbar\": {\"outlinewidth\": 0, \"ticks\": \"\"}, \"type\": \"contourcarpet\"}], \"heatmap\": [{\"colorbar\": {\"outlinewidth\": 0, \"ticks\": \"\"}, \"colorscale\": [[0.0, \"#0d0887\"], [0.1111111111111111, \"#46039f\"], [0.2222222222222222, \"#7201a8\"], [0.3333333333333333, \"#9c179e\"], [0.4444444444444444, \"#bd3786\"], [0.5555555555555556, \"#d8576b\"], [0.6666666666666666, \"#ed7953\"], [0.7777777777777778, \"#fb9f3a\"], [0.8888888888888888, \"#fdca26\"], [1.0, \"#f0f921\"]], \"type\": \"heatmap\"}], \"heatmapgl\": [{\"colorbar\": {\"outlinewidth\": 0, \"ticks\": \"\"}, \"colorscale\": [[0.0, \"#0d0887\"], [0.1111111111111111, \"#46039f\"], [0.2222222222222222, \"#7201a8\"], [0.3333333333333333, \"#9c179e\"], [0.4444444444444444, \"#bd3786\"], [0.5555555555555556, \"#d8576b\"], [0.6666666666666666, \"#ed7953\"], [0.7777777777777778, \"#fb9f3a\"], [0.8888888888888888, \"#fdca26\"], [1.0, \"#f0f921\"]], \"type\": \"heatmapgl\"}], \"histogram\": [{\"marker\": {\"colorbar\": {\"outlinewidth\": 0, \"ticks\": \"\"}}, \"type\": \"histogram\"}], \"histogram2d\": [{\"colorbar\": {\"outlinewidth\": 0, \"ticks\": \"\"}, \"colorscale\": [[0.0, \"#0d0887\"], [0.1111111111111111, \"#46039f\"], [0.2222222222222222, \"#7201a8\"], [0.3333333333333333, \"#9c179e\"], [0.4444444444444444, \"#bd3786\"], [0.5555555555555556, \"#d8576b\"], [0.6666666666666666, \"#ed7953\"], [0.7777777777777778, \"#fb9f3a\"], [0.8888888888888888, \"#fdca26\"], [1.0, \"#f0f921\"]], \"type\": \"histogram2d\"}], \"histogram2dcontour\": [{\"colorbar\": {\"outlinewidth\": 0, \"ticks\": \"\"}, \"colorscale\": [[0.0, \"#0d0887\"], [0.1111111111111111, \"#46039f\"], [0.2222222222222222, \"#7201a8\"], [0.3333333333333333, \"#9c179e\"], [0.4444444444444444, \"#bd3786\"], [0.5555555555555556, \"#d8576b\"], [0.6666666666666666, \"#ed7953\"], [0.7777777777777778, \"#fb9f3a\"], [0.8888888888888888, \"#fdca26\"], [1.0, \"#f0f921\"]], \"type\": \"histogram2dcontour\"}], \"mesh3d\": [{\"colorbar\": {\"outlinewidth\": 0, \"ticks\": \"\"}, \"type\": \"mesh3d\"}], \"parcoords\": [{\"line\": {\"colorbar\": {\"outlinewidth\": 0, \"ticks\": \"\"}}, \"type\": \"parcoords\"}], \"pie\": [{\"automargin\": true, \"type\": \"pie\"}], \"scatter\": [{\"marker\": {\"colorbar\": {\"outlinewidth\": 0, \"ticks\": \"\"}}, \"type\": \"scatter\"}], \"scatter3d\": [{\"line\": {\"colorbar\": {\"outlinewidth\": 0, \"ticks\": \"\"}}, \"marker\": {\"colorbar\": {\"outlinewidth\": 0, \"ticks\": \"\"}}, \"type\": \"scatter3d\"}], \"scattercarpet\": [{\"marker\": {\"colorbar\": {\"outlinewidth\": 0, \"ticks\": \"\"}}, \"type\": \"scattercarpet\"}], \"scattergeo\": [{\"marker\": {\"colorbar\": {\"outlinewidth\": 0, \"ticks\": \"\"}}, \"type\": \"scattergeo\"}], \"scattergl\": [{\"marker\": {\"colorbar\": {\"outlinewidth\": 0, \"ticks\": \"\"}}, \"type\": \"scattergl\"}], \"scattermapbox\": [{\"marker\": {\"colorbar\": {\"outlinewidth\": 0, \"ticks\": \"\"}}, \"type\": \"scattermapbox\"}], \"scatterpolar\": [{\"marker\": {\"colorbar\": {\"outlinewidth\": 0, \"ticks\": \"\"}}, \"type\": \"scatterpolar\"}], \"scatterpolargl\": [{\"marker\": {\"colorbar\": {\"outlinewidth\": 0, \"ticks\": \"\"}}, \"type\": \"scatterpolargl\"}], \"scatterternary\": [{\"marker\": {\"colorbar\": {\"outlinewidth\": 0, \"ticks\": \"\"}}, \"type\": \"scatterternary\"}], \"surface\": [{\"colorbar\": {\"outlinewidth\": 0, \"ticks\": \"\"}, \"colorscale\": [[0.0, \"#0d0887\"], [0.1111111111111111, \"#46039f\"], [0.2222222222222222, \"#7201a8\"], [0.3333333333333333, \"#9c179e\"], [0.4444444444444444, \"#bd3786\"], [0.5555555555555556, \"#d8576b\"], [0.6666666666666666, \"#ed7953\"], [0.7777777777777778, \"#fb9f3a\"], [0.8888888888888888, \"#fdca26\"], [1.0, \"#f0f921\"]], \"type\": \"surface\"}], \"table\": [{\"cells\": {\"fill\": {\"color\": \"#EBF0F8\"}, \"line\": {\"color\": \"white\"}}, \"header\": {\"fill\": {\"color\": \"#C8D4E3\"}, \"line\": {\"color\": \"white\"}}, \"type\": \"table\"}]}, \"layout\": {\"annotationdefaults\": {\"arrowcolor\": \"#2a3f5f\", \"arrowhead\": 0, \"arrowwidth\": 1}, \"coloraxis\": {\"colorbar\": {\"outlinewidth\": 0, \"ticks\": \"\"}}, \"colorscale\": {\"diverging\": [[0, \"#8e0152\"], [0.1, \"#c51b7d\"], [0.2, \"#de77ae\"], [0.3, \"#f1b6da\"], [0.4, \"#fde0ef\"], [0.5, \"#f7f7f7\"], [0.6, \"#e6f5d0\"], [0.7, \"#b8e186\"], [0.8, \"#7fbc41\"], [0.9, \"#4d9221\"], [1, \"#276419\"]], \"sequential\": [[0.0, \"#0d0887\"], [0.1111111111111111, \"#46039f\"], [0.2222222222222222, \"#7201a8\"], [0.3333333333333333, \"#9c179e\"], [0.4444444444444444, \"#bd3786\"], [0.5555555555555556, \"#d8576b\"], [0.6666666666666666, \"#ed7953\"], [0.7777777777777778, \"#fb9f3a\"], [0.8888888888888888, \"#fdca26\"], [1.0, \"#f0f921\"]], \"sequentialminus\": [[0.0, \"#0d0887\"], [0.1111111111111111, \"#46039f\"], [0.2222222222222222, \"#7201a8\"], [0.3333333333333333, \"#9c179e\"], [0.4444444444444444, \"#bd3786\"], [0.5555555555555556, \"#d8576b\"], [0.6666666666666666, \"#ed7953\"], [0.7777777777777778, \"#fb9f3a\"], [0.8888888888888888, \"#fdca26\"], [1.0, \"#f0f921\"]]}, \"colorway\": [\"#636efa\", \"#EF553B\", \"#00cc96\", \"#ab63fa\", \"#FFA15A\", \"#19d3f3\", \"#FF6692\", \"#B6E880\", \"#FF97FF\", \"#FECB52\"], \"font\": {\"color\": \"#2a3f5f\"}, \"geo\": {\"bgcolor\": \"white\", \"lakecolor\": \"white\", \"landcolor\": \"#E5ECF6\", \"showlakes\": true, \"showland\": true, \"subunitcolor\": \"white\"}, \"hoverlabel\": {\"align\": \"left\"}, \"hovermode\": \"closest\", \"mapbox\": {\"style\": \"light\"}, \"paper_bgcolor\": \"white\", \"plot_bgcolor\": \"#E5ECF6\", \"polar\": {\"angularaxis\": {\"gridcolor\": \"white\", \"linecolor\": \"white\", \"ticks\": \"\"}, \"bgcolor\": \"#E5ECF6\", \"radialaxis\": {\"gridcolor\": \"white\", \"linecolor\": \"white\", \"ticks\": \"\"}}, \"scene\": {\"xaxis\": {\"backgroundcolor\": \"#E5ECF6\", \"gridcolor\": \"white\", \"gridwidth\": 2, \"linecolor\": \"white\", \"showbackground\": true, \"ticks\": \"\", \"zerolinecolor\": \"white\"}, \"yaxis\": {\"backgroundcolor\": \"#E5ECF6\", \"gridcolor\": \"white\", \"gridwidth\": 2, \"linecolor\": \"white\", \"showbackground\": true, \"ticks\": \"\", \"zerolinecolor\": \"white\"}, \"zaxis\": {\"backgroundcolor\": \"#E5ECF6\", \"gridcolor\": \"white\", \"gridwidth\": 2, \"linecolor\": \"white\", \"showbackground\": true, \"ticks\": \"\", \"zerolinecolor\": \"white\"}}, \"shapedefaults\": {\"line\": {\"color\": \"#2a3f5f\"}}, \"ternary\": {\"aaxis\": {\"gridcolor\": \"white\", \"linecolor\": \"white\", \"ticks\": \"\"}, \"baxis\": {\"gridcolor\": \"white\", \"linecolor\": \"white\", \"ticks\": \"\"}, \"bgcolor\": \"#E5ECF6\", \"caxis\": {\"gridcolor\": \"white\", \"linecolor\": \"white\", \"ticks\": \"\"}}, \"title\": {\"x\": 0.05}, \"xaxis\": {\"automargin\": true, \"gridcolor\": \"white\", \"linecolor\": \"white\", \"ticks\": \"\", \"title\": {\"standoff\": 15}, \"zerolinecolor\": \"white\", \"zerolinewidth\": 2}, \"yaxis\": {\"automargin\": true, \"gridcolor\": \"white\", \"linecolor\": \"white\", \"ticks\": \"\", \"title\": {\"standoff\": 15}, \"zerolinecolor\": \"white\", \"zerolinewidth\": 2}}}, \"title\": {\"text\": \"Daily Stock Prices (SBUX)\"}, \"xaxis\": {\"anchor\": \"y\", \"domain\": [0.0, 1.0], \"title\": {\"text\": \"Date\"}}, \"yaxis\": {\"anchor\": \"x\", \"domain\": [0.0, 1.0], \"showgrid\": true, \"tickprefix\": \"$\", \"title\": {\"text\": \"Closing Price\"}}},\n",
       "                        {\"responsive\": true}\n",
       "                    ).then(function(){\n",
       "                            \n",
       "var gd = document.getElementById('46bc2d32-38a8-4d13-bbe4-1c431c4f7f0a');\n",
       "var x = new MutationObserver(function (mutations, observer) {{\n",
       "        var display = window.getComputedStyle(gd).display;\n",
       "        if (!display || display === 'none') {{\n",
       "            console.log([gd, 'removed!']);\n",
       "            Plotly.purge(gd);\n",
       "            observer.disconnect();\n",
       "        }}\n",
       "}});\n",
       "\n",
       "// Listen for the removal of the full notebook cells\n",
       "var notebookContainer = gd.closest('#notebook-container');\n",
       "if (notebookContainer) {{\n",
       "    x.observe(notebookContainer, {childList: true});\n",
       "}}\n",
       "\n",
       "// Listen for the clearing of the current output cell\n",
       "var outputEl = gd.closest('.output');\n",
       "if (outputEl) {{\n",
       "    x.observe(outputEl, {childList: true});\n",
       "}}\n",
       "\n",
       "                        })\n",
       "                };\n",
       "                \n",
       "            </script>\n",
       "        </div>\n",
       "</body>\n",
       "</html>"
      ]
     },
     "metadata": {},
     "output_type": "display_data"
    }
   ],
   "source": [
    "# @title Stock Selection Form\n",
    "symbol = \"SBUX\" # @param ['MSFT', 'GOOGL', 'AAPL', 'NFLX', \"SBUX\", \"TSLA\", \"DIS\"]\n",
    "show_chart(symbol)"
   ]
  },
  {
   "cell_type": "markdown",
   "metadata": {
    "id": "S8SRPmE_pHi8"
   },
   "source": [
    "## Twitter API"
   ]
  },
  {
   "cell_type": "markdown",
   "metadata": {
    "id": "8l1yY7JbGCiZ"
   },
   "source": [
    "Notes:\n",
    "\n",
    "  + Provides Twitter data in JSON format.\n",
    "  + Uses API Key authentication, passed via headers.\n",
    "\n",
    "\n",
    "\n",
    "References:\n",
    "\n",
    "  + https://developer.twitter.com/en\n",
    "  + https://developer.twitter.com/en/docs\n",
    "  + https://developer.twitter.com/en/docs/platform-overview\n",
    "  + https://developer.twitter.com/en/docs/api-reference-index\n",
    "  \n",
    "API Wrapper Package (`tweepy`):\n",
    "  + https://docs.tweepy.org/en/latest\n",
    "  + https://docs.tweepy.org/en/latest/api.html#api-reference\n",
    "  + https://docs.tweepy.org/en/latest/models.html\n",
    "\n",
    "> NOTE: it's probably easiest to use the `tweepy` wrapper package, mostly because it helps with authentication. But also because it converts the raw JSON data into more usable model objects (e.g. `tweepy.models.Status` or `tweepy.Tweet` objects, depending on the package version)."
   ]
  },
  {
   "cell_type": "code",
   "execution_count": null,
   "metadata": {
    "colab": {
     "base_uri": "https://localhost:8080/"
    },
    "id": "tq1xnhN0pH5R",
    "outputId": "2f5f6c43-468b-470e-d590-d354c95da296"
   },
   "outputs": [
    {
     "name": "stdout",
     "output_type": "stream",
     "text": [
      "Requirement already satisfied: tweepy in /usr/local/lib/python3.7/dist-packages (3.10.0)\n",
      "Requirement already satisfied: requests-oauthlib>=0.7.0 in /usr/local/lib/python3.7/dist-packages (from tweepy) (1.3.0)\n",
      "Requirement already satisfied: requests[socks]>=2.11.1 in /usr/local/lib/python3.7/dist-packages (from tweepy) (2.26.0)\n",
      "Requirement already satisfied: six>=1.10.0 in /usr/local/lib/python3.7/dist-packages (from tweepy) (1.15.0)\n",
      "Requirement already satisfied: oauthlib>=3.0.0 in /usr/local/lib/python3.7/dist-packages (from requests-oauthlib>=0.7.0->tweepy) (3.1.1)\n",
      "Requirement already satisfied: charset-normalizer~=2.0.0 in /usr/local/lib/python3.7/dist-packages (from requests[socks]>=2.11.1->tweepy) (2.0.7)\n",
      "Requirement already satisfied: urllib3<1.27,>=1.21.1 in /usr/local/lib/python3.7/dist-packages (from requests[socks]>=2.11.1->tweepy) (1.26.7)\n",
      "Requirement already satisfied: idna<4,>=2.5 in /usr/local/lib/python3.7/dist-packages (from requests[socks]>=2.11.1->tweepy) (2.10)\n",
      "Requirement already satisfied: certifi>=2017.4.17 in /usr/local/lib/python3.7/dist-packages (from requests[socks]>=2.11.1->tweepy) (2021.10.8)\n",
      "Requirement already satisfied: PySocks!=1.5.7,>=1.5.6 in /usr/local/lib/python3.7/dist-packages (from requests[socks]>=2.11.1->tweepy) (1.7.1)\n"
     ]
    }
   ],
   "source": [
    "!pip install tweepy"
   ]
  },
  {
   "cell_type": "code",
   "execution_count": null,
   "metadata": {
    "colab": {
     "base_uri": "https://localhost:8080/"
    },
    "id": "xi4ceGVpIIRP",
    "outputId": "a8a40c29-a8e0-4094-b195-a7fc561abe33"
   },
   "outputs": [
    {
     "name": "stdout",
     "output_type": "stream",
     "text": [
      "TWITTER_API_KEY: ··········\n",
      "TWITTER_API_KEY_SECRET: ··········\n",
      "TWITTER_ACCESS_TOKEN: ··········\n",
      "TWITTER_ACCESS_TOKEN_SECRET: ··········\n"
     ]
    }
   ],
   "source": [
    "from getpass import getpass\n",
    "\n",
    "TWITTER_API_KEY = getpass(\"TWITTER_API_KEY: \")\n",
    "TWITTER_API_KEY_SECRET = getpass(\"TWITTER_API_KEY_SECRET: \")\n",
    "TWITTER_ACCESS_TOKEN = getpass(\"TWITTER_ACCESS_TOKEN: \")\n",
    "TWITTER_ACCESS_TOKEN_SECRET = getpass(\"TWITTER_ACCESS_TOKEN_SECRET: \")"
   ]
  },
  {
   "cell_type": "code",
   "execution_count": null,
   "metadata": {
    "colab": {
     "base_uri": "https://localhost:8080/"
    },
    "id": "VEGBQn1VIQO_",
    "outputId": "f93e3746-f40b-479a-9ff9-d5f1ae867246"
   },
   "outputs": [
    {
     "name": "stdout",
     "output_type": "stream",
     "text": [
      "<tweepy.api.API object at 0x7ff9fc8f0150>\n"
     ]
    }
   ],
   "source": [
    "import tweepy\n",
    "\n",
    "# AUTHENTICATE\n",
    "auth = tweepy.OAuthHandler(TWITTER_API_KEY, TWITTER_API_KEY_SECRET)\n",
    "auth.set_access_token(TWITTER_ACCESS_TOKEN, TWITTER_ACCESS_TOKEN_SECRET)\n",
    "\n",
    "# INITIALIZE API CLIENT\n",
    "twitter_client = tweepy.API(auth)\n",
    "print(twitter_client)"
   ]
  },
  {
   "cell_type": "code",
   "execution_count": null,
   "metadata": {
    "colab": {
     "base_uri": "https://localhost:8080/"
    },
    "id": "cv-n3dI1IVDZ",
    "outputId": "1c9c249c-3588-4247-e17e-d9a131ef4ef8"
   },
   "outputs": [
    {
     "name": "stdout",
     "output_type": "stream",
     "text": [
      "---------------------------------------------------------------\n",
      "RECENT TWEETS BY @POTUS:\n",
      "---------------------------------------------------------------\n",
      "2021-11-24 | The United States is experiencing the strongest economic recovery in the world. Even accounting for inflation, Amer… https://t.co/DSgKd0Ehzt\n",
      "2021-11-23 | Jill and I know firsthand what it means to be a military family, and we’re so grateful for everything they do. It w… https://t.co/dCjFqJYZn6\n",
      "2021-11-23 | We are experiencing the strongest economic recovery in the world.\n",
      "\n",
      "Even after accounting for inflation, our economy… https://t.co/uI81MSAfAF\n",
      "2021-11-23 | I will not stand by while oil companies engage in profiteering at the expense of American families.\n",
      "\n",
      "That’s why I’v… https://t.co/fxyCXL9QDu\n",
      "2021-11-23 | Lower prescription drug costs\n",
      "Universal preschool\n",
      "Affordable child care\n",
      "Lower health care costs\n",
      "Historic investment… https://t.co/OQa3mBYW7R\n",
      "2021-11-23 | Tune in as I deliver remarks on the economy and lowering prices for the American people. https://t.co/81OP9ZUk6Y\n",
      "2021-11-23 | Folks, the rule of thumb on boosters is simple: if you’re over 18 and got vaccinated more than six months ago, go g… https://t.co/GBnTvqnVLc\n",
      "2021-11-23 | Every child in this country deserves equal access to high-quality preschool.\n",
      " \n",
      "My Build Back Better Act will make that a reality.\n",
      "2021-11-23 | Had a great day yesterday at Fort Bragg. @FLOTUS’s Joining Forces initiative to support military families couldn’t… https://t.co/fe2SnedsPC\n",
      "2021-11-23 | I have been working with countries across the world to address the lack of supply. As a result of our diplomatic ef… https://t.co/DQg8gCjrVM\n",
      "2021-11-23 | Today I'm announcing action to lower the cost of gas and oil for American families. \n",
      "\n",
      "The Department of Energy will… https://t.co/slgKdIxlKh\n",
      "2021-11-22 | The Bipartisan Infrastructure Law is a historic investment in our nation’s infrastructure and the Build Back Better… https://t.co/XjEA41bIxA\n",
      "2021-11-22 | If you look at my presidency so far, it’s a jobs presidency and it’s a small business presidency.\n",
      "2021-11-22 | Tune in as I announce my nominees for Chair and Vice Chair of the Board of Governors of the Federal Reserve System.  https://t.co/Wm7M70aJYs\n",
      "2021-11-22 | This afternoon, the First Lady and I are heading to Fort Bragg for a Friendsgiving dinner. Our troops and their fam… https://t.co/rf4rpLUXHJ\n",
      "2021-11-22 | America needs steady, independent, and effective leadership at the Federal Reserve. That’s why I will nominate Jero… https://t.co/NEkBTUzOwD\n",
      "2021-11-21 | Millions of folks across the country have diabetes, sometimes paying around $1,000 a month for insulin. It’s outrag… https://t.co/dSBFWHTvy2\n",
      "2021-11-21 | The Bipartisan Infrastructure Law I signed last week is a blue-collar blueprint to rebuild America. It’s going to c… https://t.co/JmKugJTwjE\n",
      "2021-11-21 | Two of the leading rating agencies on Wall Street have confirmed: The Bipartisan Infrastructure Law – along with my… https://t.co/Lvk2j6Mypw\n",
      "2021-11-21 | To Lawrence – and every veteran out there – thank you for selfless service and sacrifice for our nation. We owe you… https://t.co/XU1zPto2qZ\n"
     ]
    }
   ],
   "source": [
    "username = \"POTUS\"\n",
    "\n",
    "print(\"---------------------------------------------------------------\")\n",
    "print(f\"RECENT TWEETS BY @{username.upper()}:\")\n",
    "print(\"---------------------------------------------------------------\")\n",
    "\n",
    "tweets = twitter_client.user_timeline(username) \n",
    "\n",
    "for tweet in tweets:\n",
    "    created_on = tweet.created_at.strftime(\"%Y-%m-%d\")\n",
    "    print(created_on, \"|\", tweet.text)"
   ]
  },
  {
   "cell_type": "markdown",
   "metadata": {
    "id": "5CqXFhU3pKk5"
   },
   "source": [
    "## Spotify API"
   ]
  },
  {
   "cell_type": "markdown",
   "metadata": {
    "id": "WHeYOUpWUlGI"
   },
   "source": [
    "Notes:\n",
    "\n",
    "  + Provides Spotify data in JSON format.\n",
    "  + Uses API Key authentication, passed via headers.\n",
    "\n",
    "References:\n",
    "\n",
    "  + https://developer.spotify.com/documentation/web-api/\n",
    "  + https://developer.spotify.com/documentation/general/guides/authorization-guide\n",
    "  + https://developer.spotify.com/documentation/general/guides/scopes/\n",
    "\n",
    "API Wrapper Package (`spotipy`):\n",
    "  + https://github.com/plamere/spotipy\n",
    "  + https://github.com/plamere/spotipy#quick-start\n",
    "  + https://spotipy.readthedocs.io/en/latest/\n",
    "  + https://spotipy.readthedocs.io/en/latest/#client-credentials-flow\n",
    "  + https://spotipy.readthedocs.io/en/latest/#authorization-code-flow\n",
    "\n",
    "> NOTE: it's probably easiest to use the `spotipy` wrapper package, mostly because it helps with authentication. "
   ]
  },
  {
   "cell_type": "code",
   "execution_count": null,
   "metadata": {
    "colab": {
     "base_uri": "https://localhost:8080/"
    },
    "id": "PrZj9oi7pKAr",
    "outputId": "cbd98d49-1c09-4b93-e2ac-4f1bb09d0bbf"
   },
   "outputs": [
    {
     "name": "stdout",
     "output_type": "stream",
     "text": [
      "Requirement already satisfied: urllib3 in /usr/local/lib/python3.7/dist-packages (1.26.7)\n",
      "Requirement already satisfied: requests in /usr/local/lib/python3.7/dist-packages (2.26.0)\n",
      "Requirement already satisfied: certifi>=2017.4.17 in /usr/local/lib/python3.7/dist-packages (from requests) (2021.10.8)\n",
      "Requirement already satisfied: urllib3<1.27,>=1.21.1 in /usr/local/lib/python3.7/dist-packages (from requests) (1.26.7)\n",
      "Requirement already satisfied: charset-normalizer~=2.0.0 in /usr/local/lib/python3.7/dist-packages (from requests) (2.0.7)\n",
      "Requirement already satisfied: idna<4,>=2.5 in /usr/local/lib/python3.7/dist-packages (from requests) (2.10)\n",
      "Requirement already satisfied: spotipy in /usr/local/lib/python3.7/dist-packages (2.19.0)\n",
      "Requirement already satisfied: urllib3>=1.26.0 in /usr/local/lib/python3.7/dist-packages (from spotipy) (1.26.7)\n",
      "Requirement already satisfied: six>=1.15.0 in /usr/local/lib/python3.7/dist-packages (from spotipy) (1.15.0)\n",
      "Requirement already satisfied: requests>=2.25.0 in /usr/local/lib/python3.7/dist-packages (from spotipy) (2.26.0)\n",
      "Requirement already satisfied: idna<4,>=2.5 in /usr/local/lib/python3.7/dist-packages (from requests>=2.25.0->spotipy) (2.10)\n",
      "Requirement already satisfied: certifi>=2017.4.17 in /usr/local/lib/python3.7/dist-packages (from requests>=2.25.0->spotipy) (2021.10.8)\n",
      "Requirement already satisfied: charset-normalizer~=2.0.0 in /usr/local/lib/python3.7/dist-packages (from requests>=2.25.0->spotipy) (2.0.7)\n"
     ]
    }
   ],
   "source": [
    "!pip install urllib3 --upgrade # there is an issue with spotipy unless we use newer version\n",
    "!pip install requests --upgrade # there is an issue with spotipy unless we use newer version\n",
    "!pip install spotipy --upgrade"
   ]
  },
  {
   "cell_type": "code",
   "execution_count": null,
   "metadata": {
    "colab": {
     "base_uri": "https://localhost:8080/"
    },
    "id": "PPLWs4fLWDM9",
    "outputId": "bc1239e1-8a81-4553-a5d7-4699d5fa37bf"
   },
   "outputs": [
    {
     "name": "stdout",
     "output_type": "stream",
     "text": [
      "Please enter your SPOTIPY_CLIENT_ID: ··········\n",
      "Please enter your SPOTIPY_CLIENT_SECRET: ··········\n"
     ]
    }
   ],
   "source": [
    "\n",
    "#\n",
    "# SETUP\n",
    "#\n",
    "\n",
    "# this is the way we are setting env vars in colab\n",
    "# alternatively we could do %env SPOTIPY_CLIENT_ID=abcdefgh\n",
    "from getpass import getpass\n",
    "\n",
    "import os\n",
    "\n",
    "SPOTIPY_CLIENT_ID = getpass(\"Please enter your SPOTIPY_CLIENT_ID: \")\n",
    "SPOTIPY_CLIENT_SECRET = getpass(\"Please enter your SPOTIPY_CLIENT_SECRET: \")\n",
    "\n",
    "os.environ[\"SPOTIPY_CLIENT_ID\"] = SPOTIPY_CLIENT_ID # env var used implicitly by the spotipy package\n",
    "os.environ[\"SPOTIPY_CLIENT_SECRET\"] = SPOTIPY_CLIENT_SECRET # env var used implicitly by the spotipy package\n"
   ]
  },
  {
   "cell_type": "code",
   "execution_count": null,
   "metadata": {
    "colab": {
     "base_uri": "https://localhost:8080/"
    },
    "id": "mo5HyBvhWU10",
    "outputId": "036f065d-ee84-4418-fd01-aa5d38b0b73d"
   },
   "outputs": [
    {
     "name": "stdout",
     "output_type": "stream",
     "text": [
      "CLIENT: <class 'spotipy.client.Spotify'>\n"
     ]
    }
   ],
   "source": [
    "from spotipy import Spotify\n",
    "from spotipy.oauth2 import SpotifyClientCredentials\n",
    "\n",
    "# FYI: implicitly checks for env vars named SPOTIPY_CLIENT_ID and SPOTIPY_CLIENT_SECRET \n",
    "client_credentials_manager = SpotifyClientCredentials()\n",
    "\n",
    "client = Spotify(client_credentials_manager=client_credentials_manager)\n",
    "print(\"CLIENT:\", type(client))"
   ]
  },
  {
   "cell_type": "code",
   "execution_count": null,
   "metadata": {
    "id": "2-9JOj8gWRBG"
   },
   "outputs": [],
   "source": [
    "from pandas import DataFrame\n",
    "from IPython.core.display import HTML\n",
    "\n",
    "# convert image URL to html h/t: https://towardsdatascience.com/rendering-images-inside-a-pandas-dataframe-3631a4883f60\n",
    "def img_html(url):\n",
    "    return '<img src=\"'+ url + '\" width=\"50\" >'\n",
    "\n",
    "def preview_html(url):\n",
    "    if url:\n",
    "        return '<a href=\"'+ url + '\" >Listen on Spotify</a>'\n",
    "    else:\n",
    "        return None\n",
    "\n",
    "def fetch_tracks(search_term):\n",
    "    results = client.search(q=search_term, limit=20)\n",
    "\n",
    "    tracks = results[\"tracks\"][\"items\"]\n",
    "\n",
    "    try:\n",
    "        del tracks[0][\"album\"][\"available_markets\"]\n",
    "    except:\n",
    "        pass\n",
    "\n",
    "    records = []\n",
    "    for index, track in enumerate(tracks):\n",
    "        #print(' ', index, \"|\", track['name'], \"|\", track[\"artists\"][0][\"name\"])\n",
    "        #print(track[\"preview_url\"])\n",
    "        record = {\n",
    "            \"index\": index,\n",
    "            \"name\": track['name'],\n",
    "            \"artist\": track[\"artists\"][0][\"name\"],\n",
    "            #\"duration_ms\": track['duration_ms'],\n",
    "            #\"explicit\":  track['explicit'],\n",
    "            \"popularity\": track[\"popularity\"],\n",
    "            \"preview_url\": preview_html(track[\"preview_url\"]),\n",
    "            \"album_art\": img_html(track[\"album\"][\"images\"][0][\"url\"])\n",
    "        }\n",
    "        records.append(record)\n",
    "\n",
    "    tracks_df = DataFrame(records)\n",
    "\n",
    "    tracks_table = HTML(tracks_df.to_html(escape=False, index=False, formatters=dict(Icon=img_html)))\n",
    "\n",
    "    #return tracks_table\n",
    "\n",
    "    display(tracks_table)"
   ]
  },
  {
   "cell_type": "code",
   "execution_count": null,
   "metadata": {
    "colab": {
     "base_uri": "https://localhost:8080/",
     "height": 1000
    },
    "id": "0DvUQ5XzYpGq",
    "outputId": "59df7061-2567-4324-d932-4e208436fdc0"
   },
   "outputs": [
    {
     "data": {
      "text/html": [
       "<table border=\"1\" class=\"dataframe\">\n",
       "  <thead>\n",
       "    <tr style=\"text-align: right;\">\n",
       "      <th>index</th>\n",
       "      <th>name</th>\n",
       "      <th>artist</th>\n",
       "      <th>popularity</th>\n",
       "      <th>preview_url</th>\n",
       "      <th>album_art</th>\n",
       "    </tr>\n",
       "  </thead>\n",
       "  <tbody>\n",
       "    <tr>\n",
       "      <td>0</td>\n",
       "      <td>New Light</td>\n",
       "      <td>John Mayer</td>\n",
       "      <td>77</td>\n",
       "      <td><a href=\"https://p.scdn.co/mp3-preview/20ab6b40b861a8a6cb591289aee36cdbce44dcf9?cid=d7df2abc82674544a78cb3f39fd7d585\" >Listen on Spotify</a></td>\n",
       "      <td><img src=\"https://i.scdn.co/image/ab67616d0000b273779063301154e835a91a35e0\" width=\"50\" ></td>\n",
       "    </tr>\n",
       "    <tr>\n",
       "      <td>1</td>\n",
       "      <td>My Stupid Mouth</td>\n",
       "      <td>John Mayer</td>\n",
       "      <td>56</td>\n",
       "      <td><a href=\"https://p.scdn.co/mp3-preview/ac1e82284c05bc62922763d4db6b9ee230b11430?cid=d7df2abc82674544a78cb3f39fd7d585\" >Listen on Spotify</a></td>\n",
       "      <td><img src=\"https://i.scdn.co/image/ab67616d0000b2738848d57cbfa7751e028f4dc9\" width=\"50\" ></td>\n",
       "    </tr>\n",
       "    <tr>\n",
       "      <td>2</td>\n",
       "      <td>Slow Dancing in a Burning Room</td>\n",
       "      <td>John Mayer</td>\n",
       "      <td>74</td>\n",
       "      <td><a href=\"https://p.scdn.co/mp3-preview/43906dc15ec117192b9f2a83021c70d9c6f309c0?cid=d7df2abc82674544a78cb3f39fd7d585\" >Listen on Spotify</a></td>\n",
       "      <td><img src=\"https://i.scdn.co/image/ab67616d0000b2737af5fdc5ef048a68db62b85f\" width=\"50\" ></td>\n",
       "    </tr>\n",
       "    <tr>\n",
       "      <td>3</td>\n",
       "      <td>Outta My Head (with John Mayer)</td>\n",
       "      <td>Khalid</td>\n",
       "      <td>67</td>\n",
       "      <td><a href=\"https://p.scdn.co/mp3-preview/cdbf0754610cc241f80165a26fb498f8e733d6bb?cid=d7df2abc82674544a78cb3f39fd7d585\" >Listen on Spotify</a></td>\n",
       "      <td><img src=\"https://i.scdn.co/image/ab67616d0000b273b361ce46dbadbf8a11081b60\" width=\"50\" ></td>\n",
       "    </tr>\n",
       "    <tr>\n",
       "      <td>4</td>\n",
       "      <td>Daughters</td>\n",
       "      <td>John Mayer</td>\n",
       "      <td>42</td>\n",
       "      <td><a href=\"https://p.scdn.co/mp3-preview/5a0601ba812342ba27f3094bd7deb1a4b019ce0a?cid=d7df2abc82674544a78cb3f39fd7d585\" >Listen on Spotify</a></td>\n",
       "      <td><img src=\"https://i.scdn.co/image/ab67616d0000b273e4a9075cc5c6b947aedc100d\" width=\"50\" ></td>\n",
       "    </tr>\n",
       "    <tr>\n",
       "      <td>5</td>\n",
       "      <td>Waiting On the World to Change</td>\n",
       "      <td>John Mayer</td>\n",
       "      <td>72</td>\n",
       "      <td><a href=\"https://p.scdn.co/mp3-preview/8c33fc1c4d4ab02391a910c71ab41218912f5545?cid=d7df2abc82674544a78cb3f39fd7d585\" >Listen on Spotify</a></td>\n",
       "      <td><img src=\"https://i.scdn.co/image/ab67616d0000b2737af5fdc5ef048a68db62b85f\" width=\"50\" ></td>\n",
       "    </tr>\n",
       "    <tr>\n",
       "      <td>6</td>\n",
       "      <td>3x5</td>\n",
       "      <td>John Mayer</td>\n",
       "      <td>47</td>\n",
       "      <td><a href=\"https://p.scdn.co/mp3-preview/19075c462a00b8032fa71c03feedc4eb8a125448?cid=d7df2abc82674544a78cb3f39fd7d585\" >Listen on Spotify</a></td>\n",
       "      <td><img src=\"https://i.scdn.co/image/ab67616d0000b2738848d57cbfa7751e028f4dc9\" width=\"50\" ></td>\n",
       "    </tr>\n",
       "    <tr>\n",
       "      <td>7</td>\n",
       "      <td>Your Body Is a Wonderland</td>\n",
       "      <td>John Mayer</td>\n",
       "      <td>74</td>\n",
       "      <td><a href=\"https://p.scdn.co/mp3-preview/7d1019b439ef1aae6d7f51d7e1d6d7a0ed94f1a6?cid=d7df2abc82674544a78cb3f39fd7d585\" >Listen on Spotify</a></td>\n",
       "      <td><img src=\"https://i.scdn.co/image/ab67616d0000b2738848d57cbfa7751e028f4dc9\" width=\"50\" ></td>\n",
       "    </tr>\n",
       "    <tr>\n",
       "      <td>8</td>\n",
       "      <td>St. Patrick's Day</td>\n",
       "      <td>John Mayer</td>\n",
       "      <td>48</td>\n",
       "      <td><a href=\"https://p.scdn.co/mp3-preview/45fac6d6d8b11f1a7ed575b2fbac465bcc3cdff1?cid=d7df2abc82674544a78cb3f39fd7d585\" >Listen on Spotify</a></td>\n",
       "      <td><img src=\"https://i.scdn.co/image/ab67616d0000b2738848d57cbfa7751e028f4dc9\" width=\"50\" ></td>\n",
       "    </tr>\n",
       "    <tr>\n",
       "      <td>9</td>\n",
       "      <td>Gravity</td>\n",
       "      <td>John Mayer</td>\n",
       "      <td>72</td>\n",
       "      <td><a href=\"https://p.scdn.co/mp3-preview/322f5fabaf2eb965f18c309ed41befea7a6fea3e?cid=d7df2abc82674544a78cb3f39fd7d585\" >Listen on Spotify</a></td>\n",
       "      <td><img src=\"https://i.scdn.co/image/ab67616d0000b2737af5fdc5ef048a68db62b85f\" width=\"50\" ></td>\n",
       "    </tr>\n",
       "    <tr>\n",
       "      <td>10</td>\n",
       "      <td>83</td>\n",
       "      <td>John Mayer</td>\n",
       "      <td>46</td>\n",
       "      <td><a href=\"https://p.scdn.co/mp3-preview/8bf6b769d4757916cdf18c8cc0d00f302fd008c5?cid=d7df2abc82674544a78cb3f39fd7d585\" >Listen on Spotify</a></td>\n",
       "      <td><img src=\"https://i.scdn.co/image/ab67616d0000b2738848d57cbfa7751e028f4dc9\" width=\"50\" ></td>\n",
       "    </tr>\n",
       "    <tr>\n",
       "      <td>11</td>\n",
       "      <td>Last Train Home</td>\n",
       "      <td>John Mayer</td>\n",
       "      <td>73</td>\n",
       "      <td><a href=\"https://p.scdn.co/mp3-preview/d944b36959d68a44767549d1e54db0839f25ed31?cid=d7df2abc82674544a78cb3f39fd7d585\" >Listen on Spotify</a></td>\n",
       "      <td><img src=\"https://i.scdn.co/image/ab67616d0000b273779063301154e835a91a35e0\" width=\"50\" ></td>\n",
       "    </tr>\n",
       "    <tr>\n",
       "      <td>12</td>\n",
       "      <td>Not Myself</td>\n",
       "      <td>John Mayer</td>\n",
       "      <td>44</td>\n",
       "      <td><a href=\"https://p.scdn.co/mp3-preview/3e32dfac15914744ff1cd6ec1ae277df2c559bb8?cid=d7df2abc82674544a78cb3f39fd7d585\" >Listen on Spotify</a></td>\n",
       "      <td><img src=\"https://i.scdn.co/image/ab67616d0000b2738848d57cbfa7751e028f4dc9\" width=\"50\" ></td>\n",
       "    </tr>\n",
       "    <tr>\n",
       "      <td>13</td>\n",
       "      <td>I Guess I Just Feel Like</td>\n",
       "      <td>John Mayer</td>\n",
       "      <td>72</td>\n",
       "      <td><a href=\"https://p.scdn.co/mp3-preview/da21cc0cc279553b18a5f7fe74117e826aea50bd?cid=d7df2abc82674544a78cb3f39fd7d585\" >Listen on Spotify</a></td>\n",
       "      <td><img src=\"https://i.scdn.co/image/ab67616d0000b273779063301154e835a91a35e0\" width=\"50\" ></td>\n",
       "    </tr>\n",
       "    <tr>\n",
       "      <td>14</td>\n",
       "      <td>John Mayer</td>\n",
       "      <td>Norman Sann</td>\n",
       "      <td>7</td>\n",
       "      <td><a href=\"https://p.scdn.co/mp3-preview/10c8c589f997ab15af80f148566ff16a592c7522?cid=d7df2abc82674544a78cb3f39fd7d585\" >Listen on Spotify</a></td>\n",
       "      <td><img src=\"https://i.scdn.co/image/ab67616d0000b273bd1cd17a270f9379ee662d87\" width=\"50\" ></td>\n",
       "    </tr>\n",
       "    <tr>\n",
       "      <td>15</td>\n",
       "      <td>Free Fallin' - Live at the Nokia Theatre, Los Angeles, CA - December 2007</td>\n",
       "      <td>John Mayer</td>\n",
       "      <td>72</td>\n",
       "      <td><a href=\"https://p.scdn.co/mp3-preview/36b3598f1cdb40790c11e32b50289ba7b83d3794?cid=d7df2abc82674544a78cb3f39fd7d585\" >Listen on Spotify</a></td>\n",
       "      <td><img src=\"https://i.scdn.co/image/ab67616d0000b2735b9c332f9f76cabc137e400f\" width=\"50\" ></td>\n",
       "    </tr>\n",
       "    <tr>\n",
       "      <td>16</td>\n",
       "      <td>John Mayer</td>\n",
       "      <td>Andrew Shapiro</td>\n",
       "      <td>5</td>\n",
       "      <td><a href=\"https://p.scdn.co/mp3-preview/1d0c3255bd5157b1abfaeb7ff4a9646f7f08bc27?cid=d7df2abc82674544a78cb3f39fd7d585\" >Listen on Spotify</a></td>\n",
       "      <td><img src=\"https://i.scdn.co/image/ab67616d0000b273e39f8610f31db8b963c2caa1\" width=\"50\" ></td>\n",
       "    </tr>\n",
       "    <tr>\n",
       "      <td>17</td>\n",
       "      <td>John Mayer</td>\n",
       "      <td>Akanimo</td>\n",
       "      <td>1</td>\n",
       "      <td><a href=\"https://p.scdn.co/mp3-preview/668ca0fa3d77d843d40b6700096f60f0e09a4a78?cid=d7df2abc82674544a78cb3f39fd7d585\" >Listen on Spotify</a></td>\n",
       "      <td><img src=\"https://i.scdn.co/image/ab67616d0000b273ce298bfc6878c89b2d32a70a\" width=\"50\" ></td>\n",
       "    </tr>\n",
       "    <tr>\n",
       "      <td>18</td>\n",
       "      <td>Daughters</td>\n",
       "      <td>John Mayer</td>\n",
       "      <td>66</td>\n",
       "      <td><a href=\"https://p.scdn.co/mp3-preview/9fc190efe8f2fb490f733c6a5bcdb8fc47a4d4d8?cid=d7df2abc82674544a78cb3f39fd7d585\" >Listen on Spotify</a></td>\n",
       "      <td><img src=\"https://i.scdn.co/image/ab67616d0000b2731a4c7c7e6eeaee67c9e8ce71\" width=\"50\" ></td>\n",
       "    </tr>\n",
       "    <tr>\n",
       "      <td>19</td>\n",
       "      <td>John Mayer</td>\n",
       "      <td>The Screenshots</td>\n",
       "      <td>14</td>\n",
       "      <td><a href=\"https://p.scdn.co/mp3-preview/cf42c3571324e33907202766365e9db739a21655?cid=d7df2abc82674544a78cb3f39fd7d585\" >Listen on Spotify</a></td>\n",
       "      <td><img src=\"https://i.scdn.co/image/ab67616d0000b273610df5f85b0dc00205620b87\" width=\"50\" ></td>\n",
       "    </tr>\n",
       "  </tbody>\n",
       "</table>"
      ],
      "text/plain": [
       "<IPython.core.display.HTML object>"
      ]
     },
     "metadata": {},
     "output_type": "display_data"
    }
   ],
   "source": [
    "search_term = \"John Mayer\"\n",
    "fetch_tracks(search_term)"
   ]
  }
 ],
 "metadata": {
  "colab": {
   "name": "Copy of APIs Overview",
   "provenance": [],
   "toc_visible": true
  },
  "kernelspec": {
   "display_name": "Python 3 (ipykernel)",
   "language": "python",
   "name": "python3"
  },
  "language_info": {
   "codemirror_mode": {
    "name": "ipython",
    "version": 3
   },
   "file_extension": ".py",
   "mimetype": "text/x-python",
   "name": "python",
   "nbconvert_exporter": "python",
   "pygments_lexer": "ipython3",
   "version": "3.9.7"
  }
 },
 "nbformat": 4,
 "nbformat_minor": 1
}
