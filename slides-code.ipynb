{
 "cells": [
  {
   "cell_type": "markdown",
   "id": "4374d4e9",
   "metadata": {},
   "source": [
    "# API requests"
   ]
  },
  {
   "cell_type": "markdown",
   "id": "f0cb794b",
   "metadata": {},
   "source": [
    "## Overview\n",
    "In this lesson, students will learn to access external sources of data using HTTP requests\n",
    "\n",
    "## Learning Objectives\n",
    "* Make HTTP requests for data to external API sources.\n",
    "* Evaluate API documentation to determine data contents, accessibility, and request formatting."
   ]
  },
  {
   "cell_type": "code",
   "execution_count": 1,
   "id": "297ef695",
   "metadata": {},
   "outputs": [],
   "source": [
    "import requests"
   ]
  },
  {
   "cell_type": "code",
   "execution_count": 8,
   "id": "26afc654",
   "metadata": {},
   "outputs": [],
   "source": [
    "API_KEY = \"53bfc95d\" # <- Super Secret Shhhh\n",
    "title = \"The Godfather\" #Search for a movie you like\n",
    "url = 'http://www.omdbapi.com?'\n",
    "\n",
    "payload = {'t': title,\n",
    "           'apikey': API_KEY}\n",
    "\n",
    "data = requests.get('http://www.omdbapi.com?', params=payload)"
   ]
  },
  {
   "cell_type": "code",
   "execution_count": 9,
   "id": "f9a0cd74",
   "metadata": {},
   "outputs": [
    {
     "data": {
      "text/plain": [
       "{'Title': 'The Godfather',\n",
       " 'Year': '1972',\n",
       " 'Rated': 'R',\n",
       " 'Released': '24 Mar 1972',\n",
       " 'Runtime': '175 min',\n",
       " 'Genre': 'Crime, Drama',\n",
       " 'Director': 'Francis Ford Coppola',\n",
       " 'Writer': 'Mario Puzo, Francis Ford Coppola',\n",
       " 'Actors': 'Marlon Brando, Al Pacino, James Caan',\n",
       " 'Plot': 'The Godfather follows Vito Corleone, Don of the Corleone family, as he passes the mantel to his unwilling son, Michael.',\n",
       " 'Language': 'English, Italian, Latin',\n",
       " 'Country': 'United States',\n",
       " 'Awards': 'Won 3 Oscars. 31 wins & 30 nominations total',\n",
       " 'Poster': 'https://m.media-amazon.com/images/M/MV5BM2MyNjYxNmUtYTAwNi00MTYxLWJmNWYtYzZlODY3ZTk3OTFlXkEyXkFqcGdeQXVyNzkwMjQ5NzM@._V1_SX300.jpg',\n",
       " 'Ratings': [{'Source': 'Internet Movie Database', 'Value': '9.2/10'},\n",
       "  {'Source': 'Rotten Tomatoes', 'Value': '97%'},\n",
       "  {'Source': 'Metacritic', 'Value': '100/100'}],\n",
       " 'Metascore': '100',\n",
       " 'imdbRating': '9.2',\n",
       " 'imdbVotes': '1,729,128',\n",
       " 'imdbID': 'tt0068646',\n",
       " 'Type': 'movie',\n",
       " 'DVD': '11 May 2004',\n",
       " 'BoxOffice': '$134,966,411',\n",
       " 'Production': 'N/A',\n",
       " 'Website': 'N/A',\n",
       " 'Response': 'True'}"
      ]
     },
     "execution_count": 9,
     "metadata": {},
     "output_type": "execute_result"
    }
   ],
   "source": [
    "parsed_data = data.json()\n",
    "parsed_data"
   ]
  },
  {
   "cell_type": "code",
   "execution_count": 11,
   "id": "e40a4243",
   "metadata": {},
   "outputs": [],
   "source": [
    "payload = {'t': \"Star Wars\",\n",
    "           'apikey': API_KEY}\n",
    "\n",
    "data = requests.get('http://www.omdbapi.com?', params=payload)"
   ]
  },
  {
   "cell_type": "code",
   "execution_count": 12,
   "id": "c87f5a7b",
   "metadata": {},
   "outputs": [
    {
     "data": {
      "text/plain": [
       "{'Title': 'Star Wars: Episode IV - A New Hope',\n",
       " 'Year': '1977',\n",
       " 'Rated': 'PG',\n",
       " 'Released': '25 May 1977',\n",
       " 'Runtime': '121 min',\n",
       " 'Genre': 'Action, Adventure, Fantasy',\n",
       " 'Director': 'George Lucas',\n",
       " 'Writer': 'George Lucas',\n",
       " 'Actors': 'Mark Hamill, Harrison Ford, Carrie Fisher',\n",
       " 'Plot': \"Luke Skywalker joins forces with a Jedi Knight, a cocky pilot, a Wookiee and two droids to save the galaxy from the Empire's world-destroying battle station, while also attempting to rescue Princess Leia from the mysterious Darth Vad\",\n",
       " 'Language': 'English',\n",
       " 'Country': 'United States, United Kingdom',\n",
       " 'Awards': 'Won 7 Oscars. 63 wins & 29 nominations total',\n",
       " 'Poster': 'https://m.media-amazon.com/images/M/MV5BNzVlY2MwMjktM2E4OS00Y2Y3LWE3ZjctYzhkZGM3YzA1ZWM2XkEyXkFqcGdeQXVyNzkwMjQ5NzM@._V1_SX300.jpg',\n",
       " 'Ratings': [{'Source': 'Internet Movie Database', 'Value': '8.6/10'},\n",
       "  {'Source': 'Rotten Tomatoes', 'Value': '92%'},\n",
       "  {'Source': 'Metacritic', 'Value': '90/100'}],\n",
       " 'Metascore': '90',\n",
       " 'imdbRating': '8.6',\n",
       " 'imdbVotes': '1,291,208',\n",
       " 'imdbID': 'tt0076759',\n",
       " 'Type': 'movie',\n",
       " 'DVD': '06 Dec 2005',\n",
       " 'BoxOffice': '$460,998,507',\n",
       " 'Production': 'N/A',\n",
       " 'Website': 'N/A',\n",
       " 'Response': 'True'}"
      ]
     },
     "execution_count": 12,
     "metadata": {},
     "output_type": "execute_result"
    }
   ],
   "source": [
    "response = data.json()\n",
    "response"
   ]
  },
  {
   "cell_type": "markdown",
   "id": "dbfed3e2",
   "metadata": {},
   "source": [
    "#  Many-Layered Objects"
   ]
  },
  {
   "cell_type": "code",
   "execution_count": 13,
   "id": "f1927063",
   "metadata": {},
   "outputs": [
    {
     "data": {
      "text/plain": [
       "dict_keys(['Title', 'Year', 'Rated', 'Released', 'Runtime', 'Genre', 'Director', 'Writer', 'Actors', 'Plot', 'Language', 'Country', 'Awards', 'Poster', 'Ratings', 'Metascore', 'imdbRating', 'imdbVotes', 'imdbID', 'Type', 'DVD', 'BoxOffice', 'Production', 'Website', 'Response'])"
      ]
     },
     "execution_count": 13,
     "metadata": {},
     "output_type": "execute_result"
    }
   ],
   "source": [
    "# JSON: it's just like a dictionary\n",
    "response.keys()"
   ]
  },
  {
   "cell_type": "code",
   "execution_count": 14,
   "id": "f5199da2",
   "metadata": {},
   "outputs": [
    {
     "data": {
      "text/plain": [
       "'Star Wars: Episode IV - A New Hope'"
      ]
     },
     "execution_count": 14,
     "metadata": {},
     "output_type": "execute_result"
    }
   ],
   "source": [
    "response['Title']"
   ]
  },
  {
   "cell_type": "code",
   "execution_count": 15,
   "id": "43ee6f7a",
   "metadata": {},
   "outputs": [
    {
     "data": {
      "text/plain": [
       "[{'Source': 'Internet Movie Database', 'Value': '8.6/10'},\n",
       " {'Source': 'Rotten Tomatoes', 'Value': '92%'},\n",
       " {'Source': 'Metacritic', 'Value': '90/100'}]"
      ]
     },
     "execution_count": 15,
     "metadata": {},
     "output_type": "execute_result"
    }
   ],
   "source": [
    "response['Ratings']"
   ]
  },
  {
   "cell_type": "code",
   "execution_count": 16,
   "id": "f89d0261",
   "metadata": {},
   "outputs": [
    {
     "data": {
      "text/plain": [
       "'Rotten Tomatoes'"
      ]
     },
     "execution_count": 16,
     "metadata": {},
     "output_type": "execute_result"
    }
   ],
   "source": [
    "response['Ratings'][1]['Source']"
   ]
  },
  {
   "cell_type": "code",
   "execution_count": null,
   "id": "6442c222",
   "metadata": {},
   "outputs": [],
   "source": []
  }
 ],
 "metadata": {
  "kernelspec": {
   "display_name": "Python 3 (ipykernel)",
   "language": "python",
   "name": "python3"
  },
  "language_info": {
   "codemirror_mode": {
    "name": "ipython",
    "version": 3
   },
   "file_extension": ".py",
   "mimetype": "text/x-python",
   "name": "python",
   "nbconvert_exporter": "python",
   "pygments_lexer": "ipython3",
   "version": "3.9.7"
  }
 },
 "nbformat": 4,
 "nbformat_minor": 5
}
