{
 "cells": [
  {
   "cell_type": "markdown",
   "id": "4374d4e9",
   "metadata": {},
   "source": [
    "# API requests"
   ]
  },
  {
   "cell_type": "markdown",
   "id": "f0cb794b",
   "metadata": {},
   "source": [
    "## Overview\n",
    "In this lesson, students will learn to access external sources of data using HTTP requests\n",
    "\n",
    "## Learning Objectives\n",
    "* Make HTTP requests for data to external API sources.\n",
    "* Evaluate API documentation to determine data contents, accessibility, and request formatting."
   ]
  },
  {
   "cell_type": "code",
   "execution_count": 1,
   "id": "297ef695",
   "metadata": {},
   "outputs": [],
   "source": [
    "import requests"
   ]
  },
  {
   "cell_type": "code",
   "execution_count": 7,
   "id": "26afc654",
   "metadata": {},
   "outputs": [],
   "source": [
    "API_KEY = \"53bfc95d\" # <- Super Secret Shhhh\n",
    "title = \"Jurassic Park\" #Search for a movie you like\n",
    "url = 'http://www.omdbapi.com?'\n",
    "\n",
    "payload = {'t': title,\n",
    "           'apikey': API_KEY}\n",
    "\n",
    "data = requests.get('http://www.omdbapi.com?', params=payload)"
   ]
  },
  {
   "cell_type": "code",
   "execution_count": 11,
   "id": "f9a0cd74",
   "metadata": {},
   "outputs": [
    {
     "data": {
      "text/plain": [
       "{'Title': 'Star Wars: Episode IV - A New Hope',\n",
       " 'Year': '1977',\n",
       " 'Rated': 'PG',\n",
       " 'Released': '25 May 1977',\n",
       " 'Runtime': '121 min',\n",
       " 'Genre': 'Action, Adventure, Fantasy',\n",
       " 'Director': 'George Lucas',\n",
       " 'Writer': 'George Lucas',\n",
       " 'Actors': 'Mark Hamill, Harrison Ford, Carrie Fisher',\n",
       " 'Plot': \"Luke Skywalker joins forces with a Jedi Knight, a cocky pilot, a Wookiee and two droids to save the galaxy from the Empire's world-destroying battle station, while also attempting to rescue Princess Leia from the mysterious Darth Vad\",\n",
       " 'Language': 'English',\n",
       " 'Country': 'United States, United Kingdom',\n",
       " 'Awards': 'Won 7 Oscars. 63 wins & 29 nominations total',\n",
       " 'Poster': 'https://m.media-amazon.com/images/M/MV5BNzVlY2MwMjktM2E4OS00Y2Y3LWE3ZjctYzhkZGM3YzA1ZWM2XkEyXkFqcGdeQXVyNzkwMjQ5NzM@._V1_SX300.jpg',\n",
       " 'Ratings': [{'Source': 'Internet Movie Database', 'Value': '8.6/10'},\n",
       "  {'Source': 'Rotten Tomatoes', 'Value': '92%'},\n",
       "  {'Source': 'Metacritic', 'Value': '90/100'}],\n",
       " 'Metascore': '90',\n",
       " 'imdbRating': '8.6',\n",
       " 'imdbVotes': '1,291,208',\n",
       " 'imdbID': 'tt0076759',\n",
       " 'Type': 'movie',\n",
       " 'DVD': '06 Dec 2005',\n",
       " 'BoxOffice': '$460,998,507',\n",
       " 'Production': 'N/A',\n",
       " 'Website': 'N/A',\n",
       " 'Response': 'True'}"
      ]
     },
     "execution_count": 11,
     "metadata": {},
     "output_type": "execute_result"
    }
   ],
   "source": [
    "parsed_data = data.json()\n",
    "parsed_data"
   ]
  },
  {
   "cell_type": "code",
   "execution_count": 9,
   "id": "e40a4243",
   "metadata": {},
   "outputs": [],
   "source": [
    "payload = {'t': \"Star Wars\",\n",
    "           'apikey': API_KEY}\n",
    "\n",
    "data = requests.get('http://www.omdbapi.com?', params=payload)"
   ]
  },
  {
   "cell_type": "code",
   "execution_count": 13,
   "id": "c87f5a7b",
   "metadata": {},
   "outputs": [
    {
     "data": {
      "text/plain": [
       "{'Title': 'Star Wars: Episode IV - A New Hope',\n",
       " 'Year': '1977',\n",
       " 'Rated': 'PG',\n",
       " 'Released': '25 May 1977',\n",
       " 'Runtime': '121 min',\n",
       " 'Genre': 'Action, Adventure, Fantasy',\n",
       " 'Director': 'George Lucas',\n",
       " 'Writer': 'George Lucas',\n",
       " 'Actors': 'Mark Hamill, Harrison Ford, Carrie Fisher',\n",
       " 'Plot': \"Luke Skywalker joins forces with a Jedi Knight, a cocky pilot, a Wookiee and two droids to save the galaxy from the Empire's world-destroying battle station, while also attempting to rescue Princess Leia from the mysterious Darth Vad\",\n",
       " 'Language': 'English',\n",
       " 'Country': 'United States, United Kingdom',\n",
       " 'Awards': 'Won 7 Oscars. 63 wins & 29 nominations total',\n",
       " 'Poster': 'https://m.media-amazon.com/images/M/MV5BNzVlY2MwMjktM2E4OS00Y2Y3LWE3ZjctYzhkZGM3YzA1ZWM2XkEyXkFqcGdeQXVyNzkwMjQ5NzM@._V1_SX300.jpg',\n",
       " 'Ratings': [{'Source': 'Internet Movie Database', 'Value': '8.6/10'},\n",
       "  {'Source': 'Rotten Tomatoes', 'Value': '92%'},\n",
       "  {'Source': 'Metacritic', 'Value': '90/100'}],\n",
       " 'Metascore': '90',\n",
       " 'imdbRating': '8.6',\n",
       " 'imdbVotes': '1,291,208',\n",
       " 'imdbID': 'tt0076759',\n",
       " 'Type': 'movie',\n",
       " 'DVD': '06 Dec 2005',\n",
       " 'BoxOffice': '$460,998,507',\n",
       " 'Production': 'N/A',\n",
       " 'Website': 'N/A',\n",
       " 'Response': 'True'}"
      ]
     },
     "execution_count": 13,
     "metadata": {},
     "output_type": "execute_result"
    }
   ],
   "source": [
    "response = data.json()\n",
    "response"
   ]
  },
  {
   "cell_type": "markdown",
   "id": "dbfed3e2",
   "metadata": {},
   "source": [
    "#  Many-Layered Objects"
   ]
  },
  {
   "cell_type": "code",
   "execution_count": 15,
   "id": "f1927063",
   "metadata": {},
   "outputs": [
    {
     "data": {
      "text/plain": [
       "dict_keys(['Title', 'Year', 'Rated', 'Released', 'Runtime', 'Genre', 'Director', 'Writer', 'Actors', 'Plot', 'Language', 'Country', 'Awards', 'Poster', 'Ratings', 'Metascore', 'imdbRating', 'imdbVotes', 'imdbID', 'Type', 'DVD', 'BoxOffice', 'Production', 'Website', 'Response'])"
      ]
     },
     "execution_count": 15,
     "metadata": {},
     "output_type": "execute_result"
    }
   ],
   "source": [
    "# JSON: it's just like a dictionary\n",
    "response.keys()"
   ]
  },
  {
   "cell_type": "code",
   "execution_count": 18,
   "id": "f5199da2",
   "metadata": {},
   "outputs": [
    {
     "data": {
      "text/plain": [
       "'Star Wars: Episode IV - A New Hope'"
      ]
     },
     "execution_count": 18,
     "metadata": {},
     "output_type": "execute_result"
    }
   ],
   "source": [
    "response['Title']"
   ]
  },
  {
   "cell_type": "code",
   "execution_count": 19,
   "id": "43ee6f7a",
   "metadata": {},
   "outputs": [
    {
     "data": {
      "text/plain": [
       "[{'Source': 'Internet Movie Database', 'Value': '8.6/10'},\n",
       " {'Source': 'Rotten Tomatoes', 'Value': '92%'},\n",
       " {'Source': 'Metacritic', 'Value': '90/100'}]"
      ]
     },
     "execution_count": 19,
     "metadata": {},
     "output_type": "execute_result"
    }
   ],
   "source": [
    "response['Ratings']"
   ]
  },
  {
   "cell_type": "code",
   "execution_count": 21,
   "id": "f89d0261",
   "metadata": {},
   "outputs": [
    {
     "data": {
      "text/plain": [
       "'Rotten Tomatoes'"
      ]
     },
     "execution_count": 21,
     "metadata": {},
     "output_type": "execute_result"
    }
   ],
   "source": [
    "response['Ratings'][1]['Source']"
   ]
  }
 ],
 "metadata": {
  "kernelspec": {
   "display_name": "Python 3 (ipykernel)",
   "language": "python",
   "name": "python3"
  },
  "language_info": {
   "codemirror_mode": {
    "name": "ipython",
    "version": 3
   },
   "file_extension": ".py",
   "mimetype": "text/x-python",
   "name": "python",
   "nbconvert_exporter": "python",
   "pygments_lexer": "ipython3",
   "version": "3.9.7"
  }
 },
 "nbformat": 4,
 "nbformat_minor": 5
}
