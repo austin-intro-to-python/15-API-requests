{
 "cells": [
  {
   "cell_type": "markdown",
   "metadata": {
    "id": "VZNkii6dcXIU"
   },
   "source": [
    "Author: MJ Rossetti ([github](https://github.com/s2t2) | [linkedin](https://linkedin/in/mikerossetti))\n",
    "\n",
    "See also: [Prof Rossetti's Python Materials](https://github.com/prof-rossetti/intro-to-python)\n"
   ]
  },
  {
   "cell_type": "markdown",
   "metadata": {
    "id": "tDa9QOX3o1cK"
   },
   "source": [
    "# Notes"
   ]
  },
  {
   "cell_type": "markdown",
   "metadata": {
    "id": "ePjSNvAuo4XI"
   },
   "source": [
    "## APIs\n",
    "\n",
    "**Application Programming Interfaces (APIs)** provide programmatic access to data. To use them, we request data from specified URLs provided by the API.\n",
    "\n",
    "For example, we could manually login to Twitter.com, and manually fill out and submit a web form to create a new Tweet. But alternatively we could develop a Python program to do this.\n",
    "\n",
    "This notebook provides example demos for using various APIs of interest. \n",
    "\n",
    "## Fetching Data from APIs vs Web Pages\n",
    "\n",
    "We can request data from web pages, so why would we use APIs?\n",
    "\n",
    "Mainly because APIs are **less fragile**. APIs provide guarantees about the data, whereas a web developer can change the structure and markup of their web page at any time - if they do it could break our programs.\n",
    "\n",
    "\n",
    "## API Investigation Process\n",
    "\n",
    "After searching the Internet for an API of interest, you MUST **consult the API documentation** to learn:\n",
    "  + how it wants you to authenticate (as necessary), \n",
    "  + which URLs (i.e. \"endpoints\") to make requests to, and   \n",
    "  + what the response data structures look like.\n",
    "\n",
    "Often, the response data will be a nested JSON object which may be hard, or intimidating to parse. Don't worry, just follow this process:\n",
    "\n",
    "  1. First, identify which **URL \"endpoint\"** you'd like to make a request to.\n",
    "  2. Second, make a preliminary **request in the browser**, if possible. The goal is to visually observe the response data structure. \n",
    "  3. Optionally copy the data into a [JSON pretty-formatting tool](https://jsonformatter.org/json-pretty-print) to help you visually inspect it, and learn its structure. \n",
    "  4. Write Python to make a **programmatic request** for the data.\n",
    "  5. Write more Python to **explore and process the data**. JSON data is like a nested combination of list and dictionary objects. Work your way down one step at a time, starting from the top level.\n",
    "\n",
    "\n",
    "## API Response Data Formats\n",
    "\n",
    "We use different request and parsing strategies, based on what format the expected response data is in.\n",
    "\n",
    "### JSON Data\n",
    "\n",
    "\n",
    "1. Make a request for the data using the [`requests` package](https://github.com/prof-rossetti/intro-to-python/blob/main/notes/python/packages/requests.md). Pass the url to the `requests.get` function, and the result will be a string datatype.\n",
    "2. Use the [`json` module](https://github.com/prof-rossetti/intro-to-python/blob/main/notes/python/modules/json.md\n",
    " ) to parse the resulting JSON-looking string.\n",
    "\n",
    "### CSV Data\n",
    "\n",
    "1. Make a request for the data using the [`pandas` package](https://github.com/prof-rossetti/intro-to-python/blob/main/notes/python/packages/pandas.md). Pass the url to the `pandas.read_csv` function, and the result will be a `pandas.DataFrame` object, which is easy to work with.\n",
    "2. That's it! No need to process any nested structures.\n",
    "\n",
    "### HTML Data\n",
    "\n",
    "1. Make a request for a web page using [`requests` package](https://github.com/prof-rossetti/intro-to-python/blob/main/notes/python/packages/requests.md). Pass the url to the `requests.get` function, and the result will be a string datatype.\n",
    "2. Use the [`BeautifulSoup` package](https://github.com/prof-rossetti/intro-to-python/blob/main/notes/python/packages/beautifulsoup.md\n",
    " ) to parse the resulting HTML-looking string.\n",
    "\n"
   ]
  },
  {
   "cell_type": "markdown",
   "metadata": {
    "id": "rO_zXCBDo6FT"
   },
   "source": [
    "# Demos"
   ]
  },
  {
   "cell_type": "markdown",
   "metadata": {
    "id": "QAlr5sCZ8DCH"
   },
   "source": [
    "## The CocktailDB API (Drinks)"
   ]
  },
  {
   "cell_type": "markdown",
   "metadata": {
    "id": "ZA9LWC_19UPh"
   },
   "source": [
    "Notes:\n",
    "  + Provides information about drinks, in JSON format. \n",
    "  + Uses API Key authentication, passed via URL parameters. Demo key is \"1\".\n",
    "\n",
    "References:\n",
    "  + https://www.thecocktaildb.com/api.php\n",
    "\n",
    "Example URL:\n",
    "  + https://www.thecocktaildb.com/api/json/v1/1/filter.php?a=Non_Alcoholic\n",
    "  + www.thecocktaildb.com/api/json/v1/1/lookup.php?i=11007"
   ]
  },
  {
   "cell_type": "code",
   "execution_count": 8,
   "metadata": {
    "colab": {
     "base_uri": "https://localhost:8080/",
     "height": 1000
    },
    "id": "zMA6p8kX8C0P",
    "outputId": "df96542e-8278-40bd-b98a-17f8e46c51a8"
   },
   "outputs": [],
   "source": [
    "import requests\n",
    "import json\n",
    "from IPython.display import display, Image\n",
    "\n",
    "drinks_url = \"https://www.thecocktaildb.com/api/json/v1/1/filter.php?a=Non_Alcoholic\"\n",
    "\n"
   ]
  },
  {
   "cell_type": "code",
   "execution_count": 2,
   "metadata": {},
   "outputs": [
    {
     "name": "stdout",
     "output_type": "stream",
     "text": [
      "<class 'requests.models.Response'>\n",
      "200\n"
     ]
    }
   ],
   "source": [
    "drinks_response = requests.get(drinks_url)\n",
    "print(type(drinks_response)) #> Response\n",
    "print(drinks_response.status_code)\n"
   ]
  },
  {
   "cell_type": "code",
   "execution_count": 3,
   "metadata": {},
   "outputs": [
    {
     "name": "stdout",
     "output_type": "stream",
     "text": [
      "<class 'str'>\n"
     ]
    }
   ],
   "source": [
    "\n",
    "print(type(drinks_response.text)) #> str\n"
   ]
  },
  {
   "cell_type": "code",
   "execution_count": 4,
   "metadata": {},
   "outputs": [
    {
     "name": "stdout",
     "output_type": "stream",
     "text": [
      "<class 'dict'>\n"
     ]
    }
   ],
   "source": [
    "drinks_data = json.loads(drinks_response.text)\n",
    "print(type(drinks_data)) #> dict\n"
   ]
  },
  {
   "cell_type": "code",
   "execution_count": 5,
   "metadata": {},
   "outputs": [
    {
     "data": {
      "text/plain": [
       "{'drinks': [{'strDrink': 'Afterglow',\n",
       "   'strDrinkThumb': 'https://www.thecocktaildb.com/images/media/drink/vuquyv1468876052.jpg',\n",
       "   'idDrink': '12560'},\n",
       "  {'strDrink': 'Alice Cocktail',\n",
       "   'strDrinkThumb': 'https://www.thecocktaildb.com/images/media/drink/qyqtpv1468876144.jpg',\n",
       "   'idDrink': '12562'},\n",
       "  {'strDrink': 'Aloha Fruit punch',\n",
       "   'strDrinkThumb': 'https://www.thecocktaildb.com/images/media/drink/wsyvrt1468876267.jpg',\n",
       "   'idDrink': '12862'},\n",
       "  {'strDrink': 'Apello',\n",
       "   'strDrinkThumb': 'https://www.thecocktaildb.com/images/media/drink/uptxtv1468876415.jpg',\n",
       "   'idDrink': '15106'},\n",
       "  {'strDrink': 'Apple Berry Smoothie',\n",
       "   'strDrinkThumb': 'https://www.thecocktaildb.com/images/media/drink/xwqvur1468876473.jpg',\n",
       "   'idDrink': '12710'},\n",
       "  {'strDrink': 'Apple Karate',\n",
       "   'strDrinkThumb': 'https://www.thecocktaildb.com/images/media/drink/syusvw1468876634.jpg',\n",
       "   'idDrink': '12564'},\n",
       "  {'strDrink': 'Banana Cantaloupe Smoothie',\n",
       "   'strDrinkThumb': 'https://www.thecocktaildb.com/images/media/drink/uqxqsy1468876703.jpg',\n",
       "   'idDrink': '12708'},\n",
       "  {'strDrink': 'Banana Milk Shake',\n",
       "   'strDrinkThumb': 'https://www.thecocktaildb.com/images/media/drink/rtwwsx1472720307.jpg',\n",
       "   'idDrink': '12654'},\n",
       "  {'strDrink': 'Banana Strawberry Shake',\n",
       "   'strDrinkThumb': 'https://www.thecocktaildb.com/images/media/drink/vqquwx1472720634.jpg',\n",
       "   'idDrink': '12656'},\n",
       "  {'strDrink': 'Banana Strawberry Shake Daiquiri',\n",
       "   'strDrinkThumb': 'https://www.thecocktaildb.com/images/media/drink/uvypss1472720581.jpg',\n",
       "   'idDrink': '12658'},\n",
       "  {'strDrink': 'Bora Bora',\n",
       "   'strDrinkThumb': 'https://www.thecocktaildb.com/images/media/drink/xwuqvw1473201811.jpg',\n",
       "   'idDrink': '12572'},\n",
       "  {'strDrink': 'Castillian Hot Chocolate',\n",
       "   'strDrinkThumb': 'https://www.thecocktaildb.com/images/media/drink/3nbu4a1487603196.jpg',\n",
       "   'idDrink': '12730'},\n",
       "  {'strDrink': 'Chocolate Beverage',\n",
       "   'strDrinkThumb': 'https://www.thecocktaildb.com/images/media/drink/jbqrhv1487603186.jpg',\n",
       "   'idDrink': '12732'},\n",
       "  {'strDrink': 'Chocolate Drink',\n",
       "   'strDrinkThumb': 'https://www.thecocktaildb.com/images/media/drink/q7w4xu1487603180.jpg',\n",
       "   'idDrink': '12734'},\n",
       "  {'strDrink': 'Coke and Drops',\n",
       "   'strDrinkThumb': 'https://www.thecocktaildb.com/images/media/drink/yrtxxp1472719367.jpg',\n",
       "   'idDrink': '17108'},\n",
       "  {'strDrink': 'Cranberry Punch',\n",
       "   'strDrinkThumb': 'https://www.thecocktaildb.com/images/media/drink/mzgaqu1504389248.jpg',\n",
       "   'idDrink': '12890'},\n",
       "  {'strDrink': 'Drinking Chocolate',\n",
       "   'strDrinkThumb': 'https://www.thecocktaildb.com/images/media/drink/u6jrdf1487603173.jpg',\n",
       "   'idDrink': '12736'},\n",
       "  {'strDrink': 'Egg Cream',\n",
       "   'strDrinkThumb': 'https://www.thecocktaildb.com/images/media/drink/mvis731484430445.jpg',\n",
       "   'idDrink': '12668'},\n",
       "  {'strDrink': 'Frappé',\n",
       "   'strDrinkThumb': 'https://www.thecocktaildb.com/images/media/drink/vqwryq1441245927.jpg',\n",
       "   'idDrink': '12768'},\n",
       "  {'strDrink': 'Fruit Cooler',\n",
       "   'strDrinkThumb': 'https://www.thecocktaildb.com/images/media/drink/i3tfn31484430499.jpg',\n",
       "   'idDrink': '12670'},\n",
       "  {'strDrink': 'Fruit Flip-Flop',\n",
       "   'strDrinkThumb': 'https://www.thecocktaildb.com/images/media/drink/nfdx6p1484430633.jpg',\n",
       "   'idDrink': '12672'},\n",
       "  {'strDrink': 'Fruit Shake',\n",
       "   'strDrinkThumb': 'https://www.thecocktaildb.com/images/media/drink/q0fg2m1484430704.jpg',\n",
       "   'idDrink': '12674'},\n",
       "  {'strDrink': 'Grape lemon pineapple Smoothie',\n",
       "   'strDrinkThumb': 'https://www.thecocktaildb.com/images/media/drink/54z5h71487603583.jpg',\n",
       "   'idDrink': '12712'},\n",
       "  {'strDrink': 'Holloween Punch',\n",
       "   'strDrinkThumb': 'https://www.thecocktaildb.com/images/media/drink/lfeoe41504888925.jpg',\n",
       "   'idDrink': '12954'},\n",
       "  {'strDrink': 'Hot Chocolate to Die for',\n",
       "   'strDrinkThumb': 'https://www.thecocktaildb.com/images/media/drink/0lrmjp1487603166.jpg',\n",
       "   'idDrink': '12738'},\n",
       "  {'strDrink': 'Iced Coffee',\n",
       "   'strDrinkThumb': 'https://www.thecocktaildb.com/images/media/drink/ytprxy1454513855.jpg',\n",
       "   'idDrink': '12770'},\n",
       "  {'strDrink': 'Ipamena',\n",
       "   'strDrinkThumb': 'https://www.thecocktaildb.com/images/media/drink/yswuwp1469090992.jpg',\n",
       "   'idDrink': '17176'},\n",
       "  {'strDrink': 'Just a Moonmint',\n",
       "   'strDrinkThumb': 'https://www.thecocktaildb.com/images/media/drink/znald61487604035.jpg',\n",
       "   'idDrink': '12688'},\n",
       "  {'strDrink': 'Kill the cold Smoothie',\n",
       "   'strDrinkThumb': 'https://www.thecocktaildb.com/images/media/drink/7j1z2e1487603414.jpg',\n",
       "   'idDrink': '12720'},\n",
       "  {'strDrink': 'Kiwi Papaya Smoothie',\n",
       "   'strDrinkThumb': 'https://www.thecocktaildb.com/images/media/drink/jogv4w1487603571.jpg',\n",
       "   'idDrink': '12714'},\n",
       "  {'strDrink': 'Lassi - A South Indian Drink',\n",
       "   'strDrinkThumb': 'https://www.thecocktaildb.com/images/media/drink/iq6scx1487603980.jpg',\n",
       "   'idDrink': '12690'},\n",
       "  {'strDrink': 'Lassi - Mango',\n",
       "   'strDrinkThumb': 'https://www.thecocktaildb.com/images/media/drink/1bw6sd1487603816.jpg',\n",
       "   'idDrink': '12698'},\n",
       "  {'strDrink': 'Lassi - Sweet',\n",
       "   'strDrinkThumb': 'https://www.thecocktaildb.com/images/media/drink/9jeifz1487603885.jpg',\n",
       "   'idDrink': '12696'},\n",
       "  {'strDrink': 'Lassi Khara',\n",
       "   'strDrinkThumb': 'https://www.thecocktaildb.com/images/media/drink/m1suzm1487603970.jpg',\n",
       "   'idDrink': '12692'},\n",
       "  {'strDrink': 'Lassi Raita',\n",
       "   'strDrinkThumb': 'https://www.thecocktaildb.com/images/media/drink/s4x0qj1487603933.jpg',\n",
       "   'idDrink': '12694'},\n",
       "  {'strDrink': 'Lemouroudji',\n",
       "   'strDrinkThumb': 'https://www.thecocktaildb.com/images/media/drink/eirmo71487603745.jpg',\n",
       "   'idDrink': '12702'},\n",
       "  {'strDrink': 'Limeade',\n",
       "   'strDrinkThumb': 'https://www.thecocktaildb.com/images/media/drink/5jdp5r1487603680.jpg',\n",
       "   'idDrink': '12704'},\n",
       "  {'strDrink': 'Mango Orange Smoothie',\n",
       "   'strDrinkThumb': 'https://www.thecocktaildb.com/images/media/drink/vdp2do1487603520.jpg',\n",
       "   'idDrink': '12716'},\n",
       "  {'strDrink': 'Masala Chai',\n",
       "   'strDrinkThumb': 'https://www.thecocktaildb.com/images/media/drink/uyrpww1441246384.jpg',\n",
       "   'idDrink': '12774'},\n",
       "  {'strDrink': 'Melya',\n",
       "   'strDrinkThumb': 'https://www.thecocktaildb.com/images/media/drink/xwtptq1441247579.jpg',\n",
       "   'idDrink': '12776'},\n",
       "  {'strDrink': 'Microwave Hot Cocoa',\n",
       "   'strDrinkThumb': 'https://www.thecocktaildb.com/images/media/drink/8y4x5f1487603151.jpg',\n",
       "   'idDrink': '12744'},\n",
       "  {'strDrink': 'Nuked Hot Chocolate',\n",
       "   'strDrinkThumb': 'https://www.thecocktaildb.com/images/media/drink/xcu6nb1487603142.jpg',\n",
       "   'idDrink': '12746'},\n",
       "  {'strDrink': 'Orange Scented Hot Chocolate',\n",
       "   'strDrinkThumb': 'https://www.thecocktaildb.com/images/media/drink/hdzwrh1487603131.jpg',\n",
       "   'idDrink': '12748'},\n",
       "  {'strDrink': 'Orangeade',\n",
       "   'strDrinkThumb': 'https://www.thecocktaildb.com/images/media/drink/ytsxxw1441167732.jpg',\n",
       "   'idDrink': '12618'},\n",
       "  {'strDrink': 'Pineapple Gingerale Smoothie',\n",
       "   'strDrinkThumb': 'https://www.thecocktaildb.com/images/media/drink/eg9i1d1487603469.jpg',\n",
       "   'idDrink': '12718'},\n",
       "  {'strDrink': 'Pysch Vitamin Light',\n",
       "   'strDrinkThumb': 'https://www.thecocktaildb.com/images/media/drink/xsqsxw1441553580.jpg',\n",
       "   'idDrink': '15092'},\n",
       "  {'strDrink': 'Rail Splitter',\n",
       "   'strDrinkThumb': 'https://www.thecocktaildb.com/images/media/drink/stsuqq1441207660.jpg',\n",
       "   'idDrink': '12630'},\n",
       "  {'strDrink': 'Spanish chocolate',\n",
       "   'strDrinkThumb': 'https://www.thecocktaildb.com/images/media/drink/pra8vt1487603054.jpg',\n",
       "   'idDrink': '12750'},\n",
       "  {'strDrink': 'Spiced Peach Punch',\n",
       "   'strDrinkThumb': 'https://www.thecocktaildb.com/images/media/drink/qxvypq1468924331.jpg',\n",
       "   'idDrink': '13032'},\n",
       "  {'strDrink': 'Spiking coffee',\n",
       "   'strDrinkThumb': 'https://www.thecocktaildb.com/images/media/drink/isql6y1487602375.jpg',\n",
       "   'idDrink': '12780'},\n",
       "  {'strDrink': 'Strawberry Lemonade',\n",
       "   'strDrinkThumb': 'https://www.thecocktaildb.com/images/media/drink/spvvxp1468924425.jpg',\n",
       "   'idDrink': '13036'},\n",
       "  {'strDrink': 'Strawberry Shivers',\n",
       "   'strDrinkThumb': 'https://www.thecocktaildb.com/images/media/drink/9h1vvt1487603404.jpg',\n",
       "   'idDrink': '12722'},\n",
       "  {'strDrink': 'Sweet Bananas',\n",
       "   'strDrinkThumb': 'https://www.thecocktaildb.com/images/media/drink/sxpcj71487603345.jpg',\n",
       "   'idDrink': '12724'},\n",
       "  {'strDrink': 'Thai Coffee',\n",
       "   'strDrinkThumb': 'https://www.thecocktaildb.com/images/media/drink/wquwxs1441247025.jpg',\n",
       "   'idDrink': '12782'},\n",
       "  {'strDrink': 'Thai Iced Coffee',\n",
       "   'strDrinkThumb': 'https://www.thecocktaildb.com/images/media/drink/rqpypv1441245650.jpg',\n",
       "   'idDrink': '12784'},\n",
       "  {'strDrink': 'Thai Iced Tea',\n",
       "   'strDrinkThumb': 'https://www.thecocktaildb.com/images/media/drink/trvwpu1441245568.jpg',\n",
       "   'idDrink': '12786'},\n",
       "  {'strDrink': 'Tomato Tang',\n",
       "   'strDrinkThumb': 'https://www.thecocktaildb.com/images/media/drink/869qr81487603278.jpg',\n",
       "   'idDrink': '12726'},\n",
       "  {'strDrink': 'Yoghurt Cooler',\n",
       "   'strDrinkThumb': 'https://www.thecocktaildb.com/images/media/drink/trttrv1441254466.jpg',\n",
       "   'idDrink': '12728'}]}"
      ]
     },
     "execution_count": 5,
     "metadata": {},
     "output_type": "execute_result"
    }
   ],
   "source": [
    "drinks_data"
   ]
  },
  {
   "cell_type": "code",
   "execution_count": 9,
   "metadata": {},
   "outputs": [
    {
     "name": "stdout",
     "output_type": "stream",
     "text": [
      "-------------\n",
      "Afterglow 12560\n"
     ]
    },
    {
     "data": {
      "text/html": [
       "<img src=\"https://www.thecocktaildb.com/images/media/drink/vuquyv1468876052.jpg\" height=\"64\"/>"
      ],
      "text/plain": [
       "<IPython.core.display.Image object>"
      ]
     },
     "metadata": {},
     "output_type": "display_data"
    },
    {
     "name": "stdout",
     "output_type": "stream",
     "text": [
      "-------------\n",
      "Alice Cocktail 12562\n"
     ]
    },
    {
     "data": {
      "text/html": [
       "<img src=\"https://www.thecocktaildb.com/images/media/drink/qyqtpv1468876144.jpg\" height=\"64\"/>"
      ],
      "text/plain": [
       "<IPython.core.display.Image object>"
      ]
     },
     "metadata": {},
     "output_type": "display_data"
    },
    {
     "name": "stdout",
     "output_type": "stream",
     "text": [
      "-------------\n",
      "Aloha Fruit punch 12862\n"
     ]
    },
    {
     "data": {
      "text/html": [
       "<img src=\"https://www.thecocktaildb.com/images/media/drink/wsyvrt1468876267.jpg\" height=\"64\"/>"
      ],
      "text/plain": [
       "<IPython.core.display.Image object>"
      ]
     },
     "metadata": {},
     "output_type": "display_data"
    },
    {
     "name": "stdout",
     "output_type": "stream",
     "text": [
      "-------------\n",
      "Apello 15106\n"
     ]
    },
    {
     "data": {
      "text/html": [
       "<img src=\"https://www.thecocktaildb.com/images/media/drink/uptxtv1468876415.jpg\" height=\"64\"/>"
      ],
      "text/plain": [
       "<IPython.core.display.Image object>"
      ]
     },
     "metadata": {},
     "output_type": "display_data"
    },
    {
     "name": "stdout",
     "output_type": "stream",
     "text": [
      "-------------\n",
      "Apple Berry Smoothie 12710\n"
     ]
    },
    {
     "data": {
      "text/html": [
       "<img src=\"https://www.thecocktaildb.com/images/media/drink/xwqvur1468876473.jpg\" height=\"64\"/>"
      ],
      "text/plain": [
       "<IPython.core.display.Image object>"
      ]
     },
     "metadata": {},
     "output_type": "display_data"
    },
    {
     "name": "stdout",
     "output_type": "stream",
     "text": [
      "-------------\n",
      "Apple Karate 12564\n"
     ]
    },
    {
     "data": {
      "text/html": [
       "<img src=\"https://www.thecocktaildb.com/images/media/drink/syusvw1468876634.jpg\" height=\"64\"/>"
      ],
      "text/plain": [
       "<IPython.core.display.Image object>"
      ]
     },
     "metadata": {},
     "output_type": "display_data"
    },
    {
     "name": "stdout",
     "output_type": "stream",
     "text": [
      "-------------\n",
      "Banana Cantaloupe Smoothie 12708\n"
     ]
    },
    {
     "data": {
      "text/html": [
       "<img src=\"https://www.thecocktaildb.com/images/media/drink/uqxqsy1468876703.jpg\" height=\"64\"/>"
      ],
      "text/plain": [
       "<IPython.core.display.Image object>"
      ]
     },
     "metadata": {},
     "output_type": "display_data"
    },
    {
     "name": "stdout",
     "output_type": "stream",
     "text": [
      "-------------\n",
      "Banana Milk Shake 12654\n"
     ]
    },
    {
     "data": {
      "text/html": [
       "<img src=\"https://www.thecocktaildb.com/images/media/drink/rtwwsx1472720307.jpg\" height=\"64\"/>"
      ],
      "text/plain": [
       "<IPython.core.display.Image object>"
      ]
     },
     "metadata": {},
     "output_type": "display_data"
    },
    {
     "name": "stdout",
     "output_type": "stream",
     "text": [
      "-------------\n",
      "Banana Strawberry Shake 12656\n"
     ]
    },
    {
     "data": {
      "text/html": [
       "<img src=\"https://www.thecocktaildb.com/images/media/drink/vqquwx1472720634.jpg\" height=\"64\"/>"
      ],
      "text/plain": [
       "<IPython.core.display.Image object>"
      ]
     },
     "metadata": {},
     "output_type": "display_data"
    },
    {
     "name": "stdout",
     "output_type": "stream",
     "text": [
      "-------------\n",
      "Banana Strawberry Shake Daiquiri 12658\n"
     ]
    },
    {
     "data": {
      "text/html": [
       "<img src=\"https://www.thecocktaildb.com/images/media/drink/uvypss1472720581.jpg\" height=\"64\"/>"
      ],
      "text/plain": [
       "<IPython.core.display.Image object>"
      ]
     },
     "metadata": {},
     "output_type": "display_data"
    },
    {
     "name": "stdout",
     "output_type": "stream",
     "text": [
      "-------------\n",
      "Bora Bora 12572\n"
     ]
    },
    {
     "data": {
      "text/html": [
       "<img src=\"https://www.thecocktaildb.com/images/media/drink/xwuqvw1473201811.jpg\" height=\"64\"/>"
      ],
      "text/plain": [
       "<IPython.core.display.Image object>"
      ]
     },
     "metadata": {},
     "output_type": "display_data"
    },
    {
     "name": "stdout",
     "output_type": "stream",
     "text": [
      "-------------\n",
      "Castillian Hot Chocolate 12730\n"
     ]
    },
    {
     "data": {
      "text/html": [
       "<img src=\"https://www.thecocktaildb.com/images/media/drink/3nbu4a1487603196.jpg\" height=\"64\"/>"
      ],
      "text/plain": [
       "<IPython.core.display.Image object>"
      ]
     },
     "metadata": {},
     "output_type": "display_data"
    },
    {
     "name": "stdout",
     "output_type": "stream",
     "text": [
      "-------------\n",
      "Chocolate Beverage 12732\n"
     ]
    },
    {
     "data": {
      "text/html": [
       "<img src=\"https://www.thecocktaildb.com/images/media/drink/jbqrhv1487603186.jpg\" height=\"64\"/>"
      ],
      "text/plain": [
       "<IPython.core.display.Image object>"
      ]
     },
     "metadata": {},
     "output_type": "display_data"
    },
    {
     "name": "stdout",
     "output_type": "stream",
     "text": [
      "-------------\n",
      "Chocolate Drink 12734\n"
     ]
    },
    {
     "data": {
      "text/html": [
       "<img src=\"https://www.thecocktaildb.com/images/media/drink/q7w4xu1487603180.jpg\" height=\"64\"/>"
      ],
      "text/plain": [
       "<IPython.core.display.Image object>"
      ]
     },
     "metadata": {},
     "output_type": "display_data"
    },
    {
     "name": "stdout",
     "output_type": "stream",
     "text": [
      "-------------\n",
      "Coke and Drops 17108\n"
     ]
    },
    {
     "data": {
      "text/html": [
       "<img src=\"https://www.thecocktaildb.com/images/media/drink/yrtxxp1472719367.jpg\" height=\"64\"/>"
      ],
      "text/plain": [
       "<IPython.core.display.Image object>"
      ]
     },
     "metadata": {},
     "output_type": "display_data"
    },
    {
     "name": "stdout",
     "output_type": "stream",
     "text": [
      "-------------\n",
      "Cranberry Punch 12890\n"
     ]
    },
    {
     "data": {
      "text/html": [
       "<img src=\"https://www.thecocktaildb.com/images/media/drink/mzgaqu1504389248.jpg\" height=\"64\"/>"
      ],
      "text/plain": [
       "<IPython.core.display.Image object>"
      ]
     },
     "metadata": {},
     "output_type": "display_data"
    },
    {
     "name": "stdout",
     "output_type": "stream",
     "text": [
      "-------------\n",
      "Drinking Chocolate 12736\n"
     ]
    },
    {
     "data": {
      "text/html": [
       "<img src=\"https://www.thecocktaildb.com/images/media/drink/u6jrdf1487603173.jpg\" height=\"64\"/>"
      ],
      "text/plain": [
       "<IPython.core.display.Image object>"
      ]
     },
     "metadata": {},
     "output_type": "display_data"
    },
    {
     "name": "stdout",
     "output_type": "stream",
     "text": [
      "-------------\n",
      "Egg Cream 12668\n"
     ]
    },
    {
     "data": {
      "text/html": [
       "<img src=\"https://www.thecocktaildb.com/images/media/drink/mvis731484430445.jpg\" height=\"64\"/>"
      ],
      "text/plain": [
       "<IPython.core.display.Image object>"
      ]
     },
     "metadata": {},
     "output_type": "display_data"
    },
    {
     "name": "stdout",
     "output_type": "stream",
     "text": [
      "-------------\n",
      "Frappé 12768\n"
     ]
    },
    {
     "data": {
      "text/html": [
       "<img src=\"https://www.thecocktaildb.com/images/media/drink/vqwryq1441245927.jpg\" height=\"64\"/>"
      ],
      "text/plain": [
       "<IPython.core.display.Image object>"
      ]
     },
     "metadata": {},
     "output_type": "display_data"
    },
    {
     "name": "stdout",
     "output_type": "stream",
     "text": [
      "-------------\n",
      "Fruit Cooler 12670\n"
     ]
    },
    {
     "data": {
      "text/html": [
       "<img src=\"https://www.thecocktaildb.com/images/media/drink/i3tfn31484430499.jpg\" height=\"64\"/>"
      ],
      "text/plain": [
       "<IPython.core.display.Image object>"
      ]
     },
     "metadata": {},
     "output_type": "display_data"
    },
    {
     "name": "stdout",
     "output_type": "stream",
     "text": [
      "-------------\n",
      "Fruit Flip-Flop 12672\n"
     ]
    },
    {
     "data": {
      "text/html": [
       "<img src=\"https://www.thecocktaildb.com/images/media/drink/nfdx6p1484430633.jpg\" height=\"64\"/>"
      ],
      "text/plain": [
       "<IPython.core.display.Image object>"
      ]
     },
     "metadata": {},
     "output_type": "display_data"
    },
    {
     "name": "stdout",
     "output_type": "stream",
     "text": [
      "-------------\n",
      "Fruit Shake 12674\n"
     ]
    },
    {
     "data": {
      "text/html": [
       "<img src=\"https://www.thecocktaildb.com/images/media/drink/q0fg2m1484430704.jpg\" height=\"64\"/>"
      ],
      "text/plain": [
       "<IPython.core.display.Image object>"
      ]
     },
     "metadata": {},
     "output_type": "display_data"
    },
    {
     "name": "stdout",
     "output_type": "stream",
     "text": [
      "-------------\n",
      "Grape lemon pineapple Smoothie 12712\n"
     ]
    },
    {
     "data": {
      "text/html": [
       "<img src=\"https://www.thecocktaildb.com/images/media/drink/54z5h71487603583.jpg\" height=\"64\"/>"
      ],
      "text/plain": [
       "<IPython.core.display.Image object>"
      ]
     },
     "metadata": {},
     "output_type": "display_data"
    },
    {
     "name": "stdout",
     "output_type": "stream",
     "text": [
      "-------------\n",
      "Holloween Punch 12954\n"
     ]
    },
    {
     "data": {
      "text/html": [
       "<img src=\"https://www.thecocktaildb.com/images/media/drink/lfeoe41504888925.jpg\" height=\"64\"/>"
      ],
      "text/plain": [
       "<IPython.core.display.Image object>"
      ]
     },
     "metadata": {},
     "output_type": "display_data"
    },
    {
     "name": "stdout",
     "output_type": "stream",
     "text": [
      "-------------\n",
      "Hot Chocolate to Die for 12738\n"
     ]
    },
    {
     "data": {
      "text/html": [
       "<img src=\"https://www.thecocktaildb.com/images/media/drink/0lrmjp1487603166.jpg\" height=\"64\"/>"
      ],
      "text/plain": [
       "<IPython.core.display.Image object>"
      ]
     },
     "metadata": {},
     "output_type": "display_data"
    },
    {
     "name": "stdout",
     "output_type": "stream",
     "text": [
      "-------------\n",
      "Iced Coffee 12770\n"
     ]
    },
    {
     "data": {
      "text/html": [
       "<img src=\"https://www.thecocktaildb.com/images/media/drink/ytprxy1454513855.jpg\" height=\"64\"/>"
      ],
      "text/plain": [
       "<IPython.core.display.Image object>"
      ]
     },
     "metadata": {},
     "output_type": "display_data"
    },
    {
     "name": "stdout",
     "output_type": "stream",
     "text": [
      "-------------\n",
      "Ipamena 17176\n"
     ]
    },
    {
     "data": {
      "text/html": [
       "<img src=\"https://www.thecocktaildb.com/images/media/drink/yswuwp1469090992.jpg\" height=\"64\"/>"
      ],
      "text/plain": [
       "<IPython.core.display.Image object>"
      ]
     },
     "metadata": {},
     "output_type": "display_data"
    },
    {
     "name": "stdout",
     "output_type": "stream",
     "text": [
      "-------------\n",
      "Just a Moonmint 12688\n"
     ]
    },
    {
     "data": {
      "text/html": [
       "<img src=\"https://www.thecocktaildb.com/images/media/drink/znald61487604035.jpg\" height=\"64\"/>"
      ],
      "text/plain": [
       "<IPython.core.display.Image object>"
      ]
     },
     "metadata": {},
     "output_type": "display_data"
    },
    {
     "name": "stdout",
     "output_type": "stream",
     "text": [
      "-------------\n",
      "Kill the cold Smoothie 12720\n"
     ]
    },
    {
     "data": {
      "text/html": [
       "<img src=\"https://www.thecocktaildb.com/images/media/drink/7j1z2e1487603414.jpg\" height=\"64\"/>"
      ],
      "text/plain": [
       "<IPython.core.display.Image object>"
      ]
     },
     "metadata": {},
     "output_type": "display_data"
    },
    {
     "name": "stdout",
     "output_type": "stream",
     "text": [
      "-------------\n",
      "Kiwi Papaya Smoothie 12714\n"
     ]
    },
    {
     "data": {
      "text/html": [
       "<img src=\"https://www.thecocktaildb.com/images/media/drink/jogv4w1487603571.jpg\" height=\"64\"/>"
      ],
      "text/plain": [
       "<IPython.core.display.Image object>"
      ]
     },
     "metadata": {},
     "output_type": "display_data"
    },
    {
     "name": "stdout",
     "output_type": "stream",
     "text": [
      "-------------\n",
      "Lassi - A South Indian Drink 12690\n"
     ]
    },
    {
     "data": {
      "text/html": [
       "<img src=\"https://www.thecocktaildb.com/images/media/drink/iq6scx1487603980.jpg\" height=\"64\"/>"
      ],
      "text/plain": [
       "<IPython.core.display.Image object>"
      ]
     },
     "metadata": {},
     "output_type": "display_data"
    },
    {
     "name": "stdout",
     "output_type": "stream",
     "text": [
      "-------------\n",
      "Lassi - Mango 12698\n"
     ]
    },
    {
     "data": {
      "text/html": [
       "<img src=\"https://www.thecocktaildb.com/images/media/drink/1bw6sd1487603816.jpg\" height=\"64\"/>"
      ],
      "text/plain": [
       "<IPython.core.display.Image object>"
      ]
     },
     "metadata": {},
     "output_type": "display_data"
    },
    {
     "name": "stdout",
     "output_type": "stream",
     "text": [
      "-------------\n",
      "Lassi - Sweet 12696\n"
     ]
    },
    {
     "data": {
      "text/html": [
       "<img src=\"https://www.thecocktaildb.com/images/media/drink/9jeifz1487603885.jpg\" height=\"64\"/>"
      ],
      "text/plain": [
       "<IPython.core.display.Image object>"
      ]
     },
     "metadata": {},
     "output_type": "display_data"
    },
    {
     "name": "stdout",
     "output_type": "stream",
     "text": [
      "-------------\n",
      "Lassi Khara 12692\n"
     ]
    },
    {
     "data": {
      "text/html": [
       "<img src=\"https://www.thecocktaildb.com/images/media/drink/m1suzm1487603970.jpg\" height=\"64\"/>"
      ],
      "text/plain": [
       "<IPython.core.display.Image object>"
      ]
     },
     "metadata": {},
     "output_type": "display_data"
    },
    {
     "name": "stdout",
     "output_type": "stream",
     "text": [
      "-------------\n",
      "Lassi Raita 12694\n"
     ]
    },
    {
     "data": {
      "text/html": [
       "<img src=\"https://www.thecocktaildb.com/images/media/drink/s4x0qj1487603933.jpg\" height=\"64\"/>"
      ],
      "text/plain": [
       "<IPython.core.display.Image object>"
      ]
     },
     "metadata": {},
     "output_type": "display_data"
    },
    {
     "name": "stdout",
     "output_type": "stream",
     "text": [
      "-------------\n",
      "Lemouroudji 12702\n"
     ]
    },
    {
     "data": {
      "text/html": [
       "<img src=\"https://www.thecocktaildb.com/images/media/drink/eirmo71487603745.jpg\" height=\"64\"/>"
      ],
      "text/plain": [
       "<IPython.core.display.Image object>"
      ]
     },
     "metadata": {},
     "output_type": "display_data"
    },
    {
     "name": "stdout",
     "output_type": "stream",
     "text": [
      "-------------\n",
      "Limeade 12704\n"
     ]
    },
    {
     "data": {
      "text/html": [
       "<img src=\"https://www.thecocktaildb.com/images/media/drink/5jdp5r1487603680.jpg\" height=\"64\"/>"
      ],
      "text/plain": [
       "<IPython.core.display.Image object>"
      ]
     },
     "metadata": {},
     "output_type": "display_data"
    },
    {
     "name": "stdout",
     "output_type": "stream",
     "text": [
      "-------------\n",
      "Mango Orange Smoothie 12716\n"
     ]
    },
    {
     "data": {
      "text/html": [
       "<img src=\"https://www.thecocktaildb.com/images/media/drink/vdp2do1487603520.jpg\" height=\"64\"/>"
      ],
      "text/plain": [
       "<IPython.core.display.Image object>"
      ]
     },
     "metadata": {},
     "output_type": "display_data"
    },
    {
     "name": "stdout",
     "output_type": "stream",
     "text": [
      "-------------\n",
      "Masala Chai 12774\n"
     ]
    },
    {
     "data": {
      "text/html": [
       "<img src=\"https://www.thecocktaildb.com/images/media/drink/uyrpww1441246384.jpg\" height=\"64\"/>"
      ],
      "text/plain": [
       "<IPython.core.display.Image object>"
      ]
     },
     "metadata": {},
     "output_type": "display_data"
    },
    {
     "name": "stdout",
     "output_type": "stream",
     "text": [
      "-------------\n",
      "Melya 12776\n"
     ]
    },
    {
     "data": {
      "text/html": [
       "<img src=\"https://www.thecocktaildb.com/images/media/drink/xwtptq1441247579.jpg\" height=\"64\"/>"
      ],
      "text/plain": [
       "<IPython.core.display.Image object>"
      ]
     },
     "metadata": {},
     "output_type": "display_data"
    },
    {
     "name": "stdout",
     "output_type": "stream",
     "text": [
      "-------------\n",
      "Microwave Hot Cocoa 12744\n"
     ]
    },
    {
     "data": {
      "text/html": [
       "<img src=\"https://www.thecocktaildb.com/images/media/drink/8y4x5f1487603151.jpg\" height=\"64\"/>"
      ],
      "text/plain": [
       "<IPython.core.display.Image object>"
      ]
     },
     "metadata": {},
     "output_type": "display_data"
    },
    {
     "name": "stdout",
     "output_type": "stream",
     "text": [
      "-------------\n",
      "Nuked Hot Chocolate 12746\n"
     ]
    },
    {
     "data": {
      "text/html": [
       "<img src=\"https://www.thecocktaildb.com/images/media/drink/xcu6nb1487603142.jpg\" height=\"64\"/>"
      ],
      "text/plain": [
       "<IPython.core.display.Image object>"
      ]
     },
     "metadata": {},
     "output_type": "display_data"
    },
    {
     "name": "stdout",
     "output_type": "stream",
     "text": [
      "-------------\n",
      "Orange Scented Hot Chocolate 12748\n"
     ]
    },
    {
     "data": {
      "text/html": [
       "<img src=\"https://www.thecocktaildb.com/images/media/drink/hdzwrh1487603131.jpg\" height=\"64\"/>"
      ],
      "text/plain": [
       "<IPython.core.display.Image object>"
      ]
     },
     "metadata": {},
     "output_type": "display_data"
    },
    {
     "name": "stdout",
     "output_type": "stream",
     "text": [
      "-------------\n",
      "Orangeade 12618\n"
     ]
    },
    {
     "data": {
      "text/html": [
       "<img src=\"https://www.thecocktaildb.com/images/media/drink/ytsxxw1441167732.jpg\" height=\"64\"/>"
      ],
      "text/plain": [
       "<IPython.core.display.Image object>"
      ]
     },
     "metadata": {},
     "output_type": "display_data"
    },
    {
     "name": "stdout",
     "output_type": "stream",
     "text": [
      "-------------\n",
      "Pineapple Gingerale Smoothie 12718\n"
     ]
    },
    {
     "data": {
      "text/html": [
       "<img src=\"https://www.thecocktaildb.com/images/media/drink/eg9i1d1487603469.jpg\" height=\"64\"/>"
      ],
      "text/plain": [
       "<IPython.core.display.Image object>"
      ]
     },
     "metadata": {},
     "output_type": "display_data"
    },
    {
     "name": "stdout",
     "output_type": "stream",
     "text": [
      "-------------\n",
      "Pysch Vitamin Light 15092\n"
     ]
    },
    {
     "data": {
      "text/html": [
       "<img src=\"https://www.thecocktaildb.com/images/media/drink/xsqsxw1441553580.jpg\" height=\"64\"/>"
      ],
      "text/plain": [
       "<IPython.core.display.Image object>"
      ]
     },
     "metadata": {},
     "output_type": "display_data"
    },
    {
     "name": "stdout",
     "output_type": "stream",
     "text": [
      "-------------\n",
      "Rail Splitter 12630\n"
     ]
    },
    {
     "data": {
      "text/html": [
       "<img src=\"https://www.thecocktaildb.com/images/media/drink/stsuqq1441207660.jpg\" height=\"64\"/>"
      ],
      "text/plain": [
       "<IPython.core.display.Image object>"
      ]
     },
     "metadata": {},
     "output_type": "display_data"
    },
    {
     "name": "stdout",
     "output_type": "stream",
     "text": [
      "-------------\n",
      "Spanish chocolate 12750\n"
     ]
    },
    {
     "data": {
      "text/html": [
       "<img src=\"https://www.thecocktaildb.com/images/media/drink/pra8vt1487603054.jpg\" height=\"64\"/>"
      ],
      "text/plain": [
       "<IPython.core.display.Image object>"
      ]
     },
     "metadata": {},
     "output_type": "display_data"
    },
    {
     "name": "stdout",
     "output_type": "stream",
     "text": [
      "-------------\n",
      "Spiced Peach Punch 13032\n"
     ]
    },
    {
     "data": {
      "text/html": [
       "<img src=\"https://www.thecocktaildb.com/images/media/drink/qxvypq1468924331.jpg\" height=\"64\"/>"
      ],
      "text/plain": [
       "<IPython.core.display.Image object>"
      ]
     },
     "metadata": {},
     "output_type": "display_data"
    },
    {
     "name": "stdout",
     "output_type": "stream",
     "text": [
      "-------------\n",
      "Spiking coffee 12780\n"
     ]
    },
    {
     "data": {
      "text/html": [
       "<img src=\"https://www.thecocktaildb.com/images/media/drink/isql6y1487602375.jpg\" height=\"64\"/>"
      ],
      "text/plain": [
       "<IPython.core.display.Image object>"
      ]
     },
     "metadata": {},
     "output_type": "display_data"
    },
    {
     "name": "stdout",
     "output_type": "stream",
     "text": [
      "-------------\n",
      "Strawberry Lemonade 13036\n"
     ]
    },
    {
     "data": {
      "text/html": [
       "<img src=\"https://www.thecocktaildb.com/images/media/drink/spvvxp1468924425.jpg\" height=\"64\"/>"
      ],
      "text/plain": [
       "<IPython.core.display.Image object>"
      ]
     },
     "metadata": {},
     "output_type": "display_data"
    },
    {
     "name": "stdout",
     "output_type": "stream",
     "text": [
      "-------------\n",
      "Strawberry Shivers 12722\n"
     ]
    },
    {
     "data": {
      "text/html": [
       "<img src=\"https://www.thecocktaildb.com/images/media/drink/9h1vvt1487603404.jpg\" height=\"64\"/>"
      ],
      "text/plain": [
       "<IPython.core.display.Image object>"
      ]
     },
     "metadata": {},
     "output_type": "display_data"
    },
    {
     "name": "stdout",
     "output_type": "stream",
     "text": [
      "-------------\n",
      "Sweet Bananas 12724\n"
     ]
    },
    {
     "data": {
      "text/html": [
       "<img src=\"https://www.thecocktaildb.com/images/media/drink/sxpcj71487603345.jpg\" height=\"64\"/>"
      ],
      "text/plain": [
       "<IPython.core.display.Image object>"
      ]
     },
     "metadata": {},
     "output_type": "display_data"
    },
    {
     "name": "stdout",
     "output_type": "stream",
     "text": [
      "-------------\n",
      "Thai Coffee 12782\n"
     ]
    },
    {
     "data": {
      "text/html": [
       "<img src=\"https://www.thecocktaildb.com/images/media/drink/wquwxs1441247025.jpg\" height=\"64\"/>"
      ],
      "text/plain": [
       "<IPython.core.display.Image object>"
      ]
     },
     "metadata": {},
     "output_type": "display_data"
    },
    {
     "name": "stdout",
     "output_type": "stream",
     "text": [
      "-------------\n",
      "Thai Iced Coffee 12784\n"
     ]
    },
    {
     "data": {
      "text/html": [
       "<img src=\"https://www.thecocktaildb.com/images/media/drink/rqpypv1441245650.jpg\" height=\"64\"/>"
      ],
      "text/plain": [
       "<IPython.core.display.Image object>"
      ]
     },
     "metadata": {},
     "output_type": "display_data"
    },
    {
     "name": "stdout",
     "output_type": "stream",
     "text": [
      "-------------\n",
      "Thai Iced Tea 12786\n"
     ]
    },
    {
     "data": {
      "text/html": [
       "<img src=\"https://www.thecocktaildb.com/images/media/drink/trvwpu1441245568.jpg\" height=\"64\"/>"
      ],
      "text/plain": [
       "<IPython.core.display.Image object>"
      ]
     },
     "metadata": {},
     "output_type": "display_data"
    },
    {
     "name": "stdout",
     "output_type": "stream",
     "text": [
      "-------------\n",
      "Tomato Tang 12726\n"
     ]
    },
    {
     "data": {
      "text/html": [
       "<img src=\"https://www.thecocktaildb.com/images/media/drink/869qr81487603278.jpg\" height=\"64\"/>"
      ],
      "text/plain": [
       "<IPython.core.display.Image object>"
      ]
     },
     "metadata": {},
     "output_type": "display_data"
    },
    {
     "name": "stdout",
     "output_type": "stream",
     "text": [
      "-------------\n",
      "Yoghurt Cooler 12728\n"
     ]
    },
    {
     "data": {
      "text/html": [
       "<img src=\"https://www.thecocktaildb.com/images/media/drink/trttrv1441254466.jpg\" height=\"64\"/>"
      ],
      "text/plain": [
       "<IPython.core.display.Image object>"
      ]
     },
     "metadata": {},
     "output_type": "display_data"
    }
   ],
   "source": [
    "for drink in drinks_data[\"drinks\"]:\n",
    "    #print(drink)\n",
    "    #print(type(drink))\n",
    "    #print(drink.keys())\n",
    "    print(\"-------------\")\n",
    "    print(drink[\"strDrink\"], drink[\"idDrink\"])\n",
    "    display(Image(url=drink[\"strDrinkThumb\"], height=64))\n"
   ]
  },
  {
   "cell_type": "code",
   "execution_count": null,
   "metadata": {},
   "outputs": [],
   "source": []
  },
  {
   "cell_type": "code",
   "execution_count": 10,
   "metadata": {
    "colab": {
     "base_uri": "https://localhost:8080/"
    },
    "id": "E7AP5gNeEtzf",
    "outputId": "bdcd91af-dcbd-45b6-a9ef-ec3694e7110b"
   },
   "outputs": [
    {
     "data": {
      "text/plain": [
       "{'idDrink': '12784',\n",
       " 'strDrink': 'Thai Iced Coffee',\n",
       " 'strDrinkAlternate': None,\n",
       " 'strTags': None,\n",
       " 'strVideo': None,\n",
       " 'strCategory': 'Coffee / Tea',\n",
       " 'strIBA': None,\n",
       " 'strAlcoholic': 'Non alcoholic',\n",
       " 'strGlass': 'Highball glass',\n",
       " 'strInstructions': 'Prepare a pot of coffee at a good European strength. In the ground coffee, add 2 or 3 freshly ground cardamom pods. Sweeten while hot, then cool quickly. Serve in highball glass over ice, with cream. To get the layered effect, place a spoon atop the coffee and pour the milk carefully into the spoon so that it floats on the top of the coffee.',\n",
       " 'strInstructionsES': None,\n",
       " 'strInstructionsDE': 'Bereite eine Kanne Kaffee mit guter europäischer Stärke zu. In den gemahlenen Kaffee 2 oder 3 frisch gemahlene Kardamomschoten geben. Im heißen Zustand süßen, dann schnell abkühlen lassen. In einem Highball-Glas über Eis mit Sahne servieren. Um den Schichteffekt zu erzielen, legen Sie einen Löffel auf den Kaffee und gießen Sie die Milch vorsichtig in den Löffel, so dass sie auf dem Kaffee schwimmt.',\n",
       " 'strInstructionsFR': None,\n",
       " 'strInstructionsIT': \"Nel caffè macinato aggiungere 2 o 3 cialde di cardamomo appena macinate.\\r\\nDolcificare quando è caldo, quindi raffreddare rapidamente.\\r\\nServire in bicchiere highball con ghiaccio, con panna.\\r\\nPer ottenere l'effetto a strati, posiziona un cucchiaio sopra il caffè e versa il latte con attenzione nel cucchiaio in modo che galleggi sulla parte superiore del caffè.\",\n",
       " 'strInstructionsZH-HANS': None,\n",
       " 'strInstructionsZH-HANT': None,\n",
       " 'strDrinkThumb': 'https://www.thecocktaildb.com/images/media/drink/rqpypv1441245650.jpg',\n",
       " 'strIngredient1': 'Coffee',\n",
       " 'strIngredient2': 'Sugar',\n",
       " 'strIngredient3': 'Cream',\n",
       " 'strIngredient4': 'Cardamom',\n",
       " 'strIngredient5': None,\n",
       " 'strIngredient6': None,\n",
       " 'strIngredient7': None,\n",
       " 'strIngredient8': None,\n",
       " 'strIngredient9': None,\n",
       " 'strIngredient10': None,\n",
       " 'strIngredient11': None,\n",
       " 'strIngredient12': None,\n",
       " 'strIngredient13': None,\n",
       " 'strIngredient14': None,\n",
       " 'strIngredient15': None,\n",
       " 'strMeasure1': 'black',\n",
       " 'strMeasure2': None,\n",
       " 'strMeasure3': ' pods\\n',\n",
       " 'strMeasure4': None,\n",
       " 'strMeasure5': None,\n",
       " 'strMeasure6': None,\n",
       " 'strMeasure7': None,\n",
       " 'strMeasure8': None,\n",
       " 'strMeasure9': None,\n",
       " 'strMeasure10': None,\n",
       " 'strMeasure11': None,\n",
       " 'strMeasure12': None,\n",
       " 'strMeasure13': None,\n",
       " 'strMeasure14': None,\n",
       " 'strMeasure15': None,\n",
       " 'strImageSource': None,\n",
       " 'strImageAttribution': None,\n",
       " 'strCreativeCommonsConfirmed': 'No',\n",
       " 'dateModified': '2015-09-03 03:00:50'}"
      ]
     },
     "execution_count": 10,
     "metadata": {},
     "output_type": "execute_result"
    }
   ],
   "source": [
    "drink_id = \"12784\" # for example, see list of drink ids above\n",
    "\n",
    "ingreds_url = f\"https://www.thecocktaildb.com/api/json/v1/1/lookup.php?i={drink_id}\"\n",
    "\n",
    "ingreds_response = requests.get(ingreds_url)\n",
    "\n",
    "ingreds_data = json.loads(ingreds_response.text)\n",
    "\n",
    "ingreds_data[\"drinks\"][0]"
   ]
  },
  {
   "cell_type": "markdown",
   "metadata": {
    "id": "DCPWXpaco7Lt"
   },
   "source": [
    "## The Cat API (Cats)"
   ]
  },
  {
   "cell_type": "markdown",
   "metadata": {},
   "source": [
    "If you don’t have an API Key, just head over to https://thecatapi.com/signup  and get one for free.  \n",
    "It's completely free, email is only be used to send you an API Key"
   ]
  },
  {
   "cell_type": "markdown",
   "metadata": {
    "id": "d1ar_ph9rM3T"
   },
   "source": [
    "Notes:\n",
    "\n",
    "  + Provides information about cats, in JSON format.   \n",
    "  + Uses API Key authentication, passed via URL params or **request headers**. \n",
    "\n",
    "References: \n",
    "  + https://docs.thecatapi.com\n",
    "  + https://docs.thecatapi.com/authentication\n",
    "  + https://docs.thecatapi.com/example-by-breed\n",
    "\n",
    "Example URL:\n",
    "  + https://api.thecatapi.com/v1/breeds\n",
    "  + https://api.thecatapi.com/v1/images/search?breed_ids=beng\n",
    "  "
   ]
  },
  {
   "cell_type": "code",
   "execution_count": 3,
   "metadata": {
    "colab": {
     "base_uri": "https://localhost:8080/"
    },
    "id": "QJs3-Fh8oxpy",
    "outputId": "9ca15c03-c34d-4329-94a1-689fbff83f2e"
   },
   "outputs": [],
   "source": [
    "# from getpass import getpass \n",
    "# CATS_API_KEY = getpass(\"Please provide your Cats API Key: \")"
   ]
  },
  {
   "cell_type": "code",
   "execution_count": 11,
   "metadata": {},
   "outputs": [],
   "source": [
    "# This is my key. Please go get your own, don't reuse mine!\n",
    "CATS_API_KEY = 'b6f0970f-acea-4d0f-8c59-fa669cdfb67c'"
   ]
  },
  {
   "cell_type": "code",
   "execution_count": 12,
   "metadata": {
    "id": "cOlAX9XcsIMG"
   },
   "outputs": [],
   "source": [
    "import requests\n",
    "import json\n",
    "from IPython.display import Image, display\n",
    "from pandas import Series\n",
    "\n",
    "cats_url = \"https://api.thecatapi.com/v1/breeds\"\n",
    "\n",
    "cats_headers = {\"x-api-key\": CATS_API_KEY}\n",
    "\n",
    "cats_response = requests.get(cats_url, cats_headers)\n",
    "\n",
    "cats_data = json.loads(cats_response.text)\n"
   ]
  },
  {
   "cell_type": "code",
   "execution_count": 13,
   "metadata": {
    "colab": {
     "base_uri": "https://localhost:8080/"
    },
    "id": "zXBVWwnIEJ9V",
    "outputId": "debf6609-bd4f-4ca1-fc26-7a5c7d468966"
   },
   "outputs": [
    {
     "name": "stdout",
     "output_type": "stream",
     "text": [
      "-----------------\n",
      "EXAMPLE CAT INFO:\n",
      "-----------------\n"
     ]
    },
    {
     "data": {
      "text/plain": [
       "{'weight': {'imperial': '7  -  10', 'metric': '3 - 5'},\n",
       " 'id': 'abys',\n",
       " 'name': 'Abyssinian',\n",
       " 'cfa_url': 'http://cfa.org/Breeds/BreedsAB/Abyssinian.aspx',\n",
       " 'vetstreet_url': 'http://www.vetstreet.com/cats/abyssinian',\n",
       " 'vcahospitals_url': 'https://vcahospitals.com/know-your-pet/cat-breeds/abyssinian',\n",
       " 'temperament': 'Active, Energetic, Independent, Intelligent, Gentle',\n",
       " 'origin': 'Egypt',\n",
       " 'country_codes': 'EG',\n",
       " 'country_code': 'EG',\n",
       " 'description': 'The Abyssinian is easy to care for, and a joy to have in your home. They’re affectionate cats and love both people and other animals.',\n",
       " 'life_span': '14 - 15',\n",
       " 'indoor': 0,\n",
       " 'lap': 1,\n",
       " 'alt_names': '',\n",
       " 'adaptability': 5,\n",
       " 'affection_level': 5,\n",
       " 'child_friendly': 3,\n",
       " 'dog_friendly': 4,\n",
       " 'energy_level': 5,\n",
       " 'grooming': 1,\n",
       " 'health_issues': 2,\n",
       " 'intelligence': 5,\n",
       " 'shedding_level': 2,\n",
       " 'social_needs': 5,\n",
       " 'stranger_friendly': 5,\n",
       " 'vocalisation': 1,\n",
       " 'experimental': 0,\n",
       " 'hairless': 0,\n",
       " 'natural': 1,\n",
       " 'rare': 0,\n",
       " 'rex': 0,\n",
       " 'suppressed_tail': 0,\n",
       " 'short_legs': 0,\n",
       " 'wikipedia_url': 'https://en.wikipedia.org/wiki/Abyssinian_(cat)',\n",
       " 'hypoallergenic': 0,\n",
       " 'reference_image_id': '0XYvRd7oD',\n",
       " 'image': {'id': '0XYvRd7oD',\n",
       "  'width': 1204,\n",
       "  'height': 1445,\n",
       "  'url': 'https://cdn2.thecatapi.com/images/0XYvRd7oD.jpg'}}"
      ]
     },
     "execution_count": 13,
     "metadata": {},
     "output_type": "execute_result"
    }
   ],
   "source": [
    "print(\"-----------------\")\n",
    "print(\"EXAMPLE CAT INFO:\")\n",
    "print(\"-----------------\")\n",
    "\n",
    "cats_data[0]"
   ]
  },
  {
   "cell_type": "code",
   "execution_count": 19,
   "metadata": {},
   "outputs": [
    {
     "name": "stdout",
     "output_type": "stream",
     "text": [
      "Abyssinian\n",
      "https://cdn2.thecatapi.com/images/0XYvRd7oD.jpg\n"
     ]
    }
   ],
   "source": [
    "print(cats_data[0]['name'])\n",
    "print(cats_data[0]['image']['url'])"
   ]
  },
  {
   "cell_type": "code",
   "execution_count": 7,
   "metadata": {
    "colab": {
     "base_uri": "https://localhost:8080/",
     "height": 1000
    },
    "id": "bIvSNjVDEEqA",
    "outputId": "f5df3c8a-12dc-4714-e01c-16eb2936fc80"
   },
   "outputs": [
    {
     "name": "stdout",
     "output_type": "stream",
     "text": [
      "-----------------\n",
      "CAT IMAGES:\n",
      "-----------------\n",
      "-------------\n",
      "Abyssinian\n"
     ]
    },
    {
     "data": {
      "text/html": [
       "<img src=\"https://cdn2.thecatapi.com/images/0XYvRd7oD.jpg\" height=\"128\"/>"
      ],
      "text/plain": [
       "<IPython.core.display.Image object>"
      ]
     },
     "metadata": {},
     "output_type": "display_data"
    },
    {
     "name": "stdout",
     "output_type": "stream",
     "text": [
      "-------------\n",
      "Aegean\n"
     ]
    },
    {
     "data": {
      "text/html": [
       "<img src=\"https://cdn2.thecatapi.com/images/ozEvzdVM-.jpg\" height=\"128\"/>"
      ],
      "text/plain": [
       "<IPython.core.display.Image object>"
      ]
     },
     "metadata": {},
     "output_type": "display_data"
    },
    {
     "name": "stdout",
     "output_type": "stream",
     "text": [
      "-------------\n",
      "American Bobtail\n"
     ]
    },
    {
     "data": {
      "text/html": [
       "<img src=\"https://cdn2.thecatapi.com/images/hBXicehMA.jpg\" height=\"128\"/>"
      ],
      "text/plain": [
       "<IPython.core.display.Image object>"
      ]
     },
     "metadata": {},
     "output_type": "display_data"
    },
    {
     "name": "stdout",
     "output_type": "stream",
     "text": [
      "-------------\n",
      "American Curl\n"
     ]
    },
    {
     "data": {
      "text/html": [
       "<img src=\"https://cdn2.thecatapi.com/images/xnsqonbjW.jpg\" height=\"128\"/>"
      ],
      "text/plain": [
       "<IPython.core.display.Image object>"
      ]
     },
     "metadata": {},
     "output_type": "display_data"
    },
    {
     "name": "stdout",
     "output_type": "stream",
     "text": [
      "-------------\n",
      "American Shorthair\n"
     ]
    },
    {
     "data": {
      "text/html": [
       "<img src=\"https://cdn2.thecatapi.com/images/JFPROfGtQ.jpg\" height=\"128\"/>"
      ],
      "text/plain": [
       "<IPython.core.display.Image object>"
      ]
     },
     "metadata": {},
     "output_type": "display_data"
    },
    {
     "name": "stdout",
     "output_type": "stream",
     "text": [
      "-------------\n",
      "American Wirehair\n"
     ]
    },
    {
     "data": {
      "text/html": [
       "<img src=\"https://cdn2.thecatapi.com/images/8D--jCd21.jpg\" height=\"128\"/>"
      ],
      "text/plain": [
       "<IPython.core.display.Image object>"
      ]
     },
     "metadata": {},
     "output_type": "display_data"
    },
    {
     "name": "stdout",
     "output_type": "stream",
     "text": [
      "-------------\n",
      "Arabian Mau\n"
     ]
    },
    {
     "data": {
      "text/html": [
       "<img src=\"https://cdn2.thecatapi.com/images/k71ULYfRr.jpg\" height=\"128\"/>"
      ],
      "text/plain": [
       "<IPython.core.display.Image object>"
      ]
     },
     "metadata": {},
     "output_type": "display_data"
    },
    {
     "name": "stdout",
     "output_type": "stream",
     "text": [
      "-------------\n",
      "Australian Mist\n"
     ]
    },
    {
     "data": {
      "text/html": [
       "<img src=\"https://cdn2.thecatapi.com/images/_6x-3TiCA.jpg\" height=\"128\"/>"
      ],
      "text/plain": [
       "<IPython.core.display.Image object>"
      ]
     },
     "metadata": {},
     "output_type": "display_data"
    },
    {
     "name": "stdout",
     "output_type": "stream",
     "text": [
      "-------------\n",
      "Balinese\n"
     ]
    },
    {
     "data": {
      "text/html": [
       "<img src=\"https://cdn2.thecatapi.com/images/13MkvUreZ.jpg\" height=\"128\"/>"
      ],
      "text/plain": [
       "<IPython.core.display.Image object>"
      ]
     },
     "metadata": {},
     "output_type": "display_data"
    },
    {
     "name": "stdout",
     "output_type": "stream",
     "text": [
      "-------------\n",
      "Bambino\n"
     ]
    },
    {
     "data": {
      "text/html": [
       "<img src=\"https://cdn2.thecatapi.com/images/5AdhMjeEu.jpg\" height=\"128\"/>"
      ],
      "text/plain": [
       "<IPython.core.display.Image object>"
      ]
     },
     "metadata": {},
     "output_type": "display_data"
    },
    {
     "name": "stdout",
     "output_type": "stream",
     "text": [
      "-------------\n",
      "Bengal\n"
     ]
    },
    {
     "data": {
      "text/html": [
       "<img src=\"https://cdn2.thecatapi.com/images/O3btzLlsO.png\" height=\"128\"/>"
      ],
      "text/plain": [
       "<IPython.core.display.Image object>"
      ]
     },
     "metadata": {},
     "output_type": "display_data"
    },
    {
     "name": "stdout",
     "output_type": "stream",
     "text": [
      "-------------\n",
      "Birman\n"
     ]
    },
    {
     "data": {
      "text/html": [
       "<img src=\"https://cdn2.thecatapi.com/images/HOrX5gwLS.jpg\" height=\"128\"/>"
      ],
      "text/plain": [
       "<IPython.core.display.Image object>"
      ]
     },
     "metadata": {},
     "output_type": "display_data"
    },
    {
     "name": "stdout",
     "output_type": "stream",
     "text": [
      "-------------\n",
      "Bombay\n"
     ]
    },
    {
     "data": {
      "text/html": [
       "<img src=\"https://cdn2.thecatapi.com/images/5iYq9NmT1.jpg\" height=\"128\"/>"
      ],
      "text/plain": [
       "<IPython.core.display.Image object>"
      ]
     },
     "metadata": {},
     "output_type": "display_data"
    },
    {
     "name": "stdout",
     "output_type": "stream",
     "text": [
      "-------------\n",
      "British Longhair\n"
     ]
    },
    {
     "data": {
      "text/html": [
       "<img src=\"https://cdn2.thecatapi.com/images/7isAO4Cav.jpg\" height=\"128\"/>"
      ],
      "text/plain": [
       "<IPython.core.display.Image object>"
      ]
     },
     "metadata": {},
     "output_type": "display_data"
    },
    {
     "name": "stdout",
     "output_type": "stream",
     "text": [
      "-------------\n",
      "British Shorthair\n"
     ]
    },
    {
     "data": {
      "text/html": [
       "<img src=\"https://cdn2.thecatapi.com/images/s4wQfYoEk.jpg\" height=\"128\"/>"
      ],
      "text/plain": [
       "<IPython.core.display.Image object>"
      ]
     },
     "metadata": {},
     "output_type": "display_data"
    },
    {
     "name": "stdout",
     "output_type": "stream",
     "text": [
      "-------------\n",
      "Burmese\n"
     ]
    },
    {
     "data": {
      "text/html": [
       "<img src=\"https://cdn2.thecatapi.com/images/4lXnnfxac.jpg\" height=\"128\"/>"
      ],
      "text/plain": [
       "<IPython.core.display.Image object>"
      ]
     },
     "metadata": {},
     "output_type": "display_data"
    },
    {
     "name": "stdout",
     "output_type": "stream",
     "text": [
      "-------------\n",
      "Burmilla\n"
     ]
    },
    {
     "data": {
      "text/html": [
       "<img src=\"https://cdn2.thecatapi.com/images/jvg3XfEdC.jpg\" height=\"128\"/>"
      ],
      "text/plain": [
       "<IPython.core.display.Image object>"
      ]
     },
     "metadata": {},
     "output_type": "display_data"
    },
    {
     "name": "stdout",
     "output_type": "stream",
     "text": [
      "-------------\n",
      "California Spangled\n"
     ]
    },
    {
     "data": {
      "text/html": [
       "<img src=\"https://cdn2.thecatapi.com/images/B1ERTmgph.jpg\" height=\"128\"/>"
      ],
      "text/plain": [
       "<IPython.core.display.Image object>"
      ]
     },
     "metadata": {},
     "output_type": "display_data"
    },
    {
     "name": "stdout",
     "output_type": "stream",
     "text": [
      "-------------\n",
      "Chantilly-Tiffany\n"
     ]
    },
    {
     "data": {
      "text/html": [
       "<img src=\"https://cdn2.thecatapi.com/images/TR-5nAd_S.jpg\" height=\"128\"/>"
      ],
      "text/plain": [
       "<IPython.core.display.Image object>"
      ]
     },
     "metadata": {},
     "output_type": "display_data"
    },
    {
     "name": "stdout",
     "output_type": "stream",
     "text": [
      "-------------\n",
      "Chartreux\n"
     ]
    },
    {
     "data": {
      "text/html": [
       "<img src=\"https://cdn2.thecatapi.com/images/j6oFGLpRG.jpg\" height=\"128\"/>"
      ],
      "text/plain": [
       "<IPython.core.display.Image object>"
      ]
     },
     "metadata": {},
     "output_type": "display_data"
    },
    {
     "name": "stdout",
     "output_type": "stream",
     "text": [
      "-------------\n",
      "Chausie\n"
     ]
    },
    {
     "data": {
      "text/html": [
       "<img src=\"https://cdn2.thecatapi.com/images/vJ3lEYgXr.jpg\" height=\"128\"/>"
      ],
      "text/plain": [
       "<IPython.core.display.Image object>"
      ]
     },
     "metadata": {},
     "output_type": "display_data"
    },
    {
     "name": "stdout",
     "output_type": "stream",
     "text": [
      "-------------\n",
      "Cheetoh\n"
     ]
    },
    {
     "data": {
      "text/html": [
       "<img src=\"https://cdn2.thecatapi.com/images/IFXsxmXLm.jpg\" height=\"128\"/>"
      ],
      "text/plain": [
       "<IPython.core.display.Image object>"
      ]
     },
     "metadata": {},
     "output_type": "display_data"
    },
    {
     "name": "stdout",
     "output_type": "stream",
     "text": [
      "-------------\n",
      "Colorpoint Shorthair\n"
     ]
    },
    {
     "data": {
      "text/html": [
       "<img src=\"https://cdn2.thecatapi.com/images/oSpqGyUDS.jpg\" height=\"128\"/>"
      ],
      "text/plain": [
       "<IPython.core.display.Image object>"
      ]
     },
     "metadata": {},
     "output_type": "display_data"
    },
    {
     "name": "stdout",
     "output_type": "stream",
     "text": [
      "-------------\n",
      "Cornish Rex\n"
     ]
    },
    {
     "data": {
      "text/html": [
       "<img src=\"https://cdn2.thecatapi.com/images/unX21IBVB.jpg\" height=\"128\"/>"
      ],
      "text/plain": [
       "<IPython.core.display.Image object>"
      ]
     },
     "metadata": {},
     "output_type": "display_data"
    },
    {
     "name": "stdout",
     "output_type": "stream",
     "text": [
      "-------------\n",
      "Cymric\n"
     ]
    },
    {
     "data": {
      "text/html": [
       "<img src=\"https://cdn2.thecatapi.com/images/3dbtapCWM.jpg\" height=\"128\"/>"
      ],
      "text/plain": [
       "<IPython.core.display.Image object>"
      ]
     },
     "metadata": {},
     "output_type": "display_data"
    },
    {
     "name": "stdout",
     "output_type": "stream",
     "text": [
      "-------------\n",
      "Cyprus\n"
     ]
    },
    {
     "data": {
      "text/html": [
       "<img src=\"https://cdn2.thecatapi.com/images/tJbzb7FKo.jpg\" height=\"128\"/>"
      ],
      "text/plain": [
       "<IPython.core.display.Image object>"
      ]
     },
     "metadata": {},
     "output_type": "display_data"
    },
    {
     "name": "stdout",
     "output_type": "stream",
     "text": [
      "-------------\n",
      "Devon Rex\n"
     ]
    },
    {
     "data": {
      "text/html": [
       "<img src=\"https://cdn2.thecatapi.com/images/4RzEwvyzz.png\" height=\"128\"/>"
      ],
      "text/plain": [
       "<IPython.core.display.Image object>"
      ]
     },
     "metadata": {},
     "output_type": "display_data"
    },
    {
     "name": "stdout",
     "output_type": "stream",
     "text": [
      "-------------\n",
      "Donskoy\n"
     ]
    },
    {
     "data": {
      "text/html": [
       "<img src=\"https://cdn2.thecatapi.com/images/3KG57GfMW.jpg\" height=\"128\"/>"
      ],
      "text/plain": [
       "<IPython.core.display.Image object>"
      ]
     },
     "metadata": {},
     "output_type": "display_data"
    },
    {
     "name": "stdout",
     "output_type": "stream",
     "text": [
      "-------------\n",
      "Dragon Li\n"
     ]
    },
    {
     "data": {
      "text/html": [
       "<img src=\"https://cdn2.thecatapi.com/images/BQMSld0A0.jpg\" height=\"128\"/>"
      ],
      "text/plain": [
       "<IPython.core.display.Image object>"
      ]
     },
     "metadata": {},
     "output_type": "display_data"
    },
    {
     "name": "stdout",
     "output_type": "stream",
     "text": [
      "-------------\n",
      "Egyptian Mau\n"
     ]
    },
    {
     "data": {
      "text/html": [
       "<img src=\"https://cdn2.thecatapi.com/images/TuSyTkt2n.jpg\" height=\"128\"/>"
      ],
      "text/plain": [
       "<IPython.core.display.Image object>"
      ]
     },
     "metadata": {},
     "output_type": "display_data"
    },
    {
     "name": "stdout",
     "output_type": "stream",
     "text": [
      "-------------\n",
      "European Burmese\n",
      "OOPS, IMAGE NOT AVAILABLE...\n",
      "-------------\n",
      "Exotic Shorthair\n"
     ]
    },
    {
     "data": {
      "text/html": [
       "<img src=\"https://cdn2.thecatapi.com/images/YnPrYEmfe.jpg\" height=\"128\"/>"
      ],
      "text/plain": [
       "<IPython.core.display.Image object>"
      ]
     },
     "metadata": {},
     "output_type": "display_data"
    },
    {
     "name": "stdout",
     "output_type": "stream",
     "text": [
      "-------------\n",
      "Havana Brown\n"
     ]
    },
    {
     "data": {
      "text/html": [
       "<img src=\"https://cdn2.thecatapi.com/images/njK25knLH.jpg\" height=\"128\"/>"
      ],
      "text/plain": [
       "<IPython.core.display.Image object>"
      ]
     },
     "metadata": {},
     "output_type": "display_data"
    },
    {
     "name": "stdout",
     "output_type": "stream",
     "text": [
      "-------------\n",
      "Himalayan\n"
     ]
    },
    {
     "data": {
      "text/html": [
       "<img src=\"https://cdn2.thecatapi.com/images/CDhOtM-Ig.jpg\" height=\"128\"/>"
      ],
      "text/plain": [
       "<IPython.core.display.Image object>"
      ]
     },
     "metadata": {},
     "output_type": "display_data"
    },
    {
     "name": "stdout",
     "output_type": "stream",
     "text": [
      "-------------\n",
      "Japanese Bobtail\n"
     ]
    },
    {
     "data": {
      "text/html": [
       "<img src=\"https://cdn2.thecatapi.com/images/-tm9-znzl.jpg\" height=\"128\"/>"
      ],
      "text/plain": [
       "<IPython.core.display.Image object>"
      ]
     },
     "metadata": {},
     "output_type": "display_data"
    },
    {
     "name": "stdout",
     "output_type": "stream",
     "text": [
      "-------------\n",
      "Javanese\n"
     ]
    },
    {
     "data": {
      "text/html": [
       "<img src=\"https://cdn2.thecatapi.com/images/xoI_EpOKe.jpg\" height=\"128\"/>"
      ],
      "text/plain": [
       "<IPython.core.display.Image object>"
      ]
     },
     "metadata": {},
     "output_type": "display_data"
    },
    {
     "name": "stdout",
     "output_type": "stream",
     "text": [
      "-------------\n",
      "Khao Manee\n"
     ]
    },
    {
     "data": {
      "text/html": [
       "<img src=\"https://cdn2.thecatapi.com/images/165ok6ESN.jpg\" height=\"128\"/>"
      ],
      "text/plain": [
       "<IPython.core.display.Image object>"
      ]
     },
     "metadata": {},
     "output_type": "display_data"
    },
    {
     "name": "stdout",
     "output_type": "stream",
     "text": [
      "-------------\n",
      "Korat\n"
     ]
    },
    {
     "data": {
      "text/html": [
       "<img src=\"https://cdn2.thecatapi.com/images/DbwiefiaY.png\" height=\"128\"/>"
      ],
      "text/plain": [
       "<IPython.core.display.Image object>"
      ]
     },
     "metadata": {},
     "output_type": "display_data"
    },
    {
     "name": "stdout",
     "output_type": "stream",
     "text": [
      "-------------\n",
      "Kurilian\n"
     ]
    },
    {
     "data": {
      "text/html": [
       "<img src=\"https://cdn2.thecatapi.com/images/NZpO4pU56M.jpg\" height=\"128\"/>"
      ],
      "text/plain": [
       "<IPython.core.display.Image object>"
      ]
     },
     "metadata": {},
     "output_type": "display_data"
    },
    {
     "name": "stdout",
     "output_type": "stream",
     "text": [
      "-------------\n",
      "LaPerm\n"
     ]
    },
    {
     "data": {
      "text/html": [
       "<img src=\"https://cdn2.thecatapi.com/images/aKbsEYjSl.jpg\" height=\"128\"/>"
      ],
      "text/plain": [
       "<IPython.core.display.Image object>"
      ]
     },
     "metadata": {},
     "output_type": "display_data"
    },
    {
     "name": "stdout",
     "output_type": "stream",
     "text": [
      "-------------\n",
      "Maine Coon\n"
     ]
    },
    {
     "data": {
      "text/html": [
       "<img src=\"https://cdn2.thecatapi.com/images/OOD3VXAQn.jpg\" height=\"128\"/>"
      ],
      "text/plain": [
       "<IPython.core.display.Image object>"
      ]
     },
     "metadata": {},
     "output_type": "display_data"
    },
    {
     "name": "stdout",
     "output_type": "stream",
     "text": [
      "-------------\n",
      "Malayan\n",
      "OOPS, IMAGE NOT AVAILABLE...\n",
      "-------------\n",
      "Manx\n"
     ]
    },
    {
     "data": {
      "text/html": [
       "<img src=\"https://cdn2.thecatapi.com/images/fhYh2PDcC.jpg\" height=\"128\"/>"
      ],
      "text/plain": [
       "<IPython.core.display.Image object>"
      ]
     },
     "metadata": {},
     "output_type": "display_data"
    },
    {
     "name": "stdout",
     "output_type": "stream",
     "text": [
      "-------------\n",
      "Munchkin\n"
     ]
    },
    {
     "data": {
      "text/html": [
       "<img src=\"https://cdn2.thecatapi.com/images/j5cVSqLer.jpg\" height=\"128\"/>"
      ],
      "text/plain": [
       "<IPython.core.display.Image object>"
      ]
     },
     "metadata": {},
     "output_type": "display_data"
    },
    {
     "name": "stdout",
     "output_type": "stream",
     "text": [
      "-------------\n",
      "Nebelung\n"
     ]
    },
    {
     "data": {
      "text/html": [
       "<img src=\"https://cdn2.thecatapi.com/images/OGTWqNNOt.jpg\" height=\"128\"/>"
      ],
      "text/plain": [
       "<IPython.core.display.Image object>"
      ]
     },
     "metadata": {},
     "output_type": "display_data"
    },
    {
     "name": "stdout",
     "output_type": "stream",
     "text": [
      "-------------\n",
      "Norwegian Forest Cat\n"
     ]
    },
    {
     "data": {
      "text/html": [
       "<img src=\"https://cdn2.thecatapi.com/images/06dgGmEOV.jpg\" height=\"128\"/>"
      ],
      "text/plain": [
       "<IPython.core.display.Image object>"
      ]
     },
     "metadata": {},
     "output_type": "display_data"
    },
    {
     "name": "stdout",
     "output_type": "stream",
     "text": [
      "-------------\n",
      "Ocicat\n"
     ]
    },
    {
     "data": {
      "text/html": [
       "<img src=\"https://cdn2.thecatapi.com/images/JAx-08Y0n.jpg\" height=\"128\"/>"
      ],
      "text/plain": [
       "<IPython.core.display.Image object>"
      ]
     },
     "metadata": {},
     "output_type": "display_data"
    },
    {
     "name": "stdout",
     "output_type": "stream",
     "text": [
      "-------------\n",
      "Oriental\n"
     ]
    },
    {
     "data": {
      "text/html": [
       "<img src=\"https://cdn2.thecatapi.com/images/LutjkZJpH.jpg\" height=\"128\"/>"
      ],
      "text/plain": [
       "<IPython.core.display.Image object>"
      ]
     },
     "metadata": {},
     "output_type": "display_data"
    },
    {
     "name": "stdout",
     "output_type": "stream",
     "text": [
      "-------------\n",
      "Persian\n",
      "OOPS, IMAGE NOT AVAILABLE...\n",
      "-------------\n",
      "Pixie-bob\n"
     ]
    },
    {
     "data": {
      "text/html": [
       "<img src=\"https://cdn2.thecatapi.com/images/z7fJRNeN6.jpg\" height=\"128\"/>"
      ],
      "text/plain": [
       "<IPython.core.display.Image object>"
      ]
     },
     "metadata": {},
     "output_type": "display_data"
    },
    {
     "name": "stdout",
     "output_type": "stream",
     "text": [
      "-------------\n",
      "Ragamuffin\n"
     ]
    },
    {
     "data": {
      "text/html": [
       "<img src=\"https://cdn2.thecatapi.com/images/SMuZx-bFM.jpg\" height=\"128\"/>"
      ],
      "text/plain": [
       "<IPython.core.display.Image object>"
      ]
     },
     "metadata": {},
     "output_type": "display_data"
    },
    {
     "name": "stdout",
     "output_type": "stream",
     "text": [
      "-------------\n",
      "Ragdoll\n"
     ]
    },
    {
     "data": {
      "text/html": [
       "<img src=\"https://cdn2.thecatapi.com/images/oGefY4YoG.jpg\" height=\"128\"/>"
      ],
      "text/plain": [
       "<IPython.core.display.Image object>"
      ]
     },
     "metadata": {},
     "output_type": "display_data"
    },
    {
     "name": "stdout",
     "output_type": "stream",
     "text": [
      "-------------\n",
      "Russian Blue\n"
     ]
    },
    {
     "data": {
      "text/html": [
       "<img src=\"https://cdn2.thecatapi.com/images/Rhj-JsTLP.jpg\" height=\"128\"/>"
      ],
      "text/plain": [
       "<IPython.core.display.Image object>"
      ]
     },
     "metadata": {},
     "output_type": "display_data"
    },
    {
     "name": "stdout",
     "output_type": "stream",
     "text": [
      "-------------\n",
      "Savannah\n"
     ]
    },
    {
     "data": {
      "text/html": [
       "<img src=\"https://cdn2.thecatapi.com/images/a8nIYvs6S.jpg\" height=\"128\"/>"
      ],
      "text/plain": [
       "<IPython.core.display.Image object>"
      ]
     },
     "metadata": {},
     "output_type": "display_data"
    },
    {
     "name": "stdout",
     "output_type": "stream",
     "text": [
      "-------------\n",
      "Scottish Fold\n"
     ]
    },
    {
     "data": {
      "text/html": [
       "<img src=\"https://cdn2.thecatapi.com/images/o9t0LDcsa.jpg\" height=\"128\"/>"
      ],
      "text/plain": [
       "<IPython.core.display.Image object>"
      ]
     },
     "metadata": {},
     "output_type": "display_data"
    },
    {
     "name": "stdout",
     "output_type": "stream",
     "text": [
      "-------------\n",
      "Selkirk Rex\n"
     ]
    },
    {
     "data": {
      "text/html": [
       "<img src=\"https://cdn2.thecatapi.com/images/II9dOZmrw.jpg\" height=\"128\"/>"
      ],
      "text/plain": [
       "<IPython.core.display.Image object>"
      ]
     },
     "metadata": {},
     "output_type": "display_data"
    },
    {
     "name": "stdout",
     "output_type": "stream",
     "text": [
      "-------------\n",
      "Siamese\n"
     ]
    },
    {
     "data": {
      "text/html": [
       "<img src=\"https://cdn2.thecatapi.com/images/ai6Jps4sx.jpg\" height=\"128\"/>"
      ],
      "text/plain": [
       "<IPython.core.display.Image object>"
      ]
     },
     "metadata": {},
     "output_type": "display_data"
    },
    {
     "name": "stdout",
     "output_type": "stream",
     "text": [
      "-------------\n",
      "Siberian\n"
     ]
    },
    {
     "data": {
      "text/html": [
       "<img src=\"https://cdn2.thecatapi.com/images/3bkZAjRh1.jpg\" height=\"128\"/>"
      ],
      "text/plain": [
       "<IPython.core.display.Image object>"
      ]
     },
     "metadata": {},
     "output_type": "display_data"
    },
    {
     "name": "stdout",
     "output_type": "stream",
     "text": [
      "-------------\n",
      "Singapura\n"
     ]
    },
    {
     "data": {
      "text/html": [
       "<img src=\"https://cdn2.thecatapi.com/images/Qtncp2nRe.jpg\" height=\"128\"/>"
      ],
      "text/plain": [
       "<IPython.core.display.Image object>"
      ]
     },
     "metadata": {},
     "output_type": "display_data"
    },
    {
     "name": "stdout",
     "output_type": "stream",
     "text": [
      "-------------\n",
      "Snowshoe\n"
     ]
    },
    {
     "data": {
      "text/html": [
       "<img src=\"https://cdn2.thecatapi.com/images/MK-sYESvO.jpg\" height=\"128\"/>"
      ],
      "text/plain": [
       "<IPython.core.display.Image object>"
      ]
     },
     "metadata": {},
     "output_type": "display_data"
    },
    {
     "name": "stdout",
     "output_type": "stream",
     "text": [
      "-------------\n",
      "Somali\n"
     ]
    },
    {
     "data": {
      "text/html": [
       "<img src=\"https://cdn2.thecatapi.com/images/EPF2ejNS0.jpg\" height=\"128\"/>"
      ],
      "text/plain": [
       "<IPython.core.display.Image object>"
      ]
     },
     "metadata": {},
     "output_type": "display_data"
    },
    {
     "name": "stdout",
     "output_type": "stream",
     "text": [
      "-------------\n",
      "Sphynx\n"
     ]
    },
    {
     "data": {
      "text/html": [
       "<img src=\"https://cdn2.thecatapi.com/images/BDb8ZXb1v.jpg\" height=\"128\"/>"
      ],
      "text/plain": [
       "<IPython.core.display.Image object>"
      ]
     },
     "metadata": {},
     "output_type": "display_data"
    },
    {
     "name": "stdout",
     "output_type": "stream",
     "text": [
      "-------------\n",
      "Tonkinese\n"
     ]
    },
    {
     "data": {
      "text/html": [
       "<img src=\"https://cdn2.thecatapi.com/images/KBroiVNCM.jpg\" height=\"128\"/>"
      ],
      "text/plain": [
       "<IPython.core.display.Image object>"
      ]
     },
     "metadata": {},
     "output_type": "display_data"
    },
    {
     "name": "stdout",
     "output_type": "stream",
     "text": [
      "-------------\n",
      "Toyger\n"
     ]
    },
    {
     "data": {
      "text/html": [
       "<img src=\"https://cdn2.thecatapi.com/images/O3F3_S1XN.jpg\" height=\"128\"/>"
      ],
      "text/plain": [
       "<IPython.core.display.Image object>"
      ]
     },
     "metadata": {},
     "output_type": "display_data"
    },
    {
     "name": "stdout",
     "output_type": "stream",
     "text": [
      "-------------\n",
      "Turkish Angora\n"
     ]
    },
    {
     "data": {
      "text/html": [
       "<img src=\"https://cdn2.thecatapi.com/images/7CGV6WVXq.jpg\" height=\"128\"/>"
      ],
      "text/plain": [
       "<IPython.core.display.Image object>"
      ]
     },
     "metadata": {},
     "output_type": "display_data"
    },
    {
     "name": "stdout",
     "output_type": "stream",
     "text": [
      "-------------\n",
      "Turkish Van\n"
     ]
    },
    {
     "data": {
      "text/html": [
       "<img src=\"https://cdn2.thecatapi.com/images/sxIXJax6h.jpg\" height=\"128\"/>"
      ],
      "text/plain": [
       "<IPython.core.display.Image object>"
      ]
     },
     "metadata": {},
     "output_type": "display_data"
    },
    {
     "name": "stdout",
     "output_type": "stream",
     "text": [
      "-------------\n",
      "York Chocolate\n"
     ]
    },
    {
     "data": {
      "text/html": [
       "<img src=\"https://cdn2.thecatapi.com/images/0SxW2SQ_S.jpg\" height=\"128\"/>"
      ],
      "text/plain": [
       "<IPython.core.display.Image object>"
      ]
     },
     "metadata": {},
     "output_type": "display_data"
    }
   ],
   "source": [
    "print(\"-----------------\")\n",
    "print(\"CAT IMAGES:\")\n",
    "print(\"-----------------\")\n",
    "\n",
    "for cat in cats_data:\n",
    "    print(\"-------------\")\n",
    "    print(cat[\"name\"])\n",
    "    try:\n",
    "        display(Image(url=cat[\"image\"][\"url\"], height=128))\n",
    "    except:\n",
    "        print(\"OOPS, IMAGE NOT AVAILABLE...\")"
   ]
  },
  {
   "cell_type": "markdown",
   "metadata": {
    "id": "mGiBiBSTo9NB"
   },
   "source": [
    "## AlphaVantage API (Stocks)"
   ]
  },
  {
   "cell_type": "markdown",
   "metadata": {
    "id": "emxBMgYyp4sk"
   },
   "source": [
    "Notes:\n",
    "\n",
    "  + Provides information about stocks, in JSON or CSV format. \n",
    "  + Uses API Key authentication, passed via URL parameters. Demo key is \"demo\".\n",
    "\n",
    "References: \n",
    "\n",
    "  + https://www.alphavantage.co/\n",
    "  + https://www.alphavantage.co/support/#api-key\n",
    "  + https://www.alphavantage.co/documentation/\n",
    "\n",
    "Example URL:\n",
    "  + https://www.alphavantage.co/documentation/#dailyadj\n"
   ]
  },
  {
   "cell_type": "markdown",
   "metadata": {},
   "source": [
    "You can get your API key here: https://www.alphavantage.co/support/#api-key"
   ]
  },
  {
   "cell_type": "code",
   "execution_count": null,
   "metadata": {},
   "outputs": [],
   "source": [
    "# This is my key. Please go get your own, don't reuse mine!\n",
    "ALPHAVANTAGE_API_KEY="
   ]
  },
  {
   "cell_type": "code",
   "execution_count": null,
   "metadata": {
    "colab": {
     "base_uri": "https://localhost:8080/"
    },
    "id": "U8PEViowqLJX",
    "outputId": "4197f0b3-08ae-4acc-b2dc-ab514b2e12a2"
   },
   "outputs": [],
   "source": [
    "from getpass import getpass\n",
    "ALPHAVANTAGE_API_KEY = getpass(\"Please provide your AlphaVantage API Key: \")"
   ]
  },
  {
   "cell_type": "code",
   "execution_count": null,
   "metadata": {
    "id": "wiYNEE4eo2tT"
   },
   "outputs": [],
   "source": [
    "from pandas import read_csv\n",
    "from plotly.express import line as line_chart # this alias is optional (feel free to alias or not, based on your own personal preferences)\n",
    "\n",
    "def show_chart(symbol):\n",
    "    \"\"\"\n",
    "    Processes CSV data for the given symbol and displays a line chart of prices over time.\n",
    "\n",
    "    Params symbol (str) : stock symbol like \"msft or \"GOOGL\" (capitalization doesn't matter)\n",
    "\n",
    "    Example:\n",
    "\n",
    "        show_chart(\"MSFT\")\n",
    "        \n",
    "    \"\"\"\n",
    "\n",
    "    symbol = symbol.lower()\n",
    "    #print(\"STOCK:\", symbol.upper())\n",
    "\n",
    "    request_url = f\"https://www.alphavantage.co/query?function=TIME_SERIES_DAILY_ADJUSTED&symbol={symbol}&apikey={ALPHAVANTAGE_API_KEY}&datatype=csv\"\n",
    "    #print(\"REQUEST URL:\", request_url)\n",
    "\n",
    "    df = read_csv(request_url)\n",
    "    #print(df.head())\n",
    "\n",
    "    # leverage the docs heavily for custom formatting and display:\n",
    "    # + https://plotly.com/python-api-reference/generated/plotly.express.line\n",
    "    fig = line_chart(df, \n",
    "        x=\"timestamp\", \n",
    "        y=\"adjusted_close\",\n",
    "        #hover_data=[\"volume\", \"open\", \"high\", \"low\"],\n",
    "        title=f\"Daily Stock Prices ({symbol.upper()})\",\n",
    "        labels={\n",
    "            \"adjusted_close\":\"Closing Price\", # \"Closing Price (USD)\"\n",
    "            \"timestamp\": \"Date\",\n",
    "            #\"volume\": \"Volume\",\n",
    "            #\"open\": \"Open\",\n",
    "            #\"high\": \"High\",\n",
    "            #\"low\": \"Low\"\n",
    "        }\n",
    "    )\n",
    "    #print(\"FIG:\", type(fig))\n",
    "\n",
    "    # google search for \"plotly express format numbers as dollars\" yeilds:\n",
    "    #  + https://plotly.com/python/styling-plotly-express/\n",
    "    #  + https://stackoverflow.com/questions/66095143/how-to-change-currency-format-in-plotly-express-hover-data\n",
    "    fig.update_yaxes(\n",
    "        tickprefix=\"$\", \n",
    "        showgrid=True\n",
    "    )\n",
    "\n",
    "    fig.show()\n",
    "\n",
    "    #return df, fig\n"
   ]
  },
  {
   "cell_type": "code",
   "execution_count": null,
   "metadata": {
    "colab": {
     "base_uri": "https://localhost:8080/",
     "height": 542
    },
    "id": "RInbuXtNpX7K",
    "outputId": "f85ca8b2-2d63-4a5a-d19b-b30be389d8ec"
   },
   "outputs": [],
   "source": [
    "# @title Stock Selection Form\n",
    "symbol = \"SBUX\" # @param ['MSFT', 'GOOGL', 'AAPL', 'NFLX', \"SBUX\", \"TSLA\", \"DIS\"]\n",
    "show_chart(symbol)"
   ]
  },
  {
   "cell_type": "markdown",
   "metadata": {
    "id": "S8SRPmE_pHi8"
   },
   "source": [
    "## Twitter API"
   ]
  },
  {
   "cell_type": "markdown",
   "metadata": {
    "id": "8l1yY7JbGCiZ"
   },
   "source": [
    "Notes:\n",
    "\n",
    "  + Provides Twitter data in JSON format.\n",
    "  + Uses API Key authentication, passed via headers.\n",
    "\n",
    "\n",
    "\n",
    "References:\n",
    "\n",
    "  + https://developer.twitter.com/en\n",
    "  + https://developer.twitter.com/en/docs\n",
    "  + https://developer.twitter.com/en/docs/platform-overview\n",
    "  + https://developer.twitter.com/en/docs/api-reference-index\n",
    "  \n",
    "API Wrapper Package (`tweepy`):\n",
    "  + https://docs.tweepy.org/en/latest\n",
    "  + https://docs.tweepy.org/en/latest/api.html#api-reference\n",
    "  + https://docs.tweepy.org/en/latest/models.html\n",
    "\n",
    "> NOTE: it's probably easiest to use the `tweepy` wrapper package, mostly because it helps with authentication. But also because it converts the raw JSON data into more usable model objects (e.g. `tweepy.models.Status` or `tweepy.Tweet` objects, depending on the package version)."
   ]
  },
  {
   "cell_type": "code",
   "execution_count": null,
   "metadata": {
    "colab": {
     "base_uri": "https://localhost:8080/"
    },
    "id": "tq1xnhN0pH5R",
    "outputId": "2f5f6c43-468b-470e-d590-d354c95da296"
   },
   "outputs": [],
   "source": [
    "!pip install tweepy"
   ]
  },
  {
   "cell_type": "code",
   "execution_count": null,
   "metadata": {
    "colab": {
     "base_uri": "https://localhost:8080/"
    },
    "id": "xi4ceGVpIIRP",
    "outputId": "a8a40c29-a8e0-4094-b195-a7fc561abe33"
   },
   "outputs": [],
   "source": [
    "from getpass import getpass\n",
    "\n",
    "TWITTER_API_KEY = getpass(\"TWITTER_API_KEY: \")\n",
    "TWITTER_API_KEY_SECRET = getpass(\"TWITTER_API_KEY_SECRET: \")\n",
    "TWITTER_ACCESS_TOKEN = getpass(\"TWITTER_ACCESS_TOKEN: \")\n",
    "TWITTER_ACCESS_TOKEN_SECRET = getpass(\"TWITTER_ACCESS_TOKEN_SECRET: \")"
   ]
  },
  {
   "cell_type": "code",
   "execution_count": null,
   "metadata": {
    "colab": {
     "base_uri": "https://localhost:8080/"
    },
    "id": "VEGBQn1VIQO_",
    "outputId": "f93e3746-f40b-479a-9ff9-d5f1ae867246"
   },
   "outputs": [],
   "source": [
    "import tweepy\n",
    "\n",
    "# AUTHENTICATE\n",
    "auth = tweepy.OAuthHandler(TWITTER_API_KEY, TWITTER_API_KEY_SECRET)\n",
    "auth.set_access_token(TWITTER_ACCESS_TOKEN, TWITTER_ACCESS_TOKEN_SECRET)\n",
    "\n",
    "# INITIALIZE API CLIENT\n",
    "twitter_client = tweepy.API(auth)\n",
    "print(twitter_client)"
   ]
  },
  {
   "cell_type": "code",
   "execution_count": null,
   "metadata": {
    "colab": {
     "base_uri": "https://localhost:8080/"
    },
    "id": "cv-n3dI1IVDZ",
    "outputId": "1c9c249c-3588-4247-e17e-d9a131ef4ef8"
   },
   "outputs": [],
   "source": [
    "username = \"POTUS\"\n",
    "\n",
    "print(\"---------------------------------------------------------------\")\n",
    "print(f\"RECENT TWEETS BY @{username.upper()}:\")\n",
    "print(\"---------------------------------------------------------------\")\n",
    "\n",
    "tweets = twitter_client.user_timeline(username) \n",
    "\n",
    "for tweet in tweets:\n",
    "    created_on = tweet.created_at.strftime(\"%Y-%m-%d\")\n",
    "    print(created_on, \"|\", tweet.text)"
   ]
  },
  {
   "cell_type": "markdown",
   "metadata": {
    "id": "5CqXFhU3pKk5"
   },
   "source": [
    "## Spotify API"
   ]
  },
  {
   "cell_type": "markdown",
   "metadata": {
    "id": "WHeYOUpWUlGI"
   },
   "source": [
    "Notes:\n",
    "\n",
    "  + Provides Spotify data in JSON format.\n",
    "  + Uses API Key authentication, passed via headers.\n",
    "\n",
    "References:\n",
    "\n",
    "  + https://developer.spotify.com/documentation/web-api/\n",
    "  + https://developer.spotify.com/documentation/general/guides/authorization-guide\n",
    "  + https://developer.spotify.com/documentation/general/guides/scopes/\n",
    "\n",
    "API Wrapper Package (`spotipy`):\n",
    "  + https://github.com/plamere/spotipy\n",
    "  + https://github.com/plamere/spotipy#quick-start\n",
    "  + https://spotipy.readthedocs.io/en/latest/\n",
    "  + https://spotipy.readthedocs.io/en/latest/#client-credentials-flow\n",
    "  + https://spotipy.readthedocs.io/en/latest/#authorization-code-flow\n",
    "\n",
    "> NOTE: it's probably easiest to use the `spotipy` wrapper package, mostly because it helps with authentication. "
   ]
  },
  {
   "cell_type": "code",
   "execution_count": null,
   "metadata": {
    "colab": {
     "base_uri": "https://localhost:8080/"
    },
    "id": "PrZj9oi7pKAr",
    "outputId": "cbd98d49-1c09-4b93-e2ac-4f1bb09d0bbf"
   },
   "outputs": [],
   "source": [
    "!pip install urllib3 --upgrade # there is an issue with spotipy unless we use newer version\n",
    "!pip install requests --upgrade # there is an issue with spotipy unless we use newer version\n",
    "!pip install spotipy --upgrade"
   ]
  },
  {
   "cell_type": "code",
   "execution_count": null,
   "metadata": {
    "colab": {
     "base_uri": "https://localhost:8080/"
    },
    "id": "PPLWs4fLWDM9",
    "outputId": "bc1239e1-8a81-4553-a5d7-4699d5fa37bf"
   },
   "outputs": [],
   "source": [
    "\n",
    "#\n",
    "# SETUP\n",
    "#\n",
    "\n",
    "# this is the way we are setting env vars in colab\n",
    "# alternatively we could do %env SPOTIPY_CLIENT_ID=abcdefgh\n",
    "from getpass import getpass\n",
    "\n",
    "import os\n",
    "\n",
    "SPOTIPY_CLIENT_ID = getpass(\"Please enter your SPOTIPY_CLIENT_ID: \")\n",
    "SPOTIPY_CLIENT_SECRET = getpass(\"Please enter your SPOTIPY_CLIENT_SECRET: \")\n",
    "\n",
    "os.environ[\"SPOTIPY_CLIENT_ID\"] = SPOTIPY_CLIENT_ID # env var used implicitly by the spotipy package\n",
    "os.environ[\"SPOTIPY_CLIENT_SECRET\"] = SPOTIPY_CLIENT_SECRET # env var used implicitly by the spotipy package\n"
   ]
  },
  {
   "cell_type": "code",
   "execution_count": null,
   "metadata": {
    "colab": {
     "base_uri": "https://localhost:8080/"
    },
    "id": "mo5HyBvhWU10",
    "outputId": "036f065d-ee84-4418-fd01-aa5d38b0b73d"
   },
   "outputs": [],
   "source": [
    "from spotipy import Spotify\n",
    "from spotipy.oauth2 import SpotifyClientCredentials\n",
    "\n",
    "# FYI: implicitly checks for env vars named SPOTIPY_CLIENT_ID and SPOTIPY_CLIENT_SECRET \n",
    "client_credentials_manager = SpotifyClientCredentials()\n",
    "\n",
    "client = Spotify(client_credentials_manager=client_credentials_manager)\n",
    "print(\"CLIENT:\", type(client))"
   ]
  },
  {
   "cell_type": "code",
   "execution_count": null,
   "metadata": {
    "id": "2-9JOj8gWRBG"
   },
   "outputs": [],
   "source": [
    "from pandas import DataFrame\n",
    "from IPython.core.display import HTML\n",
    "\n",
    "# convert image URL to html h/t: https://towardsdatascience.com/rendering-images-inside-a-pandas-dataframe-3631a4883f60\n",
    "def img_html(url):\n",
    "    return '<img src=\"'+ url + '\" width=\"50\" >'\n",
    "\n",
    "def preview_html(url):\n",
    "    if url:\n",
    "        return '<a href=\"'+ url + '\" >Listen on Spotify</a>'\n",
    "    else:\n",
    "        return None\n",
    "\n",
    "def fetch_tracks(search_term):\n",
    "    results = client.search(q=search_term, limit=20)\n",
    "\n",
    "    tracks = results[\"tracks\"][\"items\"]\n",
    "\n",
    "    try:\n",
    "        del tracks[0][\"album\"][\"available_markets\"]\n",
    "    except:\n",
    "        pass\n",
    "\n",
    "    records = []\n",
    "    for index, track in enumerate(tracks):\n",
    "        #print(' ', index, \"|\", track['name'], \"|\", track[\"artists\"][0][\"name\"])\n",
    "        #print(track[\"preview_url\"])\n",
    "        record = {\n",
    "            \"index\": index,\n",
    "            \"name\": track['name'],\n",
    "            \"artist\": track[\"artists\"][0][\"name\"],\n",
    "            #\"duration_ms\": track['duration_ms'],\n",
    "            #\"explicit\":  track['explicit'],\n",
    "            \"popularity\": track[\"popularity\"],\n",
    "            \"preview_url\": preview_html(track[\"preview_url\"]),\n",
    "            \"album_art\": img_html(track[\"album\"][\"images\"][0][\"url\"])\n",
    "        }\n",
    "        records.append(record)\n",
    "\n",
    "    tracks_df = DataFrame(records)\n",
    "\n",
    "    tracks_table = HTML(tracks_df.to_html(escape=False, index=False, formatters=dict(Icon=img_html)))\n",
    "\n",
    "    #return tracks_table\n",
    "\n",
    "    display(tracks_table)"
   ]
  },
  {
   "cell_type": "code",
   "execution_count": null,
   "metadata": {
    "colab": {
     "base_uri": "https://localhost:8080/",
     "height": 1000
    },
    "id": "0DvUQ5XzYpGq",
    "outputId": "59df7061-2567-4324-d932-4e208436fdc0"
   },
   "outputs": [],
   "source": [
    "search_term = \"John Mayer\"\n",
    "fetch_tracks(search_term)"
   ]
  }
 ],
 "metadata": {
  "colab": {
   "name": "Copy of APIs Overview",
   "provenance": [],
   "toc_visible": true
  },
  "kernelspec": {
   "display_name": "Python 3 (ipykernel)",
   "language": "python",
   "name": "python3"
  },
  "language_info": {
   "codemirror_mode": {
    "name": "ipython",
    "version": 3
   },
   "file_extension": ".py",
   "mimetype": "text/x-python",
   "name": "python",
   "nbconvert_exporter": "python",
   "pygments_lexer": "ipython3",
   "version": "3.9.7"
  }
 },
 "nbformat": 4,
 "nbformat_minor": 1
}
