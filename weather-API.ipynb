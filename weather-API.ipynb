{
 "cells": [
  {
   "cell_type": "markdown",
   "metadata": {},
   "source": [
    "# Weather API"
   ]
  },
  {
   "cell_type": "code",
   "execution_count": 4,
   "metadata": {},
   "outputs": [],
   "source": [
    "import requests"
   ]
  },
  {
   "cell_type": "markdown",
   "metadata": {},
   "source": [
    "#### Open Weather Map!\n",
    "https://openweathermap.org/api"
   ]
  },
  {
   "cell_type": "markdown",
   "metadata": {},
   "source": [
    "#### API key\n",
    "* Please obtain your own API key here: \n",
    "https://home.openweathermap.org/users/sign_up\n",
    "* It takes up to two hours for the key to be active after generation\n",
    "* In the meantime you can use mine but please don't overuse it!!\n",
    "* Please, note that Forecast and History API are not available for Free subscribers"
   ]
  },
  {
   "cell_type": "code",
   "execution_count": 5,
   "metadata": {},
   "outputs": [],
   "source": [
    "# This is my API key - only for use in this class. \n",
    "# Please go get your own key after class. Don't keep using mine!!\n",
    "austins_api_key = '9eb078023ce1d3136bbb540b8fee91ca'"
   ]
  },
  {
   "cell_type": "markdown",
   "metadata": {},
   "source": [
    "## 1-a. Current Weather Data by zip code\n",
    "https://openweathermap.org/current"
   ]
  },
  {
   "cell_type": "code",
   "execution_count": 39,
   "metadata": {},
   "outputs": [
    {
     "data": {
      "text/plain": [
       "'http://api.openweathermap.org/data/2.5/weather?zip=37188,us&units=imperial&appid=9eb078023ce1d3136bbb540b8fee91ca'"
      ]
     },
     "execution_count": 39,
     "metadata": {},
     "output_type": "execute_result"
    }
   ],
   "source": [
    "# Make the API request\n",
    "zipcode = '37188' # this is the White House\n",
    "request_string = f'http://api.openweathermap.org/data/2.5/weather?zip={zipcode},us&units=imperial&appid={austins_api_key}'\n",
    "request_string"
   ]
  },
  {
   "cell_type": "code",
   "execution_count": 40,
   "metadata": {},
   "outputs": [
    {
     "name": "stdout",
     "output_type": "stream",
     "text": [
      "<Response [200]>\n"
     ]
    }
   ],
   "source": [
    "# examine the results code\n",
    "result = requests.get(request_string)\n",
    "print(result)"
   ]
  },
  {
   "cell_type": "code",
   "execution_count": 41,
   "metadata": {},
   "outputs": [
    {
     "data": {
      "text/plain": [
       "{'coord': {'lon': -86.6705, 'lat': 36.46},\n",
       " 'weather': [{'id': 803,\n",
       "   'main': 'Clouds',\n",
       "   'description': 'broken clouds',\n",
       "   'icon': '04n'}],\n",
       " 'base': 'stations',\n",
       " 'main': {'temp': 50.45,\n",
       "  'feels_like': 48.06,\n",
       "  'temp_min': 47.97,\n",
       "  'temp_max': 52.7,\n",
       "  'pressure': 1016,\n",
       "  'humidity': 61,\n",
       "  'sea_level': 1016,\n",
       "  'grnd_level': 984},\n",
       " 'visibility': 10000,\n",
       " 'wind': {'speed': 11.99, 'deg': 178, 'gust': 31.92},\n",
       " 'clouds': {'all': 67},\n",
       " 'dt': 1640348850,\n",
       " 'sys': {'type': 2,\n",
       "  'id': 2039286,\n",
       "  'country': 'US',\n",
       "  'sunrise': 1640350575,\n",
       "  'sunset': 1640385387},\n",
       " 'timezone': -21600,\n",
       " 'id': 0,\n",
       " 'name': 'White House',\n",
       " 'cod': 200}"
      ]
     },
     "execution_count": 41,
     "metadata": {},
     "output_type": "execute_result"
    }
   ],
   "source": [
    "# parse the json results\n",
    "weather_result = result.json()\n",
    "weather_result"
   ]
  },
  {
   "cell_type": "code",
   "execution_count": 43,
   "metadata": {},
   "outputs": [
    {
     "data": {
      "text/plain": [
       "50.45"
      ]
     },
     "execution_count": 43,
     "metadata": {},
     "output_type": "execute_result"
    }
   ],
   "source": [
    "# the parameter \"units=imperial\" means fahrenheit\n",
    "temperature_in_fahrenheit = weather_result[\"main\"][\"temp\"]\n",
    "temperature_in_fahrenheit\n"
   ]
  },
  {
   "cell_type": "code",
   "execution_count": 44,
   "metadata": {},
   "outputs": [
    {
     "data": {
      "text/plain": [
       "10.24"
      ]
     },
     "execution_count": 44,
     "metadata": {},
     "output_type": "execute_result"
    }
   ],
   "source": [
    "# how about Celsius?\n",
    "request_string = f'http://api.openweathermap.org/data/2.5/weather?zip={zipcode},us&units=metric&appid={austins_api_key}'\n",
    "weather_result = requests.get(request_string).json()\n",
    "temperature_in_celsius = weather_result[\"main\"][\"temp\"]\n",
    "temperature_in_celsius"
   ]
  },
  {
   "cell_type": "code",
   "execution_count": 45,
   "metadata": {},
   "outputs": [
    {
     "name": "stdout",
     "output_type": "stream",
     "text": [
      "The weather in 37188 is 50.45\n"
     ]
    }
   ],
   "source": [
    "print(f\"The weather in {zipcode} is {temperature_in_fahrenheit}\")"
   ]
  },
  {
   "cell_type": "code",
   "execution_count": 46,
   "metadata": {},
   "outputs": [
    {
     "name": "stdout",
     "output_type": "stream",
     "text": [
      "1640350575\n"
     ]
    }
   ],
   "source": [
    "# epoch/unix timestamp\n",
    "epoch_time=weather_result[\"sys\"][\"sunrise\"]\n",
    "print(epoch_time)"
   ]
  },
  {
   "cell_type": "code",
   "execution_count": 25,
   "metadata": {},
   "outputs": [
    {
     "name": "stdout",
     "output_type": "stream",
     "text": [
      "2021-12-24 07:56:15\n"
     ]
    }
   ],
   "source": [
    "import datetime\n",
    "datetime_time = datetime.datetime.fromtimestamp(epoch_time)\n",
    "print(datetime_time)"
   ]
  },
  {
   "cell_type": "markdown",
   "metadata": {},
   "source": [
    "## 1-a. Current Weather Data by Lat & Long\n",
    "https://openweathermap.org/current"
   ]
  },
  {
   "cell_type": "code",
   "execution_count": 31,
   "metadata": {},
   "outputs": [],
   "source": [
    "# the White House\n",
    "lon = '-77.0365'\n",
    "lat = '38.8977'"
   ]
  },
  {
   "cell_type": "code",
   "execution_count": 47,
   "metadata": {},
   "outputs": [],
   "source": [
    "request_string = f'http://api.openweathermap.org/data/2.5/weather?lat={lat}&lon={lon}&units=imperial&appid={austins_api_key}'"
   ]
  },
  {
   "cell_type": "code",
   "execution_count": 48,
   "metadata": {},
   "outputs": [
    {
     "name": "stdout",
     "output_type": "stream",
     "text": [
      "<Response [200]>\n"
     ]
    }
   ],
   "source": [
    "# examine the results code\n",
    "result = requests.get(request_string)\n",
    "print(result)"
   ]
  },
  {
   "cell_type": "code",
   "execution_count": 49,
   "metadata": {},
   "outputs": [
    {
     "data": {
      "text/plain": [
       "{'coord': {'lon': -77.0365, 'lat': 38.8977},\n",
       " 'weather': [{'id': 804,\n",
       "   'main': 'Clouds',\n",
       "   'description': 'overcast clouds',\n",
       "   'icon': '04d'}],\n",
       " 'base': 'stations',\n",
       " 'main': {'temp': 38.3,\n",
       "  'feels_like': 38.3,\n",
       "  'temp_min': 33.08,\n",
       "  'temp_max': 42.73,\n",
       "  'pressure': 1016,\n",
       "  'humidity': 64},\n",
       " 'visibility': 10000,\n",
       " 'wind': {'speed': 1.01, 'deg': 191, 'gust': 5.99},\n",
       " 'clouds': {'all': 90},\n",
       " 'dt': 1640349102,\n",
       " 'sys': {'type': 2,\n",
       "  'id': 2002287,\n",
       "  'country': 'US',\n",
       "  'sunrise': 1640348679,\n",
       "  'sunset': 1640382658},\n",
       " 'timezone': -18000,\n",
       " 'id': 4140963,\n",
       " 'name': 'Washington D.C.',\n",
       " 'cod': 200}"
      ]
     },
     "execution_count": 49,
     "metadata": {},
     "output_type": "execute_result"
    }
   ],
   "source": [
    "# parse the json results\n",
    "weather_result = result.json()\n",
    "weather_result"
   ]
  },
  {
   "cell_type": "code",
   "execution_count": 54,
   "metadata": {},
   "outputs": [],
   "source": [
    "# extract\n",
    "temp = weather_result['main']['temp']\n",
    "place = weather_result['name']"
   ]
  },
  {
   "cell_type": "code",
   "execution_count": 55,
   "metadata": {},
   "outputs": [
    {
     "name": "stdout",
     "output_type": "stream",
     "text": [
      "The temperature in Washington D.C. is 38.3!\n"
     ]
    }
   ],
   "source": [
    "# print\n",
    "print(f'The temperature in {place} is {temp}!')"
   ]
  },
  {
   "cell_type": "markdown",
   "metadata": {},
   "source": [
    "# 2. API Scavenger Hunt"
   ]
  },
  {
   "cell_type": "markdown",
   "metadata": {
    "id": "2UM0BjKEn9pv"
   },
   "source": [
    "\n",
    "### Use any API from the link below and make requests to answer as many questions as you can\n",
    "https://github.com/public-apis/public-apis"
   ]
  },
  {
   "cell_type": "code",
   "execution_count": null,
   "metadata": {
    "id": "K2LyZ0SQn9pw"
   },
   "outputs": [],
   "source": [
    "# A. How many Yen will my $100 US Dollars convert to at today's exchange rates?"
   ]
  },
  {
   "cell_type": "code",
   "execution_count": null,
   "metadata": {
    "id": "m2owsklVn9px"
   },
   "outputs": [],
   "source": [
    "# B. How many shares of MSFT can I buy for that same $100?"
   ]
  },
  {
   "cell_type": "code",
   "execution_count": null,
   "metadata": {
    "id": "vpf8yryNn9py"
   },
   "outputs": [],
   "source": [
    "# C. When is the next train arriving at _______? (choose any location)"
   ]
  },
  {
   "cell_type": "code",
   "execution_count": null,
   "metadata": {
    "id": "PvLjQcUfn9py"
   },
   "outputs": [],
   "source": [
    "# D. Find me a job posting to help my unemployed Graphic Designer friend."
   ]
  },
  {
   "cell_type": "code",
   "execution_count": null,
   "metadata": {
    "id": "ur2bpoUZn9py"
   },
   "outputs": [],
   "source": [
    "# E. My roommate says they study \"epistemology\". What does that even mean?"
   ]
  }
 ],
 "metadata": {
  "colab": {
   "name": "16. APIs – Solution.ipynb",
   "provenance": []
  },
  "kernelspec": {
   "display_name": "Python 3 (ipykernel)",
   "language": "python",
   "name": "python3"
  },
  "language_info": {
   "codemirror_mode": {
    "name": "ipython",
    "version": 3
   },
   "file_extension": ".py",
   "mimetype": "text/x-python",
   "name": "python",
   "nbconvert_exporter": "python",
   "pygments_lexer": "ipython3",
   "version": "3.9.7"
  }
 },
 "nbformat": 4,
 "nbformat_minor": 1
}
