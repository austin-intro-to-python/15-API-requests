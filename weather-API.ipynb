{
 "cells": [
  {
   "cell_type": "markdown",
   "metadata": {},
   "source": [
    "# Weather API"
   ]
  },
  {
   "cell_type": "code",
   "execution_count": 4,
   "metadata": {},
   "outputs": [],
   "source": [
    "import requests"
   ]
  },
  {
   "cell_type": "markdown",
   "metadata": {},
   "source": [
    "#### Open Weather Map!\n",
    "https://openweathermap.org/api"
   ]
  },
  {
   "cell_type": "markdown",
   "metadata": {},
   "source": [
    "#### API key\n",
    "* Please obtain your own API key here: \n",
    "https://home.openweathermap.org/users/sign_up\n",
    "* It takes up to two hours for the key to be active after generation\n",
    "* In the meantime you can use mine but please don't overuse it!!\n",
    "* Please, note that Forecast and History API are not available for Free subscribers"
   ]
  },
  {
   "cell_type": "code",
   "execution_count": 1,
   "metadata": {},
   "outputs": [],
   "source": [
    "# This is my API key - only for use in this class. \n",
    "# Please go get your own key after class. Don't keep using mine!!\n",
    "austins_api_key = '9eb078023ce1d3136bbb540b8fee91ca'"
   ]
  },
  {
   "cell_type": "markdown",
   "metadata": {},
   "source": [
    "## 1-a. Current Weather Data by zip code\n",
    "https://openweathermap.org/current"
   ]
  },
  {
   "cell_type": "code",
   "execution_count": 2,
   "metadata": {},
   "outputs": [
    {
     "data": {
      "text/plain": [
       "'http://api.openweathermap.org/data/2.5/weather?zip=37188,us&units=imperial&appid=9eb078023ce1d3136bbb540b8fee91ca'"
      ]
     },
     "execution_count": 2,
     "metadata": {},
     "output_type": "execute_result"
    }
   ],
   "source": [
    "# Make the API request\n",
    "zipcode = '37188' # this is the White House\n",
    "request_string = f'http://api.openweathermap.org/data/2.5/weather?zip={zipcode},us&units=imperial&appid={austins_api_key}'\n",
    "request_string"
   ]
  },
  {
   "cell_type": "code",
   "execution_count": 6,
   "metadata": {},
   "outputs": [
    {
     "name": "stdout",
     "output_type": "stream",
     "text": [
      "<Response [200]>\n"
     ]
    }
   ],
   "source": [
    "# examine the results code\n",
    "result = requests.get(request_string)\n",
    "print(result)"
   ]
  },
  {
   "cell_type": "code",
   "execution_count": 7,
   "metadata": {},
   "outputs": [
    {
     "data": {
      "text/plain": [
       "200"
      ]
     },
     "execution_count": 7,
     "metadata": {},
     "output_type": "execute_result"
    }
   ],
   "source": [
    "result.status_code"
   ]
  },
  {
   "cell_type": "code",
   "execution_count": 8,
   "metadata": {},
   "outputs": [
    {
     "data": {
      "text/plain": [
       "{'coord': {'lon': -86.6705, 'lat': 36.46},\n",
       " 'weather': [{'id': 800,\n",
       "   'main': 'Clear',\n",
       "   'description': 'clear sky',\n",
       "   'icon': '01n'}],\n",
       " 'base': 'stations',\n",
       " 'main': {'temp': 31.51,\n",
       "  'feels_like': 25.38,\n",
       "  'temp_min': 25.32,\n",
       "  'temp_max': 36.84,\n",
       "  'pressure': 1035,\n",
       "  'humidity': 69,\n",
       "  'sea_level': 1035,\n",
       "  'grnd_level': 1002},\n",
       " 'visibility': 10000,\n",
       " 'wind': {'speed': 6.35, 'deg': 298, 'gust': 19.44},\n",
       " 'clouds': {'all': 0},\n",
       " 'dt': 1641864995,\n",
       " 'sys': {'type': 2,\n",
       "  'id': 2039286,\n",
       "  'country': 'US',\n",
       "  'sunrise': 1641819515,\n",
       "  'sunset': 1641854967},\n",
       " 'timezone': -21600,\n",
       " 'id': 0,\n",
       " 'name': 'White House',\n",
       " 'cod': 200}"
      ]
     },
     "execution_count": 8,
     "metadata": {},
     "output_type": "execute_result"
    }
   ],
   "source": [
    "# parse the json results\n",
    "weather_result = result.json()\n",
    "weather_result"
   ]
  },
  {
   "cell_type": "code",
   "execution_count": 9,
   "metadata": {},
   "outputs": [
    {
     "data": {
      "text/plain": [
       "31.51"
      ]
     },
     "execution_count": 9,
     "metadata": {},
     "output_type": "execute_result"
    }
   ],
   "source": [
    "# the parameter \"units=imperial\" means fahrenheit\n",
    "temperature_in_fahrenheit = weather_result[\"main\"][\"temp\"]\n",
    "temperature_in_fahrenheit\n"
   ]
  },
  {
   "cell_type": "code",
   "execution_count": 10,
   "metadata": {},
   "outputs": [
    {
     "data": {
      "text/plain": [
       "-0.27"
      ]
     },
     "execution_count": 10,
     "metadata": {},
     "output_type": "execute_result"
    }
   ],
   "source": [
    "# how about Celsius?\n",
    "request_string = f'http://api.openweathermap.org/data/2.5/weather?zip={zipcode},us&units=metric&appid={austins_api_key}'\n",
    "weather_result = requests.get(request_string).json()\n",
    "temperature_in_celsius = weather_result[\"main\"][\"temp\"]\n",
    "temperature_in_celsius"
   ]
  },
  {
   "cell_type": "code",
   "execution_count": 11,
   "metadata": {},
   "outputs": [
    {
     "name": "stdout",
     "output_type": "stream",
     "text": [
      "The weather in 37188 is 31.51\n"
     ]
    }
   ],
   "source": [
    "print(f\"The weather in {zipcode} is {temperature_in_fahrenheit}\")"
   ]
  },
  {
   "cell_type": "markdown",
   "metadata": {},
   "source": [
    "### Sunrise"
   ]
  },
  {
   "cell_type": "code",
   "execution_count": 12,
   "metadata": {},
   "outputs": [
    {
     "name": "stdout",
     "output_type": "stream",
     "text": [
      "1641819515\n"
     ]
    }
   ],
   "source": [
    "# epoch/unix timestamp\n",
    "epoch_time=weather_result[\"sys\"][\"sunrise\"]\n",
    "print(epoch_time)"
   ]
  },
  {
   "cell_type": "code",
   "execution_count": 14,
   "metadata": {},
   "outputs": [
    {
     "name": "stdout",
     "output_type": "stream",
     "text": [
      "2022-01-10\n",
      "2022\n"
     ]
    }
   ],
   "source": [
    "import datetime\n",
    "datetime_time = datetime.datetime.fromtimestamp(epoch_time)\n",
    "print(datetime_time.date())\n",
    "print(str(datetime_time).split('-')[0])"
   ]
  },
  {
   "cell_type": "markdown",
   "metadata": {},
   "source": [
    "## 1-a. Current Weather Data by Lat & Long\n",
    "https://openweathermap.org/current"
   ]
  },
  {
   "cell_type": "code",
   "execution_count": 15,
   "metadata": {},
   "outputs": [],
   "source": [
    "# the White House\n",
    "lon = '-77.0365'\n",
    "lat = '38.8977'"
   ]
  },
  {
   "cell_type": "code",
   "execution_count": 16,
   "metadata": {},
   "outputs": [],
   "source": [
    "request_string = f'http://api.openweathermap.org/data/2.5/weather?lat={lat}&lon={lon}&units=imperial&appid={austins_api_key}'"
   ]
  },
  {
   "cell_type": "code",
   "execution_count": 17,
   "metadata": {},
   "outputs": [
    {
     "name": "stdout",
     "output_type": "stream",
     "text": [
      "<Response [200]>\n"
     ]
    }
   ],
   "source": [
    "# examine the results code\n",
    "result = requests.get(request_string)\n",
    "print(result)"
   ]
  },
  {
   "cell_type": "code",
   "execution_count": 18,
   "metadata": {},
   "outputs": [
    {
     "data": {
      "text/plain": [
       "{'coord': {'lon': -77.0365, 'lat': 38.895},\n",
       " 'weather': [{'id': 801,\n",
       "   'main': 'Clouds',\n",
       "   'description': 'few clouds',\n",
       "   'icon': '02n'}],\n",
       " 'base': 'stations',\n",
       " 'main': {'temp': 29.59,\n",
       "  'feels_like': 23.36,\n",
       "  'temp_min': 26.49,\n",
       "  'temp_max': 32.29,\n",
       "  'pressure': 1024,\n",
       "  'humidity': 51},\n",
       " 'visibility': 10000,\n",
       " 'wind': {'speed': 5.99, 'deg': 242, 'gust': 15.99},\n",
       " 'clouds': {'all': 20},\n",
       " 'dt': 1641865082,\n",
       " 'sys': {'type': 2,\n",
       "  'id': 2002287,\n",
       "  'country': 'US',\n",
       "  'sunrise': 1641817587,\n",
       "  'sunset': 1641852270},\n",
       " 'timezone': -18000,\n",
       " 'id': 4140963,\n",
       " 'name': 'Washington D.C.',\n",
       " 'cod': 200}"
      ]
     },
     "execution_count": 18,
     "metadata": {},
     "output_type": "execute_result"
    }
   ],
   "source": [
    "# parse the json results\n",
    "weather_result = result.json()\n",
    "weather_result"
   ]
  },
  {
   "cell_type": "code",
   "execution_count": null,
   "metadata": {},
   "outputs": [],
   "source": [
    "# extract\n",
    "temp = weather_result['main']['temp']\n",
    "place = weather_result['name']"
   ]
  },
  {
   "cell_type": "code",
   "execution_count": null,
   "metadata": {},
   "outputs": [],
   "source": [
    "# print\n",
    "print(f'The temperature in {place} is {temp}!')"
   ]
  },
  {
   "cell_type": "markdown",
   "metadata": {},
   "source": [
    "# 2. API Scavenger Hunt"
   ]
  },
  {
   "cell_type": "markdown",
   "metadata": {
    "id": "2UM0BjKEn9pv"
   },
   "source": [
    "\n",
    "### Use any API from the link below and make requests to answer as many questions as you can\n",
    "https://github.com/public-apis/public-apis"
   ]
  },
  {
   "cell_type": "code",
   "execution_count": null,
   "metadata": {
    "id": "K2LyZ0SQn9pw"
   },
   "outputs": [],
   "source": [
    "# A. How many Yen will my $100 US Dollars convert to at today's exchange rates?"
   ]
  },
  {
   "cell_type": "code",
   "execution_count": null,
   "metadata": {
    "id": "m2owsklVn9px"
   },
   "outputs": [],
   "source": [
    "# B. How many shares of MSFT can I buy for that same $100?"
   ]
  },
  {
   "cell_type": "code",
   "execution_count": null,
   "metadata": {
    "id": "vpf8yryNn9py"
   },
   "outputs": [],
   "source": [
    "# C. When is the next train arriving at _______? (choose any location)"
   ]
  },
  {
   "cell_type": "code",
   "execution_count": null,
   "metadata": {
    "id": "PvLjQcUfn9py"
   },
   "outputs": [],
   "source": [
    "# D. Find me a job posting to help my unemployed Graphic Designer friend."
   ]
  },
  {
   "cell_type": "code",
   "execution_count": null,
   "metadata": {
    "id": "ur2bpoUZn9py"
   },
   "outputs": [],
   "source": [
    "# E. My roommate says they study \"epistemology\". What does that even mean?"
   ]
  }
 ],
 "metadata": {
  "colab": {
   "name": "16. APIs – Solution.ipynb",
   "provenance": []
  },
  "kernelspec": {
   "display_name": "Python 3 (ipykernel)",
   "language": "python",
   "name": "python3"
  },
  "language_info": {
   "codemirror_mode": {
    "name": "ipython",
    "version": 3
   },
   "file_extension": ".py",
   "mimetype": "text/x-python",
   "name": "python",
   "nbconvert_exporter": "python",
   "pygments_lexer": "ipython3",
   "version": "3.9.7"
  }
 },
 "nbformat": 4,
 "nbformat_minor": 1
}
