{
 "cells": [
  {
   "cell_type": "markdown",
   "metadata": {},
   "source": [
    "# Weather API"
   ]
  },
  {
   "cell_type": "code",
   "execution_count": null,
   "metadata": {},
   "outputs": [],
   "source": [
    "import requests"
   ]
  },
  {
   "cell_type": "markdown",
   "metadata": {},
   "source": [
    "#### Open Weather Map!\n",
    "https://openweathermap.org/api"
   ]
  },
  {
   "cell_type": "markdown",
   "metadata": {},
   "source": [
    "#### API key\n",
    "* Please obtain your own API key here: \n",
    "https://home.openweathermap.org/users/sign_up\n",
    "* It takes up to two hours for the key to be active after generation\n",
    "* In the meantime you can use mine but please don't overuse it!!"
   ]
  },
  {
   "cell_type": "code",
   "execution_count": 48,
   "metadata": {},
   "outputs": [],
   "source": [
    "# This is my API key - only for use in this class. \n",
    "# Please go get your own key after class. Don't keep using mine!!\n",
    "austins_api_key = '9eb078023ce1d3136bbb540b8fee91ca'"
   ]
  },
  {
   "cell_type": "markdown",
   "metadata": {},
   "source": [
    "## 1. Current Weather Data\n",
    "https://openweathermap.org/current"
   ]
  },
  {
   "cell_type": "code",
   "execution_count": 49,
   "metadata": {},
   "outputs": [
    {
     "data": {
      "text/plain": [
       "'http://api.openweathermap.org/data/2.5/weather?zip=37188,us&appid=9eb078023ce1d3136bbb540b8fee91ca'"
      ]
     },
     "execution_count": 49,
     "metadata": {},
     "output_type": "execute_result"
    }
   ],
   "source": [
    "# Make the API request\n",
    "zipcode = '37188'\n",
    "request_string = f'http://api.openweathermap.org/data/2.5/weather?zip={zipcode},us&appid={austins_api_key}'\n",
    "request_string"
   ]
  },
  {
   "cell_type": "code",
   "execution_count": 50,
   "metadata": {},
   "outputs": [
    {
     "name": "stdout",
     "output_type": "stream",
     "text": [
      "<Response [200]>\n"
     ]
    }
   ],
   "source": [
    "# examine the results code\n",
    "result = requests.get(request_string)\n",
    "print(result)"
   ]
  },
  {
   "cell_type": "code",
   "execution_count": 52,
   "metadata": {},
   "outputs": [
    {
     "data": {
      "text/plain": [
       "{'coord': {'lon': -86.6705, 'lat': 36.46},\n",
       " 'weather': [{'id': 803,\n",
       "   'main': 'Clouds',\n",
       "   'description': 'broken clouds',\n",
       "   'icon': '04n'}],\n",
       " 'base': 'stations',\n",
       " 'main': {'temp': 283.34,\n",
       "  'feels_like': 281.96,\n",
       "  'temp_min': 282.02,\n",
       "  'temp_max': 284.82,\n",
       "  'pressure': 1016,\n",
       "  'humidity': 59,\n",
       "  'sea_level': 1016,\n",
       "  'grnd_level': 984},\n",
       " 'visibility': 10000,\n",
       " 'wind': {'speed': 5.36, 'deg': 178, 'gust': 14.27},\n",
       " 'clouds': {'all': 67},\n",
       " 'dt': 1640346706,\n",
       " 'sys': {'type': 2,\n",
       "  'id': 2039286,\n",
       "  'country': 'US',\n",
       "  'sunrise': 1640350575,\n",
       "  'sunset': 1640385387},\n",
       " 'timezone': -21600,\n",
       " 'id': 0,\n",
       " 'name': 'White House',\n",
       " 'cod': 200}"
      ]
     },
     "execution_count": 52,
     "metadata": {},
     "output_type": "execute_result"
    }
   ],
   "source": [
    "# parse the json results\n",
    "weather_result = result.json()\n",
    "weather_result"
   ]
  },
  {
   "cell_type": "code",
   "execution_count": 53,
   "metadata": {},
   "outputs": [],
   "source": [
    "# convert to fahrenheit\n",
    "temperature = weather_result[\"main\"][\"temp\"]\n",
    "temperature_in_fahrenheit = (temperature - 273.15) * 9/5 + 32"
   ]
  },
  {
   "cell_type": "code",
   "execution_count": 32,
   "metadata": {},
   "outputs": [
    {
     "name": "stdout",
     "output_type": "stream",
     "text": [
      "The weather in 37188 is 50.342\n"
     ]
    }
   ],
   "source": [
    "print(f\"The weather in {zipcode} is {temperature_in_fahrenheit}\")"
   ]
  },
  {
   "cell_type": "markdown",
   "metadata": {},
   "source": [
    "## 2. Forecast Data\n",
    "https://openweathermap.org/forecast16"
   ]
  },
  {
   "cell_type": "code",
   "execution_count": 70,
   "metadata": {},
   "outputs": [],
   "source": [
    "# How many days in the future would you like the forecast? (choose up to 16)\n",
    "count=5"
   ]
  },
  {
   "cell_type": "code",
   "execution_count": 71,
   "metadata": {},
   "outputs": [],
   "source": [
    "# define the URL string\n",
    "zipcode = '37188'\n",
    "request_string = f\"http://api.openweathermap.org/data/2.5/forecast/daily?zip={zipcode}&units=metric&cnt={count}&appid={austins_api_key}\""
   ]
  },
  {
   "cell_type": "code",
   "execution_count": 72,
   "metadata": {},
   "outputs": [],
   "source": [
    "# request the API and parse the results\n",
    "result = requests.get(request_string)\n",
    "weather_result = result.json()"
   ]
  },
  {
   "cell_type": "code",
   "execution_count": 73,
   "metadata": {},
   "outputs": [
    {
     "data": {
      "text/plain": [
       "dict_keys(['cod', 'message'])"
      ]
     },
     "execution_count": 73,
     "metadata": {},
     "output_type": "execute_result"
    }
   ],
   "source": [
    "weather_result.keys()"
   ]
  },
  {
   "cell_type": "code",
   "execution_count": 35,
   "metadata": {},
   "outputs": [
    {
     "ename": "KeyError",
     "evalue": "'list'",
     "output_type": "error",
     "traceback": [
      "\u001b[0;31m---------------------------------------------------------------------------\u001b[0m",
      "\u001b[0;31mKeyError\u001b[0m                                  Traceback (most recent call last)",
      "\u001b[0;32m/var/folders/2l/f34xc_012glb01q2tq40qxgw0000gn/T/ipykernel_58799/189075510.py\u001b[0m in \u001b[0;36m<module>\u001b[0;34m\u001b[0m\n\u001b[1;32m      1\u001b[0m \u001b[0;31m# loop through the list and display each day's result\u001b[0m\u001b[0;34m\u001b[0m\u001b[0;34m\u001b[0m\u001b[0m\n\u001b[1;32m      2\u001b[0m \u001b[0mday_number\u001b[0m \u001b[0;34m=\u001b[0m \u001b[0;36m1\u001b[0m\u001b[0;34m\u001b[0m\u001b[0;34m\u001b[0m\u001b[0m\n\u001b[0;32m----> 3\u001b[0;31m \u001b[0;32mfor\u001b[0m \u001b[0mresult\u001b[0m \u001b[0;32min\u001b[0m \u001b[0mweather_result\u001b[0m\u001b[0;34m[\u001b[0m\u001b[0;34m\"list\"\u001b[0m\u001b[0;34m]\u001b[0m\u001b[0;34m:\u001b[0m\u001b[0;34m\u001b[0m\u001b[0;34m\u001b[0m\u001b[0m\n\u001b[0m\u001b[1;32m      4\u001b[0m     \u001b[0mtemperature\u001b[0m \u001b[0;34m=\u001b[0m \u001b[0mresult\u001b[0m\u001b[0;34m[\u001b[0m\u001b[0;34m\"temp\"\u001b[0m\u001b[0;34m]\u001b[0m\u001b[0;34m[\u001b[0m\u001b[0;34m\"day\"\u001b[0m\u001b[0;34m]\u001b[0m\u001b[0;34m\u001b[0m\u001b[0;34m\u001b[0m\u001b[0m\n\u001b[1;32m      5\u001b[0m     \u001b[0mtemperature_in_fahrenheit\u001b[0m \u001b[0;34m=\u001b[0m \u001b[0;34m(\u001b[0m\u001b[0mtemperature\u001b[0m \u001b[0;34m-\u001b[0m \u001b[0;36m273.15\u001b[0m\u001b[0;34m)\u001b[0m \u001b[0;34m*\u001b[0m \u001b[0;36m9\u001b[0m\u001b[0;34m/\u001b[0m\u001b[0;36m5\u001b[0m \u001b[0;34m+\u001b[0m \u001b[0;36m32\u001b[0m\u001b[0;34m\u001b[0m\u001b[0;34m\u001b[0m\u001b[0m\n",
      "\u001b[0;31mKeyError\u001b[0m: 'list'"
     ]
    }
   ],
   "source": [
    "# loop through the list and display each day's result\n",
    "day_number = 1\n",
    "for result in weather_result[\"list\"]:\n",
    "    temperature = result[\"temp\"][\"day\"]\n",
    "    temperature_in_fahrenheit = (temperature - 273.15) * 9/5 + 32\n",
    "    print(f\"On day {day_number} it will be {temperature_in_fahrenheit} degrees during the day\")\n",
    "    day_number += 1"
   ]
  },
  {
   "cell_type": "markdown",
   "metadata": {},
   "source": [
    "# 2. API Scavenger Hunt"
   ]
  },
  {
   "cell_type": "markdown",
   "metadata": {
    "id": "2UM0BjKEn9pv"
   },
   "source": [
    "\n",
    "### Use any API from the link below and make requests to answer as many questions as you can\n",
    "https://github.com/public-apis/public-apis"
   ]
  },
  {
   "cell_type": "code",
   "execution_count": null,
   "metadata": {
    "id": "K2LyZ0SQn9pw"
   },
   "outputs": [],
   "source": [
    "# A. How many Yen will my $100 US Dollars convert to at today's exchange rates?"
   ]
  },
  {
   "cell_type": "code",
   "execution_count": null,
   "metadata": {
    "id": "m2owsklVn9px"
   },
   "outputs": [],
   "source": [
    "# B. How many shares of MSFT can I buy for that same $100?"
   ]
  },
  {
   "cell_type": "code",
   "execution_count": null,
   "metadata": {
    "id": "vpf8yryNn9py"
   },
   "outputs": [],
   "source": [
    "# C. When is the next train arriving at _______? (choose any location)"
   ]
  },
  {
   "cell_type": "code",
   "execution_count": null,
   "metadata": {
    "id": "PvLjQcUfn9py"
   },
   "outputs": [],
   "source": [
    "# D. Find me a job posting to help my unemployed Graphic Designer friend."
   ]
  },
  {
   "cell_type": "code",
   "execution_count": null,
   "metadata": {
    "id": "ur2bpoUZn9py"
   },
   "outputs": [],
   "source": [
    "# E. My roommate says they study \"epistemology\". What does that even mean?"
   ]
  }
 ],
 "metadata": {
  "colab": {
   "name": "16. APIs – Solution.ipynb",
   "provenance": []
  },
  "kernelspec": {
   "display_name": "Python 3 (ipykernel)",
   "language": "python",
   "name": "python3"
  },
  "language_info": {
   "codemirror_mode": {
    "name": "ipython",
    "version": 3
   },
   "file_extension": ".py",
   "mimetype": "text/x-python",
   "name": "python",
   "nbconvert_exporter": "python",
   "pygments_lexer": "ipython3",
   "version": "3.9.7"
  }
 },
 "nbformat": 4,
 "nbformat_minor": 1
}
