{
 "cells": [
  {
   "cell_type": "markdown",
   "metadata": {},
   "source": [
    "# 1. Weather You Like It Or Not"
   ]
  },
  {
   "cell_type": "code",
   "execution_count": null,
   "metadata": {
    "id": "BQiDRDCTn-Si"
   },
   "outputs": [],
   "source": [
    "\n",
    "# Complete the weather application below\n",
    "\n",
    "command = \"\"\n",
    "while(command != \"q\"):\n",
    "    command = input(\"Choose [c] for current weather, [f] for a forecast, and [q] to quit.\")\n",
    "    if(command == \"c\"):\n",
    "        location = input(\"What location would you like the current weather for: \")\n",
    "        # A. Use the location string to send a search query to this endpoint: \n",
    "        # https://openweathermap.org/current#one\n",
    "        # Then, print \"The weather in _____ is _______ degrees\" using the location and temperature result\n",
    "    if(command == \"f\"):\n",
    "        location = input(\"What location would you like a forecast for?\")\n",
    "        count = input(\"How many days would you like (choose up to 16)\")\n",
    "        # B. Use the location and count variables for a request to this endpoint: \n",
    "        # https://openweathermap.org/forecast16#16days\n",
    "        # Then, loop through the list and display each day's result however you'd like"
   ]
  },
  {
   "cell_type": "markdown",
   "metadata": {},
   "source": [
    "# 2. API Scavenger Hunt"
   ]
  },
  {
   "cell_type": "code",
   "execution_count": null,
   "metadata": {
    "id": "kXRu6S2Wn-Sj"
   },
   "outputs": [],
   "source": [
    "# Use any API from the link below and make requests to answer as many questions as you can\n",
    "# https://github.com/public-apis/public-apis"
   ]
  },
  {
   "cell_type": "code",
   "execution_count": null,
   "metadata": {
    "id": "k_mpJ4F2n-Sl"
   },
   "outputs": [],
   "source": [
    "# A. How many Yen will my $100 US Dollars convert to at today's exchange rates?"
   ]
  },
  {
   "cell_type": "code",
   "execution_count": null,
   "metadata": {
    "id": "idEpReC4n-Sm"
   },
   "outputs": [],
   "source": [
    "# B. How many shares of MSFT can I buy for that same $100?"
   ]
  },
  {
   "cell_type": "code",
   "execution_count": null,
   "metadata": {
    "id": "7QW9gi2fn-Sm"
   },
   "outputs": [],
   "source": [
    "# C. When is the next train arriving at _______? (choose any location)"
   ]
  },
  {
   "cell_type": "code",
   "execution_count": null,
   "metadata": {
    "id": "XVmiCxpAn-Sn"
   },
   "outputs": [],
   "source": [
    "# D. Find me a job posting to help my unemployed Graphic Designer friend."
   ]
  },
  {
   "cell_type": "code",
   "execution_count": null,
   "metadata": {
    "id": "q_OImpkTn-Sn"
   },
   "outputs": [],
   "source": [
    "# E. My roommate says they study \"epistemology\". What does that even mean?"
   ]
  }
 ],
 "metadata": {
  "colab": {
   "name": "16. APIs.ipynb",
   "provenance": []
  },
  "kernelspec": {
   "display_name": "Python 3 (ipykernel)",
   "language": "python",
   "name": "python3"
  },
  "language_info": {
   "codemirror_mode": {
    "name": "ipython",
    "version": 3
   },
   "file_extension": ".py",
   "mimetype": "text/x-python",
   "name": "python",
   "nbconvert_exporter": "python",
   "pygments_lexer": "ipython3",
   "version": "3.9.7"
  }
 },
 "nbformat": 4,
 "nbformat_minor": 1
}
