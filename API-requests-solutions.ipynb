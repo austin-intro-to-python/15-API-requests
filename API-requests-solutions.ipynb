{
 "cells": [
  {
   "cell_type": "code",
   "execution_count": null,
   "metadata": {
    "id": "Fj-WnGbwn9pt",
    "scrolled": true
   },
   "outputs": [],
   "source": [
    "# 7.1 Weather You Like It Or Not\n",
    "# Complete the weather application below\n",
    "# %pip install requests\n",
    "import requests\n",
    "command = \"\"\n",
    "api_key = \"YOUR_KEY_HERE\"\n",
    "while(command != \"q\"):\n",
    "    command = input(\"Choose [c] for current weather, [f] for a forecast, and [q] to quit.\")\n",
    "    if(command == \"c\"):\n",
    "        location = input(\"What location would you like the current weather for: \")\n",
    "        # A. Use the location string to send a search query to this endpoint: \n",
    "        # https://openweathermap.org/current#one\n",
    "        # Then, print \"The weather in _____ is _______ degrees\" using the location and temperature result\n",
    "        request_string = f\"http://api.openweathermap.org/data/2.5/weather?q={location}&appid={api_key}\"\n",
    "        weather_result = requests.get(request_string)\n",
    "        weather_result = weather_result.json()\n",
    "        temperature = weather_result[\"main\"][\"temp\"]\n",
    "        temperature_in_fahrenheit = (temperature - 273.15) * 9/5 + 32\n",
    "        print(f\"The weather in {location} is {temperature_in_fahrenheit}\")\n",
    "    if(command == \"f\"):\n",
    "        location = input(\"What location would you like a forecast for?\")\n",
    "        count = input(\"How many days would you like (choose up to 16)\")\n",
    "        # B. Use the location and count variables for a request to this endpoint: \n",
    "        # https://openweathermap.org/forecast16#16days\n",
    "        # Then, loop through the list and display each day's result however you'd like\n",
    "        request_string = f\"http://api.openweathermap.org/data/2.5/forecast/daily?q={location}&cnt={count}&appid={api_key}\"\n",
    "        weather_result = requests.get(request_string)\n",
    "        weather_result = weather_result.json()\n",
    "        day_number = 1\n",
    "        for result in weather_result[\"list\"]:\n",
    "            temperature = result[\"temp\"][\"day\"]\n",
    "            temperature_in_fahrenheit = (temperature - 273.15) * 9/5 + 32\n",
    "            print(f\"On day {day_number} it will be {temperature_in_fahrenheit} degrees during the day\")\n",
    "            day_number += 1"
   ]
  },
  {
   "cell_type": "code",
   "execution_count": null,
   "metadata": {
    "id": "2UM0BjKEn9pv"
   },
   "outputs": [],
   "source": [
    "# 7.2 API Scavenger Hunt\n",
    "# Use any API from the link below and make requests to answer as many questions as you can\n",
    "# https://github.com/public-apis/public-apis"
   ]
  },
  {
   "cell_type": "code",
   "execution_count": null,
   "metadata": {
    "id": "K2LyZ0SQn9pw"
   },
   "outputs": [],
   "source": [
    "# A. How many Yen will my $100 US Dollars convert to at today's exchange rates?"
   ]
  },
  {
   "cell_type": "code",
   "execution_count": null,
   "metadata": {
    "id": "m2owsklVn9px"
   },
   "outputs": [],
   "source": [
    "# B. How many shares of MSFT can I buy for that same $100?"
   ]
  },
  {
   "cell_type": "code",
   "execution_count": null,
   "metadata": {
    "id": "vpf8yryNn9py"
   },
   "outputs": [],
   "source": [
    "# C. When is the next train arriving at _______? (choose any location)"
   ]
  },
  {
   "cell_type": "code",
   "execution_count": null,
   "metadata": {
    "id": "PvLjQcUfn9py"
   },
   "outputs": [],
   "source": [
    "# D. Find me a job posting to help my unemployed Graphic Designer friend."
   ]
  },
  {
   "cell_type": "code",
   "execution_count": null,
   "metadata": {
    "id": "ur2bpoUZn9py"
   },
   "outputs": [],
   "source": [
    "# E. My roommate says they study \"epistemology\". What does that even mean?"
   ]
  }
 ],
 "metadata": {
  "colab": {
   "name": "16. APIs – Solution.ipynb",
   "provenance": []
  },
  "kernelspec": {
   "display_name": "Python 3 (ipykernel)",
   "language": "python",
   "name": "python3"
  },
  "language_info": {
   "codemirror_mode": {
    "name": "ipython",
    "version": 3
   },
   "file_extension": ".py",
   "mimetype": "text/x-python",
   "name": "python",
   "nbconvert_exporter": "python",
   "pygments_lexer": "ipython3",
   "version": "3.9.7"
  }
 },
 "nbformat": 4,
 "nbformat_minor": 1
}
